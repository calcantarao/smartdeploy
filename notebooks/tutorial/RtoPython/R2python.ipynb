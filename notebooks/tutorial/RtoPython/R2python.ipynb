{
 "cells": [
  {
   "cell_type": "markdown",
   "id": "b31b7134-6cfb-4fac-a70f-f4fc2efa3f82",
   "metadata": {},
   "source": [
    "# Llamar codigo R desde Python"
   ]
  },
  {
   "cell_type": "markdown",
   "id": "b90a1332-3f37-4a10-ba81-f537083fe5fe",
   "metadata": {},
   "source": [
    "## Cargar la funcion desde el archivo training.R"
   ]
  },
  {
   "cell_type": "code",
   "execution_count": 2,
   "id": "3a1b0a73-83ed-4fdf-9dcd-b5efd4bbde09",
   "metadata": {
    "tags": []
   },
   "outputs": [
    {
     "data": {
      "text/plain": [
       "<rpy2.robjects.functions.SignatureTranslatedFunction object at 0x7fc962189ec0> [RTYPES.CLOSXP]\n",
       "R classes: ('function',)"
      ]
     },
     "execution_count": 2,
     "metadata": {},
     "output_type": "execute_result"
    }
   ],
   "source": [
    "import rpy2.robjects as robjects\n",
    "training = robjects.r.source(\"./training.R\", encoding=\"utf-8\")[0]\n",
    "training"
   ]
  },
  {
   "cell_type": "markdown",
   "id": "afca94dc-14d0-466a-97f8-edafe0624d25",
   "metadata": {},
   "source": [
    "## Mostrar el codigo de la funcion en R"
   ]
  },
  {
   "cell_type": "code",
   "execution_count": 3,
   "id": "2b180a85-c4e4-4e60-86f7-4897f9e2cd19",
   "metadata": {
    "tags": []
   },
   "outputs": [
    {
     "name": "stdout",
     "output_type": "stream",
     "text": [
      "function (name) \n",
      "{\n",
      "    model <- mlflow_load_model(model_uri = name)\n",
      "    return(model)\n",
      "}\n"
     ]
    }
   ],
   "source": [
    "print(training.r_repr())"
   ]
  },
  {
   "cell_type": "markdown",
   "id": "9c533bbb-eca9-4a9c-8f90-7f7d82bee06c",
   "metadata": {},
   "source": [
    "## Ejecutar la funcion con un input"
   ]
  },
  {
   "cell_type": "code",
   "execution_count": 4,
   "id": "3436eb1c-0a93-487e-88cb-1a7cac728195",
   "metadata": {
    "tags": []
   },
   "outputs": [
    {
     "data": {
      "text/plain": [
       "<rpy2.robjects.functions.SignatureTranslatedFunction object at 0x7fc96c866b40> [RTYPES.CLOSXP]\n",
       "R classes: ('function',)"
      ]
     },
     "execution_count": 4,
     "metadata": {},
     "output_type": "execute_result"
    }
   ],
   "source": [
    "get_model_R = robjects.r(\"get_model\")\n",
    "get_model_R"
   ]
  },
  {
   "cell_type": "code",
   "execution_count": 5,
   "id": "1a0020e6-38b3-4278-a565-fbc911b7edfa",
   "metadata": {
    "tags": []
   },
   "outputs": [
    {
     "data": {
      "text/html": [
       "\n",
       "        <span>ListVector with 3 elements.</span>\n",
       "        <table>\n",
       "        <tbody>\n",
       "        \n",
       "          <tr>\n",
       "            <th>\n",
       "            handle\n",
       "            </th>\n",
       "            <td>\n",
       "            <rpy2.rinterface.SexpExtPtr object at 0x7fc962265a80> [RTYPES.EXTPTRSXP]\n",
       "            </td>\n",
       "          </tr>\n",
       "        \n",
       "          <tr>\n",
       "            <th>\n",
       "            raw\n",
       "            </th>\n",
       "            <td>\n",
       "            <rpy2.rinterface.ByteSexpVector object at 0x7fc9622652c0> [RTYPES.RAWSXP]\n",
       "            </td>\n",
       "          </tr>\n",
       "        \n",
       "          <tr>\n",
       "            <th>\n",
       "            niter\n",
       "            </th>\n",
       "            <td>\n",
       "            <rpy2.rinterface.IntSexpVector object at 0x7fc962265480> [RTYPES.INTSXP]\n",
       "            </td>\n",
       "          </tr>\n",
       "        \n",
       "        </tbody>\n",
       "        </table>\n",
       "        "
      ],
      "text/plain": [
       "<rpy2.robjects.vectors.ListVector object at 0x7fc9842818c0> [RTYPES.VECSXP]\n",
       "R classes: ('xgb.Booster',)\n",
       "[SexpExtPtr, ByteSexpVector, IntSexpVector]\n",
       "  handle: <class 'rpy2.rinterface.SexpExtPtr'>\n",
       "  <rpy2.rinterface.SexpExtPtr object at 0x7fc962265540> [RTYPES.EXTPTRSXP]\n",
       "  raw: <class 'rpy2.rinterface.ByteSexpVector'>\n",
       "  <rpy2.rinterface.ByteSexpVector object at 0x7fc962265340> [RTYPES.RAWSXP]\n",
       "  niter: <class 'rpy2.rinterface.IntSexpVector'>\n",
       "  <rpy2.rinterface.IntSexpVector object at 0x7fc962265580> [RTYPES.INTSXP]"
      ]
     },
     "execution_count": 5,
     "metadata": {},
     "output_type": "execute_result"
    }
   ],
   "source": [
    "model_name = \"models:/model1_R/1\"\n",
    "model_R = get_model_R(model_name)\n",
    "model_R"
   ]
  },
  {
   "cell_type": "code",
   "execution_count": 10,
   "id": "f2236c2c-7339-4d3a-a7d7-270bb07eaa86",
   "metadata": {},
   "outputs": [
    {
     "data": {
      "text/plain": [
       "<rpy2.rinterface.SexpExtPtr object at 0x7f7c12a8d5c0> [RTYPES.EXTPTRSXP]"
      ]
     },
     "execution_count": 10,
     "metadata": {},
     "output_type": "execute_result"
    }
   ],
   "source": [
    "aux = model_R[0]\n",
    "aux"
   ]
  },
  {
   "cell_type": "code",
   "execution_count": 6,
   "id": "0bd3ca72-bded-487e-87f1-c27a6d415eee",
   "metadata": {
    "tags": []
   },
   "outputs": [],
   "source": [
    "%load_ext rpy2.ipython"
   ]
  },
  {
   "cell_type": "code",
   "execution_count": 7,
   "id": "90dc5eac-9819-4ab4-bacf-aa2d41f1fb45",
   "metadata": {
    "tags": []
   },
   "outputs": [
    {
     "name": "stdout",
     "output_type": "stream",
     "text": [
      "[1] \"R version 4.2.2 (2022-10-31)\"\n"
     ]
    }
   ],
   "source": [
    "%%R\n",
    "\n",
    "#R -i df\n",
    "R.version.string"
   ]
  },
  {
   "cell_type": "code",
   "execution_count": 8,
   "id": "1da1e4fc-3ccc-491c-9776-2c21d3c2dff1",
   "metadata": {
    "tags": []
   },
   "outputs": [
    {
     "name": "stdout",
     "output_type": "stream",
     "text": [
      "##### xgb.Booster\n",
      "raw: 88 Kb \n",
      "xgb.attributes:\n",
      "  niter\n",
      "niter: 99\n"
     ]
    }
   ],
   "source": [
    "%%R\n",
    "\n",
    "library(mlflow)\n",
    "Sys.setenv(MLFLOW_BIN=system(\"which mlflow\", intern=TRUE))\n",
    "Sys.setenv(MLFLOW_PYTHON_BIN=system(\"which python\", intern=TRUE))\n",
    "\n",
    "get_model <- function(name) {\n",
    "    model <- mlflow_load_model(model_uri=name)\n",
    "    return(model)\n",
    "}\n",
    "model_name <- \"models:/model1_R/1\"\n",
    "get_model(model_name)"
   ]
  },
  {
   "cell_type": "code",
   "execution_count": 10,
   "id": "cf0035d2-cdfb-4011-be09-dcfcff27f4f2",
   "metadata": {
    "tags": []
   },
   "outputs": [
    {
     "data": {
      "text/html": [
       "\n",
       "        <span>ListVector with 3 elements.</span>\n",
       "        <table>\n",
       "        <tbody>\n",
       "        \n",
       "          <tr>\n",
       "            <th>\n",
       "            handle\n",
       "            </th>\n",
       "            <td>\n",
       "            <rpy2.rinterface.SexpExtPtr object at 0x7fc8b23af900> [RTYPES.EXTPTRSXP]\n",
       "            </td>\n",
       "          </tr>\n",
       "        \n",
       "          <tr>\n",
       "            <th>\n",
       "            raw\n",
       "            </th>\n",
       "            <td>\n",
       "            <rpy2.rinterface.ByteSexpVector object at 0x7fc8a91aa180> [RTYPES.RAWSXP]\n",
       "            </td>\n",
       "          </tr>\n",
       "        \n",
       "          <tr>\n",
       "            <th>\n",
       "            niter\n",
       "            </th>\n",
       "            <td>\n",
       "            <rpy2.rinterface.IntSexpVector object at 0x7fc8a91aa1c0> [RTYPES.INTSXP]\n",
       "            </td>\n",
       "          </tr>\n",
       "        \n",
       "        </tbody>\n",
       "        </table>\n",
       "        "
      ],
      "text/plain": [
       "<rpy2.robjects.vectors.ListVector object at 0x7fc8a91a7cc0> [RTYPES.VECSXP]\n",
       "R classes: ('xgb.Booster',)\n",
       "[SexpExtPtr, ByteSexpVector, IntSexpVector]\n",
       "  handle: <class 'rpy2.rinterface.SexpExtPtr'>\n",
       "  <rpy2.rinterface.SexpExtPtr object at 0x7fc8a91a70c0> [RTYPES.EXTPTRSXP]\n",
       "  raw: <class 'rpy2.rinterface.ByteSexpVector'>\n",
       "  <rpy2.rinterface.ByteSexpVector object at 0x7fc8a91a7e80> [RTYPES.RAWSXP]\n",
       "  niter: <class 'rpy2.rinterface.IntSexpVector'>\n",
       "  <rpy2.rinterface.IntSexpVector object at 0x7fc8a91a7d80> [RTYPES.INTSXP]"
      ]
     },
     "execution_count": 10,
     "metadata": {},
     "output_type": "execute_result"
    }
   ],
   "source": [
    "model_name = \"models:/model1_R/1\"\n",
    "get_model_R = robjects.r['get_model']\n",
    "get_model_R(model_name)"
   ]
  },
  {
   "cell_type": "markdown",
   "id": "315182a0-4d23-4c2b-a8f2-e77449c0135a",
   "metadata": {},
   "source": [
    "# From scratch"
   ]
  },
  {
   "cell_type": "code",
   "execution_count": 1,
   "id": "52f4e6c0-07e3-4a9a-b9e4-a3db30b33c6b",
   "metadata": {},
   "outputs": [],
   "source": [
    "import rpy2.robjects as robjects"
   ]
  },
  {
   "cell_type": "code",
   "execution_count": 2,
   "id": "521f33b2-87b7-4033-b74e-e1c33d648f3d",
   "metadata": {},
   "outputs": [
    {
     "name": "stdout",
     "output_type": "stream",
     "text": [
      "\n",
      "    WARNING: The R package \"reticulate\" only fixed recently\n",
      "    an issue that caused a segfault when used with rpy2:\n",
      "    https://github.com/rstudio/reticulate/pull/1188\n",
      "    Make sure that you use a version of that package that includes\n",
      "    the fix.\n",
      "    CPU times: user 4.63 s, sys: 161 ms, total: 4.79 s\n",
      "Wall time: 4.47 s\n"
     ]
    },
    {
     "data": {
      "text/html": [
       "\n",
       "        <span>FloatVector with 26607 elements.</span>\n",
       "        <table>\n",
       "        <tbody>\n",
       "          <tr>\n",
       "          \n",
       "            <td>\n",
       "            0.000018\n",
       "            </td>\n",
       "          \n",
       "            <td>\n",
       "            0.001825\n",
       "            </td>\n",
       "          \n",
       "            <td>\n",
       "            -0.000003\n",
       "            </td>\n",
       "          \n",
       "            <td>\n",
       "            ...\n",
       "            </td>\n",
       "          \n",
       "            <td>\n",
       "            -0.000065\n",
       "            </td>\n",
       "          \n",
       "            <td>\n",
       "            -0.000003\n",
       "            </td>\n",
       "          \n",
       "            <td>\n",
       "            -0.000035\n",
       "            </td>\n",
       "          \n",
       "          </tr>\n",
       "        </tbody>\n",
       "        </table>\n",
       "        "
      ],
      "text/plain": [
       "<rpy2.robjects.vectors.FloatVector object at 0x7f2ec3ec9700> [RTYPES.REALSXP]\n",
       "R classes: ('numeric',)\n",
       "[0.000018, 0.001825, -0.000003, -0.000053, ..., 0.000018, -0.000065, -0.000003, -0.000035]"
      ]
     },
     "execution_count": 2,
     "metadata": {},
     "output_type": "execute_result"
    }
   ],
   "source": [
    "%%time\n",
    "\n",
    "import rpy2.robjects as robjects\n",
    "\n",
    "\n",
    "robjects.r(\"\"\"\n",
    "            library(xgboost)\n",
    "            library(mlflow)\n",
    "            Sys.setenv(MLFLOW_BIN=system(\"which mlflow\", intern=TRUE))\n",
    "            Sys.setenv(MLFLOW_PYTHON_BIN=system(\"which python\", intern=TRUE))\n",
    "\n",
    "            Tablon_test=read.table(file='training/x_test.csv',sep=',',header=T,stringsAsFactors=FALSE)\n",
    "            dtest_M1 <- xgb.DMatrix(data=as.matrix(Tablon_test),missing=NA)\n",
    "\n",
    "            name <- \"models:/model1_R/1\"\n",
    "            model <- mlflow_load_model(model_uri=name)\n",
    "\n",
    "            predicted=predict(model,dtest_M1,missing=NA)\n",
    "        \"\"\")\n",
    "\n",
    "robjects.r['predicted']"
   ]
  },
  {
   "cell_type": "code",
   "execution_count": 39,
   "id": "9c1bf835-ea3f-43b4-b81e-1418934e6a65",
   "metadata": {},
   "outputs": [
    {
     "name": "stdout",
     "output_type": "stream",
     "text": [
      " [1]  1.798484e-05  1.824704e-03 -3.037206e-06 -5.303383e-05  3.638420e-05\n",
      " [6] -5.325146e-07  4.433680e-05 -3.803310e-05 -2.574593e-04  1.798484e-05\n"
     ]
    }
   ],
   "source": [
    "%%R\n",
    "\n",
    "library(xgboost)\n",
    "library(mlflow)\n",
    "Sys.setenv(MLFLOW_BIN=system(\"which mlflow\", intern=TRUE))\n",
    "Sys.setenv(MLFLOW_PYTHON_BIN=system(\"which python\", intern=TRUE))\n",
    "\n",
    "Tablon_test=read.table(file='x_test.csv',sep=',',header=T,stringsAsFactors=FALSE)\n",
    "dtest_M1 <- xgb.DMatrix(data=as.matrix(Tablon_test),missing=NA)\n",
    "\n",
    "name <- \"models:/model1_R/1\"\n",
    "model <- mlflow_load_model(model_uri=name)\n",
    "\n",
    "predicted=predict(model,dtest_M1,missing=NA)\n",
    "predicted[1:10]"
   ]
  }
 ],
 "metadata": {
  "kernelspec": {
   "display_name": "Python 3 (ipykernel)",
   "language": "python",
   "name": "python3"
  },
  "language_info": {
   "codemirror_mode": {
    "name": "ipython",
    "version": 3
   },
   "file_extension": ".py",
   "mimetype": "text/x-python",
   "name": "python",
   "nbconvert_exporter": "python",
   "pygments_lexer": "ipython3",
   "version": "3.8.13"
  }
 },
 "nbformat": 4,
 "nbformat_minor": 5
}
