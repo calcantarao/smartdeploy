{
 "cells": [
  {
   "cell_type": "code",
   "execution_count": 1,
   "id": "83320c39-9075-403d-88d4-c0c27de95027",
   "metadata": {},
   "outputs": [
    {
     "name": "stdout",
     "output_type": "stream",
     "text": [
      "Exportador 2\n",
      "Exportador 3\n",
      "Exportador 4\n"
     ]
    }
   ],
   "source": [
    "from neo4j import GraphDatabase\n",
    "\n",
    "driver = GraphDatabase.driver(\"neo4j://neo4j:7687\")\n",
    "\n",
    "def add_friend(tx, name, friend_name):\n",
    "    tx.run(\"MERGE (a:Empresa {name: $name}) \"\n",
    "           \"MERGE (a)-[:CONOCE]->(friend:Empresa {name: $friend_name})\",\n",
    "           name=name, friend_name=friend_name)\n",
    "\n",
    "def print_friends(tx, name):\n",
    "    query = (\"MATCH (a:Empresa)-[:CONOCE]->(friend) WHERE a.name = $name \"\n",
    "             \"RETURN friend.name ORDER BY friend.name\")\n",
    "    for record in tx.run(query, name=name):\n",
    "        print(record[\"friend.name\"])\n",
    "\n",
    "with driver.session(database=\"neo4j\") as session:\n",
    "    session.execute_write(add_friend, \"Importador 1\", \"Exportador 2\")\n",
    "    session.execute_write(add_friend, \"Importador 1\", \"Exportador 2\")\n",
    "    session.execute_write(add_friend, \"Importador 1\", \"Exportador 3\")\n",
    "    session.execute_write(add_friend, \"Importador 1\", \"Exportador 4\")\n",
    "    session.execute_write(add_friend, \"Importador 2\", \"Exportador 3\")\n",
    "    session.execute_write(add_friend, \"Importador 2\", \"Exportador 4\")\n",
    "    session.execute_read(print_friends, \"Importador 1\")\n",
    "\n",
    "driver.close()"
   ]
  }
 ],
 "metadata": {
  "kernelspec": {
   "display_name": "Python 3 (ipykernel)",
   "language": "python",
   "name": "python3"
  },
  "language_info": {
   "codemirror_mode": {
    "name": "ipython",
    "version": 3
   },
   "file_extension": ".py",
   "mimetype": "text/x-python",
   "name": "python",
   "nbconvert_exporter": "python",
   "pygments_lexer": "ipython3",
   "version": "3.10.8"
  }
 },
 "nbformat": 4,
 "nbformat_minor": 5
}
