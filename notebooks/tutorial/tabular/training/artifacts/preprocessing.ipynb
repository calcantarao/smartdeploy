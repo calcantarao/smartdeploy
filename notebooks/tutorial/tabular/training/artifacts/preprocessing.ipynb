{
 "cells": [
  {
   "cell_type": "markdown",
   "id": "0c68c54b-f12d-4910-9693-b0dd4b6c290f",
   "metadata": {
    "papermill": {
     "duration": 0.001607,
     "end_time": "2023-04-10T22:25:55.476067",
     "exception": false,
     "start_time": "2023-04-10T22:25:55.474460",
     "status": "completed"
    },
    "tags": []
   },
   "source": [
    "# Preprocesamiento"
   ]
  },
  {
   "cell_type": "code",
   "execution_count": 1,
   "id": "208e5fb6-25f1-496c-bf32-ea53bea4d426",
   "metadata": {
    "execution": {
     "iopub.execute_input": "2023-04-10T22:25:55.479562Z",
     "iopub.status.busy": "2023-04-10T22:25:55.479116Z",
     "iopub.status.idle": "2023-04-10T22:25:56.517430Z",
     "shell.execute_reply": "2023-04-10T22:25:56.516684Z"
    },
    "papermill": {
     "duration": 1.042003,
     "end_time": "2023-04-10T22:25:56.519139",
     "exception": false,
     "start_time": "2023-04-10T22:25:55.477136",
     "status": "completed"
    },
    "tags": []
   },
   "outputs": [],
   "source": [
    "import mlflow\n",
    "import pandas as pd\n",
    "import numpy as np\n",
    "from sklearn.model_selection import train_test_split\n",
    "\n",
    "\n",
    "def preprocessing(filename):\n",
    "    with mlflow.start_run(run_name='preprocessing') as mlrun:\n",
    "        # Some preprocessing steps here\n",
    "        df = pd.read_csv(filename)\n",
    "        df_cleaned = df.loc[:, df.columns != 'specimen_number'].copy()\n",
    "        df_cleaned[df_cleaned.columns] = df_cleaned[df_cleaned.columns].astype(float)\n",
    "        df_cleaned['species'] = df_cleaned['species'].astype(int)\n",
    "        df_cleaned.to_csv('preprocessed_data.csv', index=False)\n",
    "        mlflow.log_artifact('preprocessed_data.csv')\n",
    "\n",
    "        # logging\n",
    "        mlflow.log_param(key='n_samples', value=len(df_cleaned))\n",
    "        mlflow.log_param(key='n_features', value=len(df_cleaned.columns)-1)\n",
    "\n",
    "        mlflow.log_param(key='n_classes', value=len(df_cleaned['species'].unique()))\n",
    "        mlflow.log_param(key='problem_type', value='classification')\n",
    "\n",
    "        # Splitting\n",
    "        class_name = 'species'\n",
    "        X = df_cleaned.loc[:, df_cleaned.columns != class_name].copy()\n",
    "        y = df_cleaned[class_name].copy()\n",
    "\n",
    "        test_size = 0.2\n",
    "        random_state = 42\n",
    "        np.random.seed(random_state)\n",
    "        X_train, X_test, y_train, y_test = train_test_split(X, y, test_size=test_size,\n",
    "                                                            random_state=random_state)\n",
    "\n",
    "        X_train.to_csv('X_train.csv', index=False)\n",
    "        mlflow.log_artifact('X_train.csv')\n",
    "\n",
    "        X_test.to_csv('X_test.csv', index=False)\n",
    "        mlflow.log_artifact('X_test.csv')\n",
    "\n",
    "        y_train.to_csv('y_train.csv', index=False)\n",
    "        mlflow.log_artifact('y_train.csv')\n",
    "\n",
    "        y_test.to_csv('y_test.csv', index=False)\n",
    "        mlflow.log_artifact('y_test.csv')\n",
    "\n",
    "        mlflow.log_param(key='x_train_len', value=len(X_train))\n",
    "        mlflow.log_param(key='x_test_len', value=len(X_test))\n",
    "        mlflow.log_param(key='test_percentage', value=test_size)\n",
    "        mlflow.log_param(key='random_state_split', value=random_state)"
   ]
  },
  {
   "cell_type": "code",
   "execution_count": 2,
   "id": "ac07185e-cdbf-433a-9ae0-5c66e6571a39",
   "metadata": {
    "execution": {
     "iopub.execute_input": "2023-04-10T22:25:56.522457Z",
     "iopub.status.busy": "2023-04-10T22:25:56.522127Z",
     "iopub.status.idle": "2023-04-10T22:25:57.163181Z",
     "shell.execute_reply": "2023-04-10T22:25:57.162451Z"
    },
    "papermill": {
     "duration": 0.644421,
     "end_time": "2023-04-10T22:25:57.164766",
     "exception": false,
     "start_time": "2023-04-10T22:25:56.520345",
     "status": "completed"
    },
    "tags": []
   },
   "outputs": [],
   "source": [
    "filename = \"data.csv\"\n",
    "preprocessing(filename)"
   ]
  },
  {
   "cell_type": "code",
   "execution_count": null,
   "id": "ab2c18c2-4d32-42d1-b0f4-39e6870535e7",
   "metadata": {
    "papermill": {
     "duration": 0.000933,
     "end_time": "2023-04-10T22:25:57.166936",
     "exception": false,
     "start_time": "2023-04-10T22:25:57.166003",
     "status": "completed"
    },
    "tags": []
   },
   "outputs": [],
   "source": []
  }
 ],
 "metadata": {
  "kernelspec": {
   "display_name": "Python 3 (ipykernel)",
   "language": "python",
   "name": "python3"
  },
  "language_info": {
   "codemirror_mode": {
    "name": "ipython",
    "version": 3
   },
   "file_extension": ".py",
   "mimetype": "text/x-python",
   "name": "python",
   "nbconvert_exporter": "python",
   "pygments_lexer": "ipython3",
   "version": "3.8.13"
  },
  "papermill": {
   "default_parameters": {},
   "duration": 3.146399,
   "end_time": "2023-04-10T22:25:57.685208",
   "environment_variables": {},
   "exception": null,
   "input_path": "/home/jovyan/tutorial/tabular/training/artifacts/preprocessing.ipynb",
   "output_path": "/home/jovyan/tutorial/tabular/training/artifacts/preprocessing.ipynb",
   "parameters": {},
   "start_time": "2023-04-10T22:25:54.538809",
   "version": "2.3.4"
  }
 },
 "nbformat": 4,
 "nbformat_minor": 5
}