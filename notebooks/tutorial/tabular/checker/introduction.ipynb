{
 "cells": [
  {
   "cell_type": "markdown",
   "id": "ae4b0b33-b8b9-43fc-baea-dda9982658e5",
   "metadata": {},
   "source": [
    "# <center>**Smartdeploy**</center>"
   ]
  },
  {
   "cell_type": "markdown",
   "id": "976e89e9-6d2d-4760-8c29-c16c54f57c44",
   "metadata": {},
   "source": [
    "[!] No ejecutar este notebook, ya que contiene modulos que aun no estan soportados en esta version de Smartdeploy."
   ]
  },
  {
   "cell_type": "markdown",
   "id": "31a15a4a-a736-41d8-a939-19a9dd9cc899",
   "metadata": {
    "tags": []
   },
   "source": [
    "# **Modulo Checker**"
   ]
  },
  {
   "cell_type": "code",
   "execution_count": 3,
   "id": "54ed2b4d-955e-4acb-8d26-3c0973ff5d32",
   "metadata": {
    "tags": []
   },
   "outputs": [
    {
     "data": {
      "text/html": [
       "<div>\n",
       "<style scoped>\n",
       "    .dataframe tbody tr th:only-of-type {\n",
       "        vertical-align: middle;\n",
       "    }\n",
       "\n",
       "    .dataframe tbody tr th {\n",
       "        vertical-align: top;\n",
       "    }\n",
       "\n",
       "    .dataframe thead th {\n",
       "        text-align: right;\n",
       "    }\n",
       "</style>\n",
       "<table border=\"1\" class=\"dataframe\">\n",
       "  <thead>\n",
       "    <tr style=\"text-align: right;\">\n",
       "      <th></th>\n",
       "      <th>specimen_number</th>\n",
       "      <th>eccentricity</th>\n",
       "      <th>aspect_ratio</th>\n",
       "      <th>elongation</th>\n",
       "      <th>solidity</th>\n",
       "      <th>stochastic_convexity</th>\n",
       "      <th>isoperimetric_factor</th>\n",
       "      <th>maximal_indentation_depth</th>\n",
       "      <th>lobedness</th>\n",
       "      <th>average_intensity</th>\n",
       "      <th>average_contrast</th>\n",
       "      <th>smoothness</th>\n",
       "      <th>third_moment</th>\n",
       "      <th>uniformity</th>\n",
       "      <th>entropy</th>\n",
       "    </tr>\n",
       "  </thead>\n",
       "  <tbody>\n",
       "    <tr>\n",
       "      <th>0</th>\n",
       "      <td>1</td>\n",
       "      <td>0.86224</td>\n",
       "      <td>2.0735</td>\n",
       "      <td>0.52269</td>\n",
       "      <td>0.98686</td>\n",
       "      <td>0.99474</td>\n",
       "      <td>0.70529</td>\n",
       "      <td>0.010097</td>\n",
       "      <td>0.018554</td>\n",
       "      <td>0.041404</td>\n",
       "      <td>0.121630</td>\n",
       "      <td>0.014579</td>\n",
       "      <td>0.004869</td>\n",
       "      <td>0.000276</td>\n",
       "      <td>0.94580</td>\n",
       "    </tr>\n",
       "    <tr>\n",
       "      <th>1</th>\n",
       "      <td>11</td>\n",
       "      <td>0.52382</td>\n",
       "      <td>1.1117</td>\n",
       "      <td>0.67175</td>\n",
       "      <td>0.54701</td>\n",
       "      <td>0.62982</td>\n",
       "      <td>0.15157</td>\n",
       "      <td>0.136740</td>\n",
       "      <td>3.402800</td>\n",
       "      <td>0.026434</td>\n",
       "      <td>0.085792</td>\n",
       "      <td>0.007306</td>\n",
       "      <td>0.002137</td>\n",
       "      <td>0.000166</td>\n",
       "      <td>0.90513</td>\n",
       "    </tr>\n",
       "    <tr>\n",
       "      <th>2</th>\n",
       "      <td>3</td>\n",
       "      <td>0.82866</td>\n",
       "      <td>1.9848</td>\n",
       "      <td>0.50917</td>\n",
       "      <td>0.94180</td>\n",
       "      <td>0.99825</td>\n",
       "      <td>0.55942</td>\n",
       "      <td>0.025524</td>\n",
       "      <td>0.118570</td>\n",
       "      <td>0.080103</td>\n",
       "      <td>0.166920</td>\n",
       "      <td>0.027107</td>\n",
       "      <td>0.008655</td>\n",
       "      <td>0.000427</td>\n",
       "      <td>1.80380</td>\n",
       "    </tr>\n",
       "    <tr>\n",
       "      <th>3</th>\n",
       "      <td>4</td>\n",
       "      <td>0.70668</td>\n",
       "      <td>1.2510</td>\n",
       "      <td>0.38111</td>\n",
       "      <td>0.94226</td>\n",
       "      <td>0.99825</td>\n",
       "      <td>0.69250</td>\n",
       "      <td>0.019432</td>\n",
       "      <td>0.068724</td>\n",
       "      <td>0.031587</td>\n",
       "      <td>0.115020</td>\n",
       "      <td>0.013056</td>\n",
       "      <td>0.005311</td>\n",
       "      <td>0.000086</td>\n",
       "      <td>0.72247</td>\n",
       "    </tr>\n",
       "    <tr>\n",
       "      <th>4</th>\n",
       "      <td>4</td>\n",
       "      <td>0.73935</td>\n",
       "      <td>1.5319</td>\n",
       "      <td>0.34987</td>\n",
       "      <td>0.98479</td>\n",
       "      <td>1.00000</td>\n",
       "      <td>0.81067</td>\n",
       "      <td>0.007808</td>\n",
       "      <td>0.011095</td>\n",
       "      <td>0.027888</td>\n",
       "      <td>0.114720</td>\n",
       "      <td>0.012990</td>\n",
       "      <td>0.006017</td>\n",
       "      <td>0.000050</td>\n",
       "      <td>0.59895</td>\n",
       "    </tr>\n",
       "  </tbody>\n",
       "</table>\n",
       "</div>"
      ],
      "text/plain": [
       "   specimen_number  eccentricity  aspect_ratio  elongation  solidity  \\\n",
       "0                1       0.86224        2.0735     0.52269   0.98686   \n",
       "1               11       0.52382        1.1117     0.67175   0.54701   \n",
       "2                3       0.82866        1.9848     0.50917   0.94180   \n",
       "3                4       0.70668        1.2510     0.38111   0.94226   \n",
       "4                4       0.73935        1.5319     0.34987   0.98479   \n",
       "\n",
       "   stochastic_convexity  isoperimetric_factor  maximal_indentation_depth  \\\n",
       "0               0.99474               0.70529                   0.010097   \n",
       "1               0.62982               0.15157                   0.136740   \n",
       "2               0.99825               0.55942                   0.025524   \n",
       "3               0.99825               0.69250                   0.019432   \n",
       "4               1.00000               0.81067                   0.007808   \n",
       "\n",
       "   lobedness  average_intensity  average_contrast  smoothness  third_moment  \\\n",
       "0   0.018554           0.041404          0.121630    0.014579      0.004869   \n",
       "1   3.402800           0.026434          0.085792    0.007306      0.002137   \n",
       "2   0.118570           0.080103          0.166920    0.027107      0.008655   \n",
       "3   0.068724           0.031587          0.115020    0.013056      0.005311   \n",
       "4   0.011095           0.027888          0.114720    0.012990      0.006017   \n",
       "\n",
       "   uniformity  entropy  \n",
       "0    0.000276  0.94580  \n",
       "1    0.000166  0.90513  \n",
       "2    0.000427  1.80380  \n",
       "3    0.000086  0.72247  \n",
       "4    0.000050  0.59895  "
      ]
     },
     "execution_count": 3,
     "metadata": {},
     "output_type": "execute_result"
    }
   ],
   "source": [
    "import pandas as pd\n",
    "import sys\n",
    "import os\n",
    "import rich\n",
    "from IPython.display import HTML\n",
    "\n",
    "filename = \"artifacts/X_inference.csv\"\n",
    "X_inference = pd.read_csv(filename)\n",
    "X_inference.head()"
   ]
  },
  {
   "cell_type": "code",
   "execution_count": 4,
   "id": "4c7fdc7a-6578-4f87-8761-8773b39a612c",
   "metadata": {
    "tags": []
   },
   "outputs": [],
   "source": [
    "sys.path.append('/home/jovyan/')\n",
    "from smartdeploy.cl import checker"
   ]
  },
  {
   "cell_type": "markdown",
   "id": "2fae7cca-f476-4d21-9f3e-3edca2d5707c",
   "metadata": {},
   "source": [
    "## Inferir tipo de input\n",
    "- Tabular: pandas, numpy\n",
    "- Image: numpy"
   ]
  },
  {
   "cell_type": "code",
   "execution_count": 4,
   "id": "2f770e67-e625-4ca1-9b4e-1814ac20f724",
   "metadata": {
    "tags": []
   },
   "outputs": [
    {
     "name": "stdout",
     "output_type": "stream",
     "text": [
      "Inferred input type: tabular\n"
     ]
    }
   ],
   "source": [
    "input_type = checker.infer_input(X_inference)\n",
    "print(f\"Inferred input type: {input_type}\")\n",
    "assert input_type == 'tabular'"
   ]
  },
  {
   "cell_type": "markdown",
   "id": "9b291730-f86d-42d9-84c5-6a1dd7e4d91a",
   "metadata": {},
   "source": [
    "## **Checker de Integridad** \n",
    "- Tabular: pandas, numpy\n",
    "- Image: numpy"
   ]
  },
  {
   "cell_type": "code",
   "execution_count": 11,
   "id": "ec205c72-e1b1-471a-945b-f1397f3114a1",
   "metadata": {
    "tags": []
   },
   "outputs": [
    {
     "name": "stderr",
     "output_type": "stream",
     "text": [
      "/opt/conda/lib/python3.8/site-packages/deepchecks/tabular/utils/task_inference.py:66: FutureWarning:\n",
      "\n",
      "The default dtype for empty Series will be 'object' instead of 'float64' in a future version. Specify a dtype explicitly to silence this warning.\n",
      "\n"
     ]
    },
    {
     "data": {
      "text/html": [
       "\n",
       "    <style>\n",
       "        progress {\n",
       "            -webkit-appearance: none;\n",
       "            border: none;\n",
       "            border-radius: 3px;\n",
       "            width: 300px;\n",
       "            height: 20px;\n",
       "            vertical-align: middle;\n",
       "            margin-right: 10px;\n",
       "            background-color: aliceblue;\n",
       "        }\n",
       "        progress::-webkit-progress-bar {\n",
       "            border-radius: 3px;\n",
       "            background-color: aliceblue;\n",
       "        }\n",
       "        progress::-webkit-progress-value {\n",
       "            background-color: #9d60fb;\n",
       "        }\n",
       "        progress::-moz-progress-bar {\n",
       "            background-color: #9d60fb;\n",
       "        }\n",
       "    </style>\n",
       "    "
      ]
     },
     "metadata": {},
     "output_type": "display_data"
    },
    {
     "data": {
      "text/html": []
     },
     "metadata": {},
     "output_type": "display_data"
    },
    {
     "data": {
      "text/html": [
       "<table border=\"1\" class=\"dataframe\">\n",
       "  <thead>\n",
       "    <tr style=\"text-align: right;\">\n",
       "      <th></th>\n",
       "      <th>name</th>\n",
       "      <th>value</th>\n",
       "      <th>description</th>\n",
       "      <th>pass</th>\n",
       "    </tr>\n",
       "  </thead>\n",
       "  <tbody>\n",
       "    <tr>\n",
       "      <th>0</th>\n",
       "      <td>Is Single Value</td>\n",
       "      <td>{'specimen_number': 10, 'eccentricity': 30, 'aspect_ratio': 30, 'elongation': 30, 'solidity': 30, 'stochastic_convexity': 14, 'isoperimetric_factor': 30, 'maximal_indentation_depth': 30, 'lobedness': 30, 'average_intensity': 29, 'average_contrast': 30, 'smoothness': 30, 'third_moment': 30, 'uniformity': 30, 'entropy': 30}</td>\n",
       "      <td>Check if there are columns which have only a single unique value in all rows.</td>\n",
       "      <td>True</td>\n",
       "    </tr>\n",
       "    <tr>\n",
       "      <th>1</th>\n",
       "      <td>Special Characters</td>\n",
       "      <td>{'specimen_number': 0, 'eccentricity': 0, 'aspect_ratio': 0, 'elongation': 0, 'solidity': 0, 'stochastic_convexity': 0, 'isoperimetric_factor': 0, 'maximal_indentation_depth': 0, 'lobedness': 0, 'average_intensity': 0, 'average_contrast': 0, 'smoothness': 0, 'third_moment': 0, 'uniformity': 0, 'entropy': 0}</td>\n",
       "      <td>Search in column[s] for values that contains only special characters.</td>\n",
       "      <td>True</td>\n",
       "    </tr>\n",
       "    <tr>\n",
       "      <th>2</th>\n",
       "      <td>Mixed Nulls</td>\n",
       "      <td>{'specimen_number': {}, 'eccentricity': {}, 'aspect_ratio': {}, 'elongation': {}, 'solidity': {}, 'stochastic_convexity': {}, 'isoperimetric_factor': {}, 'maximal_indentation_depth': {}, 'lobedness': {}, 'average_intensity': {}, 'average_contrast': {}, 'smoothness': {}, 'third_moment': {}, 'uniformity': {}, 'entropy': {}}</td>\n",
       "      <td>Search for various types of null values, including string representations of null.</td>\n",
       "      <td>True</td>\n",
       "    </tr>\n",
       "    <tr>\n",
       "      <th>3</th>\n",
       "      <td>Mixed Data Types</td>\n",
       "      <td>{'specimen_number': {}, 'eccentricity': {}, 'aspect_ratio': {}, 'elongation': {}, 'solidity': {}, 'stochastic_convexity': {}, 'isoperimetric_factor': {}, 'maximal_indentation_depth': {}, 'lobedness': {}, 'average_intensity': {}, 'average_contrast': {}, 'smoothness': {}, 'third_moment': {}, 'uniformity': {}, 'entropy': {}}</td>\n",
       "      <td>Detect columns which contain a mix of numerical and string values.</td>\n",
       "      <td>True</td>\n",
       "    </tr>\n",
       "    <tr>\n",
       "      <th>4</th>\n",
       "      <td>String Mismatch</td>\n",
       "      <td>{}</td>\n",
       "      <td>Detect different variants of string categories (e.g. \"mislabeled\" vs \"mis-labeled\") in a categorical column.</td>\n",
       "      <td>True</td>\n",
       "    </tr>\n",
       "    <tr>\n",
       "      <th>5</th>\n",
       "      <td>Data Duplicates</td>\n",
       "      <td>0.0</td>\n",
       "      <td>Checks for duplicate samples in the dataset.</td>\n",
       "      <td>True</td>\n",
       "    </tr>\n",
       "    <tr>\n",
       "      <th>6</th>\n",
       "      <td>String Length Out Of Bounds</td>\n",
       "      <td>{}</td>\n",
       "      <td>Detect strings with length that is much longer/shorter than the identified \"normal\" string lengths.</td>\n",
       "      <td>True</td>\n",
       "    </tr>\n",
       "  </tbody>\n",
       "</table>"
      ],
      "text/plain": [
       "<IPython.core.display.HTML object>"
      ]
     },
     "execution_count": 11,
     "metadata": {},
     "output_type": "execute_result"
    }
   ],
   "source": [
    "results = checker.integrity(X_inference, save_mlflow=False)\n",
    "# results = checker.integrity(df, data_type=input_type)\n",
    "df = pd.DataFrame(results)\n",
    "HTML(df.to_html())"
   ]
  },
  {
   "cell_type": "markdown",
   "id": "4b09b438-929f-436a-bb72-71d50b349d8e",
   "metadata": {},
   "source": [
    "| Check Name | Description | Result |\n",
    "| --- | --- | --- |\n",
    "| Is Single Value | Check if there are columns which have only a single unique value in all rows. | Passed |\n",
    "| Special Characters | Search in column[s] for values that contains only special characters. | Passed |\n",
    "| Mixed Nulls | Search for various types of null values, including string representations of null. | Passed |\n",
    "| Mixed Data Types | Detect columns which contain a mix of numerical and string values. | Passed |\n",
    "| String Mismatch | Detect different variants of string categories (e.g. \"mislabeled\" vs \"mis-labeled\") in a categorical column. | Passed |\n",
    "| Data Duplicates | Checks for duplicate samples in the dataset. | Passed |\n",
    "| String Length Out Of Bounds | Detect strings with length that is much longer/shorter than the identified \"normal\" string lengths. | Passed |\n",
    "| **Total Passed Tests** | **Overall result** | **100%** |\n"
   ]
  },
  {
   "cell_type": "markdown",
   "id": "810abb83-8299-4dad-bd5f-8231eb58add3",
   "metadata": {},
   "source": [
    "| Key | Value |\n",
    "| --- | --- |\n",
    "| Model UUID | 6b5489a5a7a445089b399908e068c83e |\n",
    "| Run ID | 4640c7ebf5e94669a0bee12daec7e7d9 |\n",
    "| Artifact Path | extratree |\n",
    "| Creation Time (UTC) | 2023-04-10 22:25:59.983110 |\n",
    "| MLflow Version | 1.30.0 |\n",
    "| Environment | conda.yaml |\n",
    "| Loader Module | mlflow.sklearn |\n",
    "| Model Path | model.pkl |\n",
    "| Prediction Function | predict |\n",
    "| Python Version | 3.8.13 |\n",
    "| Code | null |\n",
    "| Pickled Model | model.pkl |\n",
    "| Serialization Format | cloudpickle |\n",
    "| Scikit-learn Version | 1.1.2 |\n",
    "| Inputs | eccentricity, aspect_ratio, elongation, solidity, stochastic_convexity, isoperimetric_factor, etc\n",
    "| Outputs | tensor of type int64 with unknown dimensions (-1) |\n"
   ]
  },
  {
   "cell_type": "code",
   "execution_count": null,
   "id": "fdb41dd7-3772-41d9-8f05-e751c1aa41b6",
   "metadata": {},
   "outputs": [],
   "source": []
  },
  {
   "cell_type": "markdown",
   "id": "bc7cfce4-c990-4d9c-b187-9e0a1b5148b2",
   "metadata": {},
   "source": [
    "## ¿ Pasa todos los tests de integridad ?"
   ]
  },
  {
   "cell_type": "code",
   "execution_count": 12,
   "id": "b31f7421-1997-4dd6-bc95-a532d2413c6d",
   "metadata": {
    "tags": []
   },
   "outputs": [
    {
     "data": {
      "text/plain": [
       "True"
      ]
     },
     "execution_count": 12,
     "metadata": {},
     "output_type": "execute_result"
    }
   ],
   "source": [
    "all(df[\"pass\"])"
   ]
  },
  {
   "cell_type": "markdown",
   "id": "622fce25-b14b-4f9e-bb11-9c1188a51eee",
   "metadata": {},
   "source": [
    "## **Checker de Drift Train vs Test**"
   ]
  },
  {
   "cell_type": "code",
   "execution_count": 13,
   "id": "967c97b8-edd8-4541-853f-1a9e893efe60",
   "metadata": {
    "jupyter": {
     "source_hidden": true
    },
    "tags": []
   },
   "outputs": [],
   "source": [
    "X_inference = X_inference.loc[:, X_inference.columns != 'specimen_number'].copy()\n",
    "X_train = pd.read_csv(\"../training/artifacts/X_train.csv\")\n",
    "X_train = X_train.loc[:, X_train.columns != 'specimen_number'].copy()"
   ]
  },
  {
   "cell_type": "code",
   "execution_count": 14,
   "id": "27f7c1ea-d00d-4698-9175-a5bccc248f48",
   "metadata": {
    "tags": []
   },
   "outputs": [
    {
     "name": "stderr",
     "output_type": "stream",
     "text": [
      "/opt/conda/lib/python3.8/site-packages/deepchecks/tabular/utils/task_inference.py:66: FutureWarning:\n",
      "\n",
      "The default dtype for empty Series will be 'object' instead of 'float64' in a future version. Specify a dtype explicitly to silence this warning.\n",
      "\n"
     ]
    },
    {
     "data": {
      "text/html": [
       "<pre style=\"white-space:pre;overflow-x:auto;line-height:normal;font-family:Menlo,'DejaVu Sans Mono',consolas,'Courier New',monospace\"><span style=\"font-weight: bold\">{</span>\n",
       "    <span style=\"color: #008000; text-decoration-color: #008000\">'domain_classifier_auc'</span>: <span style=\"color: #008080; text-decoration-color: #008080; font-weight: bold\">0.5493827160493827</span>,\n",
       "    <span style=\"color: #008000; text-decoration-color: #008000\">'domain_classifier_drift_score'</span>: <span style=\"color: #008080; text-decoration-color: #008080; font-weight: bold\">0.09876543209876543</span>,\n",
       "    <span style=\"color: #008000; text-decoration-color: #008000\">'domain_classifier_feature_importance'</span>: <span style=\"font-weight: bold\">{</span>\n",
       "        <span style=\"color: #008000; text-decoration-color: #008000\">'entropy'</span>: <span style=\"color: #008080; text-decoration-color: #008080; font-weight: bold\">1.0</span>,\n",
       "        <span style=\"color: #008000; text-decoration-color: #008000\">'eccentricity'</span>: <span style=\"color: #008080; text-decoration-color: #008080; font-weight: bold\">0.0</span>,\n",
       "        <span style=\"color: #008000; text-decoration-color: #008000\">'aspect_ratio'</span>: <span style=\"color: #008080; text-decoration-color: #008080; font-weight: bold\">-0.0</span>,\n",
       "        <span style=\"color: #008000; text-decoration-color: #008000\">'elongation'</span>: <span style=\"color: #008080; text-decoration-color: #008080; font-weight: bold\">0.0</span>,\n",
       "        <span style=\"color: #008000; text-decoration-color: #008000\">'solidity'</span>: <span style=\"color: #008080; text-decoration-color: #008080; font-weight: bold\">0.0</span>,\n",
       "        <span style=\"color: #008000; text-decoration-color: #008000\">'stochastic_convexity'</span>: <span style=\"color: #008080; text-decoration-color: #008080; font-weight: bold\">-0.0</span>,\n",
       "        <span style=\"color: #008000; text-decoration-color: #008000\">'isoperimetric_factor'</span>: <span style=\"color: #008080; text-decoration-color: #008080; font-weight: bold\">0.0</span>,\n",
       "        <span style=\"color: #008000; text-decoration-color: #008000\">'maximal_indentation_depth'</span>: <span style=\"color: #008080; text-decoration-color: #008080; font-weight: bold\">0.0</span>,\n",
       "        <span style=\"color: #008000; text-decoration-color: #008000\">'lobedness'</span>: <span style=\"color: #008080; text-decoration-color: #008080; font-weight: bold\">0.0</span>,\n",
       "        <span style=\"color: #008000; text-decoration-color: #008000\">'average_intensity'</span>: <span style=\"color: #008080; text-decoration-color: #008080; font-weight: bold\">0.0</span>,\n",
       "        <span style=\"color: #008000; text-decoration-color: #008000\">'average_contrast'</span>: <span style=\"color: #008080; text-decoration-color: #008080; font-weight: bold\">0.0</span>,\n",
       "        <span style=\"color: #008000; text-decoration-color: #008000\">'smoothness'</span>: <span style=\"color: #008080; text-decoration-color: #008080; font-weight: bold\">0.0</span>,\n",
       "        <span style=\"color: #008000; text-decoration-color: #008000\">'third_moment'</span>: <span style=\"color: #008080; text-decoration-color: #008080; font-weight: bold\">0.0</span>,\n",
       "        <span style=\"color: #008000; text-decoration-color: #008000\">'uniformity'</span>: <span style=\"color: #008080; text-decoration-color: #008080; font-weight: bold\">0.0</span>\n",
       "    <span style=\"font-weight: bold\">}</span>\n",
       "<span style=\"font-weight: bold\">}</span>\n",
       "</pre>\n"
      ],
      "text/plain": [
       "\u001b[1m{\u001b[0m\n",
       "    \u001b[32m'domain_classifier_auc'\u001b[0m: \u001b[1;36m0.5493827160493827\u001b[0m,\n",
       "    \u001b[32m'domain_classifier_drift_score'\u001b[0m: \u001b[1;36m0.09876543209876543\u001b[0m,\n",
       "    \u001b[32m'domain_classifier_feature_importance'\u001b[0m: \u001b[1m{\u001b[0m\n",
       "        \u001b[32m'entropy'\u001b[0m: \u001b[1;36m1.0\u001b[0m,\n",
       "        \u001b[32m'eccentricity'\u001b[0m: \u001b[1;36m0.0\u001b[0m,\n",
       "        \u001b[32m'aspect_ratio'\u001b[0m: \u001b[1;36m-0.0\u001b[0m,\n",
       "        \u001b[32m'elongation'\u001b[0m: \u001b[1;36m0.0\u001b[0m,\n",
       "        \u001b[32m'solidity'\u001b[0m: \u001b[1;36m0.0\u001b[0m,\n",
       "        \u001b[32m'stochastic_convexity'\u001b[0m: \u001b[1;36m-0.0\u001b[0m,\n",
       "        \u001b[32m'isoperimetric_factor'\u001b[0m: \u001b[1;36m0.0\u001b[0m,\n",
       "        \u001b[32m'maximal_indentation_depth'\u001b[0m: \u001b[1;36m0.0\u001b[0m,\n",
       "        \u001b[32m'lobedness'\u001b[0m: \u001b[1;36m0.0\u001b[0m,\n",
       "        \u001b[32m'average_intensity'\u001b[0m: \u001b[1;36m0.0\u001b[0m,\n",
       "        \u001b[32m'average_contrast'\u001b[0m: \u001b[1;36m0.0\u001b[0m,\n",
       "        \u001b[32m'smoothness'\u001b[0m: \u001b[1;36m0.0\u001b[0m,\n",
       "        \u001b[32m'third_moment'\u001b[0m: \u001b[1;36m0.0\u001b[0m,\n",
       "        \u001b[32m'uniformity'\u001b[0m: \u001b[1;36m0.0\u001b[0m\n",
       "    \u001b[1m}\u001b[0m\n",
       "\u001b[1m}\u001b[0m\n"
      ]
     },
     "metadata": {},
     "output_type": "display_data"
    }
   ],
   "source": [
    "results = checker.drift(X_inference, X_train)\n",
    "rich.print(results)"
   ]
  },
  {
   "cell_type": "markdown",
   "id": "16cf6230-157b-40f8-b77f-d91ce77f6b26",
   "metadata": {},
   "source": [
    "## ¿ Pasa el test de drift ?"
   ]
  },
  {
   "cell_type": "code",
   "execution_count": 13,
   "id": "9af35946-9a96-4308-a37e-2aa51346eed3",
   "metadata": {
    "tags": []
   },
   "outputs": [
    {
     "data": {
      "text/plain": [
       "True"
      ]
     },
     "execution_count": 13,
     "metadata": {},
     "output_type": "execute_result"
    }
   ],
   "source": [
    "threshold = 0.2\n",
    "results[\"domain_classifier_drift_score\"] < threshold"
   ]
  },
  {
   "cell_type": "markdown",
   "id": "b02ee685-785e-4dfe-8f20-46e59b993fb9",
   "metadata": {},
   "source": [
    "# **Tracker**"
   ]
  },
  {
   "cell_type": "code",
   "execution_count": 6,
   "id": "3cee6eb1-3ad6-4ae7-9caf-17f1ce9c9ad2",
   "metadata": {
    "tags": []
   },
   "outputs": [
    {
     "data": {
      "text/html": [
       "<pre style=\"white-space:pre;overflow-x:auto;line-height:normal;font-family:Menlo,'DejaVu Sans Mono',consolas,'Courier New',monospace\"><span style=\"color: #7fbfbf; text-decoration-color: #7fbfbf\">[19:50:36] </span>Found on this date: Mon Jul <span style=\"color: #008080; text-decoration-color: #008080; font-weight: bold\">31</span> <span style=\"color: #00ff00; text-decoration-color: #00ff00; font-weight: bold\">19:50:28</span> <span style=\"color: #008080; text-decoration-color: #008080; font-weight: bold\">2023</span>                                               <a href=\"file:///home/jovyan/smartdeploy/cl/tracker.py\" target=\"_blank\"><span style=\"color: #7f7f7f; text-decoration-color: #7f7f7f\">tracker.py</span></a><span style=\"color: #7f7f7f; text-decoration-color: #7f7f7f\">:</span><a href=\"file:///home/jovyan/smartdeploy/cl/tracker.py#26\" target=\"_blank\"><span style=\"color: #7f7f7f; text-decoration-color: #7f7f7f\">26</span></a>\n",
       "</pre>\n"
      ],
      "text/plain": [
       "\u001b[2;36m[19:50:36]\u001b[0m\u001b[2;36m \u001b[0mFound on this date: Mon Jul \u001b[1;36m31\u001b[0m \u001b[1;92m19:50:28\u001b[0m \u001b[1;36m2023\u001b[0m                                               \u001b]8;id=680589;file:///home/jovyan/smartdeploy/cl/tracker.py\u001b\\\u001b[2mtracker.py\u001b[0m\u001b]8;;\u001b\\\u001b[2m:\u001b[0m\u001b]8;id=749554;file:///home/jovyan/smartdeploy/cl/tracker.py#26\u001b\\\u001b[2m26\u001b[0m\u001b]8;;\u001b\\\n"
      ]
     },
     "metadata": {},
     "output_type": "display_data"
    },
    {
     "data": {
      "text/plain": [
       "{'run_uuid': '300d9fa71c64473abd5e1089220c7e34',\n",
       " 'artifact_path': 's3://mlflow/0/300d9fa71c64473abd5e1089220c7e34/artifacts/extratree'}"
      ]
     },
     "execution_count": 6,
     "metadata": {},
     "output_type": "execute_result"
    }
   ],
   "source": [
    "from smartdeploy.cl import tracker\n",
    "\n",
    "last_artifact = tracker.get_last_artifact(path=\"extratree\")\n",
    "last_artifact"
   ]
  },
  {
   "cell_type": "code",
   "execution_count": 7,
   "id": "3516deb6-ff86-4eaf-bbe3-2a7cd79c3915",
   "metadata": {
    "tags": []
   },
   "outputs": [
    {
     "data": {
      "text/plain": [
       "[<FileInfo: file_size=1232, is_dir=False, path='extratree/MLmodel'>,\n",
       " <FileInfo: file_size=212, is_dir=False, path='extratree/conda.yaml'>,\n",
       " <FileInfo: file_size=4594714, is_dir=False, path='extratree/model.pkl'>,\n",
       " <FileInfo: file_size=122, is_dir=False, path='extratree/python_env.yaml'>,\n",
       " <FileInfo: file_size=95, is_dir=False, path='extratree/requirements.txt'>]"
      ]
     },
     "execution_count": 7,
     "metadata": {},
     "output_type": "execute_result"
    }
   ],
   "source": [
    "import mlflow\n",
    "\n",
    "client = mlflow.MlflowClient()\n",
    "\n",
    "client.list_artifacts(last_artifact[\"run_uuid\"], 'extratree')"
   ]
  },
  {
   "cell_type": "code",
   "execution_count": 9,
   "id": "0afdd5b2-8a76-483d-b577-84fd0f17e124",
   "metadata": {
    "tags": []
   },
   "outputs": [],
   "source": [
    "# client.download_artifacts(last_artifact[\"run_uuid\"],\n",
    "#                           path='X_train.csv')"
   ]
  },
  {
   "cell_type": "code",
   "execution_count": null,
   "id": "585a5802-fb88-45cd-8d12-6c5bb71482ed",
   "metadata": {},
   "outputs": [],
   "source": []
  }
 ],
 "metadata": {
  "kernelspec": {
   "display_name": "Python 3 (ipykernel)",
   "language": "python",
   "name": "python3"
  },
  "language_info": {
   "codemirror_mode": {
    "name": "ipython",
    "version": 3
   },
   "file_extension": ".py",
   "mimetype": "text/x-python",
   "name": "python",
   "nbconvert_exporter": "python",
   "pygments_lexer": "ipython3",
   "version": "3.8.13"
  }
 },
 "nbformat": 4,
 "nbformat_minor": 5
}
