{
 "cells": [
  {
   "cell_type": "markdown",
   "id": "e2af0738-9acb-48e5-aa14-06c492c7ea0c",
   "metadata": {
    "papermill": {
     "duration": 0.002759,
     "end_time": "2023-03-21T14:28:38.931338",
     "exception": false,
     "start_time": "2023-03-21T14:28:38.928579",
     "status": "completed"
    },
    "tags": []
   },
   "source": [
    "## Prediccion\n",
    "\n",
    "Cargar el modelo entrenado y obtener las predicciones"
   ]
  },
  {
   "cell_type": "code",
   "execution_count": 1,
   "id": "6da777a8-af37-4aaf-93bd-d497bd8c3408",
   "metadata": {
    "execution": {
     "iopub.execute_input": "2023-03-21T14:28:38.937988Z",
     "iopub.status.busy": "2023-03-21T14:28:38.937393Z",
     "iopub.status.idle": "2023-03-21T14:28:39.987765Z",
     "shell.execute_reply": "2023-03-21T14:28:39.987080Z"
    },
    "papermill": {
     "duration": 1.055681,
     "end_time": "2023-03-21T14:28:39.989626",
     "exception": false,
     "start_time": "2023-03-21T14:28:38.933945",
     "status": "completed"
    },
    "tags": []
   },
   "outputs": [],
   "source": [
    "import mlflow\n",
    "import pandas as pd\n",
    "import numpy as np\n",
    "import matplotlib.pyplot as plt\n",
    "import os\n",
    "import sys\n",
    "\n",
    "sys.path.insert(1, os.path.join(sys.path[0], '..'))\n",
    "\n",
    "\n",
    "def predicting(filename, model_name, model_version=1, model_stage=None):\n",
    "    with mlflow.start_run(run_name='predicting') as mlrun:\n",
    "        X_inference = pd.read_csv(filename)\n",
    "\n",
    "        if model_stage:\n",
    "            model = mlflow.sklearn.load_model(\n",
    "                model_uri=f\"models:/{model_name}/{model_stage}\"\n",
    "            )\n",
    "            print(f\"Loading model: {model_name}:{model_stage}\")\n",
    "        else:\n",
    "            model = mlflow.sklearn.load_model(\n",
    "                model_uri=f\"models:/{model_name}/{model_version}\"\n",
    "            )\n",
    "            print(f\"Loading model: {model_name}:{model_version}\")\n",
    "\n",
    "        predictions = model.predict(X_inference)\n",
    "        # print(predictions[:5])\n",
    "        with open('predictions.npy', 'wb') as f:\n",
    "            np.save(f, predictions)\n",
    "        mlflow.log_artifact('predictions.npy')\n",
    "\n",
    "        return predictions"
   ]
  },
  {
   "cell_type": "code",
   "execution_count": 2,
   "id": "27958a56-1a77-46ae-8f06-e6c41d261ade",
   "metadata": {
    "execution": {
     "iopub.execute_input": "2023-03-21T14:28:39.996104Z",
     "iopub.status.busy": "2023-03-21T14:28:39.995346Z",
     "iopub.status.idle": "2023-03-21T14:28:41.023948Z",
     "shell.execute_reply": "2023-03-21T14:28:41.023315Z"
    },
    "papermill": {
     "duration": 1.032909,
     "end_time": "2023-03-21T14:28:41.025158",
     "exception": false,
     "start_time": "2023-03-21T14:28:39.992249",
     "status": "completed"
    },
    "tags": []
   },
   "outputs": [
    {
     "name": "stdout",
     "output_type": "stream",
     "text": [
      "Loading model: extratree:4\n"
     ]
    },
    {
     "name": "stderr",
     "output_type": "stream",
     "text": [
      "/opt/conda/lib/python3.8/site-packages/sklearn/base.py:329: UserWarning: Trying to unpickle estimator ExtraTreeClassifier from version 1.1.1 when using version 1.1.2. This might lead to breaking code or invalid results. Use at your own risk. For more info please refer to:\n",
      "https://scikit-learn.org/stable/model_persistence.html#security-maintainability-limitations\n",
      "  warnings.warn(\n",
      "/opt/conda/lib/python3.8/site-packages/sklearn/base.py:329: UserWarning: Trying to unpickle estimator ExtraTreesClassifier from version 1.1.1 when using version 1.1.2. This might lead to breaking code or invalid results. Use at your own risk. For more info please refer to:\n",
      "https://scikit-learn.org/stable/model_persistence.html#security-maintainability-limitations\n",
      "  warnings.warn(\n"
     ]
    }
   ],
   "source": [
    "filename = \"preprocessed_data.csv\"\n",
    "predictions = predicting(filename, model_name=\"extratree\", model_version=4)"
   ]
  },
  {
   "cell_type": "code",
   "execution_count": 3,
   "id": "8f70deb3-83ba-443e-be5a-c048f4670ca4",
   "metadata": {
    "execution": {
     "iopub.execute_input": "2023-03-21T14:28:41.032928Z",
     "iopub.status.busy": "2023-03-21T14:28:41.032140Z",
     "iopub.status.idle": "2023-03-21T14:28:41.040895Z",
     "shell.execute_reply": "2023-03-21T14:28:41.040208Z"
    },
    "papermill": {
     "duration": 0.013652,
     "end_time": "2023-03-21T14:28:41.042187",
     "exception": false,
     "start_time": "2023-03-21T14:28:41.028535",
     "status": "completed"
    },
    "tags": []
   },
   "outputs": [
    {
     "data": {
      "text/plain": [
       "array([32, 11, 12,  9,  1])"
      ]
     },
     "execution_count": 3,
     "metadata": {},
     "output_type": "execute_result"
    }
   ],
   "source": [
    "predictions[:5]"
   ]
  },
  {
   "cell_type": "code",
   "execution_count": 4,
   "id": "c50c8fd8-1b0e-4a24-a446-e92e9caa456d",
   "metadata": {
    "execution": {
     "iopub.execute_input": "2023-03-21T14:28:41.048926Z",
     "iopub.status.busy": "2023-03-21T14:28:41.048370Z",
     "iopub.status.idle": "2023-03-21T14:28:41.220400Z",
     "shell.execute_reply": "2023-03-21T14:28:41.219553Z"
    },
    "papermill": {
     "duration": 0.176968,
     "end_time": "2023-03-21T14:28:41.221959",
     "exception": false,
     "start_time": "2023-03-21T14:28:41.044991",
     "status": "completed"
    },
    "tags": []
   },
   "outputs": [
    {
     "name": "stdout",
     "output_type": "stream",
     "text": [
      "[ 1  5  7  8  9 10 11 12 13 14 24 27 28 29 31 32 34 36]\n"
     ]
    },
    {
     "data": {
      "image/png": "[encoded data removed]",
      "text/plain": [
       "<Figure size 640x480 with 1 Axes>"
      ]
     },
     "metadata": {},
     "output_type": "display_data"
    }
   ],
   "source": [
    "unique, counts = np.unique(predictions, return_counts=True)\n",
    "d = dict(zip(unique, counts))\n",
    "plt.bar(*zip(*d.items()))\n",
    "\n",
    "print(unique)\n",
    "plt.show()"
   ]
  }
 ],
 "metadata": {
  "kernelspec": {
   "display_name": "Python 3 (ipykernel)",
   "language": "python",
   "name": "python3"
  },
  "language_info": {
   "codemirror_mode": {
    "name": "ipython",
    "version": 3
   },
   "file_extension": ".py",
   "mimetype": "text/x-python",
   "name": "python",
   "nbconvert_exporter": "python",
   "pygments_lexer": "ipython3",
   "version": "3.8.13"
  },
  "papermill": {
   "default_parameters": {},
   "duration": 3.580988,
   "end_time": "2023-03-21T14:28:41.744473",
   "environment_variables": {},
   "exception": null,
   "input_path": "/home/jovyan/tutorial/tabular/inference/batch/artifacts/predictor-batch.ipynb",
   "output_path": "/home/jovyan/tutorial/tabular/inference/batch/artifacts/predictor-batch.ipynb",
   "parameters": {},
   "start_time": "2023-03-21T14:28:38.163485",
   "version": "2.3.4"
  },
  "widgets": {
   "application/vnd.jupyter.widget-state+json": {
    "state": {
     "7bed244c6d784e33ae379d63a991144b": {
      "model_module": "@jupyter-widgets/controls",
      "model_module_version": "1.5.0",
      "model_name": "DescriptionStyleModel",
      "state": {
       "_model_module": "@jupyter-widgets/controls",
       "_model_module_version": "1.5.0",
       "_model_name": "DescriptionStyleModel",
       "_view_count": null,
       "_view_module": "@jupyter-widgets/base",
       "_view_module_version": "1.2.0",
       "_view_name": "StyleView",
       "description_width": ""
      }
     },
     "8091593cf82546e6b62c0b04f1886ff7": {
      "model_module": "@jupyter-widgets/base",
      "model_module_version": "1.2.0",
      "model_name": "LayoutModel",
      "state": {
       "_model_module": "@jupyter-widgets/base",
       "_model_module_version": "1.2.0",
       "_model_name": "LayoutModel",
       "_view_count": null,
       "_view_module": "@jupyter-widgets/base",
       "_view_module_version": "1.2.0",
       "_view_name": "LayoutView",
       "align_content": null,
       "align_items": null,
       "align_self": null,
       "border": null,
       "bottom": null,
       "display": null,
       "flex": null,
       "flex_flow": null,
       "grid_area": null,
       "grid_auto_columns": null,
       "grid_auto_flow": null,
       "grid_auto_rows": null,
       "grid_column": null,
       "grid_gap": null,
       "grid_row": null,
       "grid_template_areas": null,
       "grid_template_columns": null,
       "grid_template_rows": null,
       "height": null,
       "justify_content": null,
       "justify_items": null,
       "left": null,
       "margin": null,
       "max_height": null,
       "max_width": null,
       "min_height": null,
       "min_width": null,
       "object_fit": null,
       "object_position": null,
       "order": null,
       "overflow": null,
       "overflow_x": null,
       "overflow_y": null,
       "padding": null,
       "right": null,
       "top": null,
       "visibility": null,
       "width": null
      }
     },
     "8967925e98ff4ab89c36d2582dfa1cca": {
      "model_module": "@jupyter-widgets/controls",
      "model_module_version": "1.5.0",
      "model_name": "HTMLModel",
      "state": {
       "_dom_classes": [],
       "_model_module": "@jupyter-widgets/controls",
       "_model_module_version": "1.5.0",
       "_model_name": "HTMLModel",
       "_view_count": null,
       "_view_module": "@jupyter-widgets/controls",
       "_view_module_version": "1.5.0",
       "_view_name": "HTMLView",
       "description": "",
       "description_tooltip": null,
       "layout": "IPY_MODEL_f71cc52650174f65aafeec41472ebfee",
       "placeholder": "​",
       "style": "IPY_MODEL_c835e09bfa1641f9b354f355d39da356",
       "value": "Single Dataset Integrity Suite: 100%"
      }
     },
     "c835e09bfa1641f9b354f355d39da356": {
      "model_module": "@jupyter-widgets/controls",
      "model_module_version": "1.5.0",
      "model_name": "DescriptionStyleModel",
      "state": {
       "_model_module": "@jupyter-widgets/controls",
       "_model_module_version": "1.5.0",
       "_model_name": "DescriptionStyleModel",
       "_view_count": null,
       "_view_module": "@jupyter-widgets/base",
       "_view_module_version": "1.2.0",
       "_view_name": "StyleView",
       "description_width": ""
      }
     },
     "c8720071d1864ac0b52776a6371d9162": {
      "model_module": "@jupyter-widgets/controls",
      "model_module_version": "1.5.0",
      "model_name": "HTMLModel",
      "state": {
       "_dom_classes": [],
       "_model_module": "@jupyter-widgets/controls",
       "_model_module_version": "1.5.0",
       "_model_name": "HTMLModel",
       "_view_count": null,
       "_view_module": "@jupyter-widgets/controls",
       "_view_module_version": "1.5.0",
       "_view_name": "HTMLView",
       "description": "",
       "description_tooltip": null,
       "layout": "IPY_MODEL_d295af09a4d74b22bb4e6afb4a7270d6",
       "placeholder": "​",
       "style": "IPY_MODEL_7bed244c6d784e33ae379d63a991144b",
       "value": " 9/9 [00:00&lt;00:00, 87.64 Check/s, Check=Outlier Sample Detection]"
      }
     },
     "cc7d83a8a06e46308afe3ee4a15189f7": {
      "model_module": "@jupyter-widgets/controls",
      "model_module_version": "1.5.0",
      "model_name": "HBoxModel",
      "state": {
       "_dom_classes": [],
       "_model_module": "@jupyter-widgets/controls",
       "_model_module_version": "1.5.0",
       "_model_name": "HBoxModel",
       "_view_count": null,
       "_view_module": "@jupyter-widgets/controls",
       "_view_module_version": "1.5.0",
       "_view_name": "HBoxView",
       "box_style": "",
       "children": [
        "IPY_MODEL_8967925e98ff4ab89c36d2582dfa1cca",
        "IPY_MODEL_da641388ab7e4a9dbddd10f1e80a6131",
        "IPY_MODEL_c8720071d1864ac0b52776a6371d9162"
       ],
       "layout": "IPY_MODEL_8091593cf82546e6b62c0b04f1886ff7"
      }
     },
     "d295af09a4d74b22bb4e6afb4a7270d6": {
      "model_module": "@jupyter-widgets/base",
      "model_module_version": "1.2.0",
      "model_name": "LayoutModel",
      "state": {
       "_model_module": "@jupyter-widgets/base",
       "_model_module_version": "1.2.0",
       "_model_name": "LayoutModel",
       "_view_count": null,
       "_view_module": "@jupyter-widgets/base",
       "_view_module_version": "1.2.0",
       "_view_name": "LayoutView",
       "align_content": null,
       "align_items": null,
       "align_self": null,
       "border": null,
       "bottom": null,
       "display": null,
       "flex": null,
       "flex_flow": null,
       "grid_area": null,
       "grid_auto_columns": null,
       "grid_auto_flow": null,
       "grid_auto_rows": null,
       "grid_column": null,
       "grid_gap": null,
       "grid_row": null,
       "grid_template_areas": null,
       "grid_template_columns": null,
       "grid_template_rows": null,
       "height": null,
       "justify_content": null,
       "justify_items": null,
       "left": null,
       "margin": null,
       "max_height": null,
       "max_width": null,
       "min_height": null,
       "min_width": null,
       "object_fit": null,
       "object_position": null,
       "order": null,
       "overflow": null,
       "overflow_x": null,
       "overflow_y": null,
       "padding": null,
       "right": null,
       "top": null,
       "visibility": null,
       "width": null
      }
     },
     "da641388ab7e4a9dbddd10f1e80a6131": {
      "model_module": "@jupyter-widgets/controls",
      "model_module_version": "1.5.0",
      "model_name": "FloatProgressModel",
      "state": {
       "_dom_classes": [],
       "_model_module": "@jupyter-widgets/controls",
       "_model_module_version": "1.5.0",
       "_model_name": "FloatProgressModel",
       "_view_count": null,
       "_view_module": "@jupyter-widgets/controls",
       "_view_module_version": "1.5.0",
       "_view_name": "ProgressView",
       "bar_style": "",
       "description": "",
       "description_tooltip": null,
       "layout": "IPY_MODEL_f0e909723a0c4a4ba58cef51c58336d3",
       "max": 9,
       "min": 0,
       "orientation": "horizontal",
       "style": "IPY_MODEL_f7485c5e87794d8c9a5621843769a037",
       "value": 9
      }
     },
     "f0e909723a0c4a4ba58cef51c58336d3": {
      "model_module": "@jupyter-widgets/base",
      "model_module_version": "1.2.0",
      "model_name": "LayoutModel",
      "state": {
       "_model_module": "@jupyter-widgets/base",
       "_model_module_version": "1.2.0",
       "_model_name": "LayoutModel",
       "_view_count": null,
       "_view_module": "@jupyter-widgets/base",
       "_view_module_version": "1.2.0",
       "_view_name": "LayoutView",
       "align_content": null,
       "align_items": null,
       "align_self": null,
       "border": null,
       "bottom": null,
       "display": null,
       "flex": null,
       "flex_flow": null,
       "grid_area": null,
       "grid_auto_columns": null,
       "grid_auto_flow": null,
       "grid_auto_rows": null,
       "grid_column": null,
       "grid_gap": null,
       "grid_row": null,
       "grid_template_areas": null,
       "grid_template_columns": null,
       "grid_template_rows": null,
       "height": null,
       "justify_content": null,
       "justify_items": null,
       "left": null,
       "margin": null,
       "max_height": null,
       "max_width": null,
       "min_height": null,
       "min_width": null,
       "object_fit": null,
       "object_position": null,
       "order": null,
       "overflow": null,
       "overflow_x": null,
       "overflow_y": null,
       "padding": null,
       "right": null,
       "top": null,
       "visibility": null,
       "width": null
      }
     },
     "f71cc52650174f65aafeec41472ebfee": {
      "model_module": "@jupyter-widgets/base",
      "model_module_version": "1.2.0",
      "model_name": "LayoutModel",
      "state": {
       "_model_module": "@jupyter-widgets/base",
       "_model_module_version": "1.2.0",
       "_model_name": "LayoutModel",
       "_view_count": null,
       "_view_module": "@jupyter-widgets/base",
       "_view_module_version": "1.2.0",
       "_view_name": "LayoutView",
       "align_content": null,
       "align_items": null,
       "align_self": null,
       "border": null,
       "bottom": null,
       "display": null,
       "flex": null,
       "flex_flow": null,
       "grid_area": null,
       "grid_auto_columns": null,
       "grid_auto_flow": null,
       "grid_auto_rows": null,
       "grid_column": null,
       "grid_gap": null,
       "grid_row": null,
       "grid_template_areas": null,
       "grid_template_columns": null,
       "grid_template_rows": null,
       "height": null,
       "justify_content": null,
       "justify_items": null,
       "left": null,
       "margin": null,
       "max_height": null,
       "max_width": null,
       "min_height": null,
       "min_width": null,
       "object_fit": null,
       "object_position": null,
       "order": null,
       "overflow": null,
       "overflow_x": null,
       "overflow_y": null,
       "padding": null,
       "right": null,
       "top": null,
       "visibility": null,
       "width": null
      }
     },
     "f7485c5e87794d8c9a5621843769a037": {
      "model_module": "@jupyter-widgets/controls",
      "model_module_version": "1.5.0",
      "model_name": "ProgressStyleModel",
      "state": {
       "_model_module": "@jupyter-widgets/controls",
       "_model_module_version": "1.5.0",
       "_model_name": "ProgressStyleModel",
       "_view_count": null,
       "_view_module": "@jupyter-widgets/base",
       "_view_module_version": "1.2.0",
       "_view_name": "StyleView",
       "bar_color": "#9d60fb",
       "description_width": ""
      }
     }
    },
    "version_major": 2,
    "version_minor": 0
   }
  }
 },
 "nbformat": 4,
 "nbformat_minor": 5
}