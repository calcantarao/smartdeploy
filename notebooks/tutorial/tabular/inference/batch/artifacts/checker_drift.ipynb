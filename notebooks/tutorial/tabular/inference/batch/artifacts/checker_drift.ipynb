{
 "cells": [
  {
   "cell_type": "markdown",
   "id": "e2af0738-9acb-48e5-aa14-06c492c7ea0c",
   "metadata": {
    "papermill": {
     "duration": 0.01408,
     "end_time": "2022-05-31T20:27:44.948383",
     "exception": false,
     "start_time": "2022-05-31T20:27:44.934303",
     "status": "completed"
    },
    "tags": []
   },
   "source": [
    "## Distribution drift\n",
    "\n",
    "Calculamos cuanto se aleja la distribucion de la data en inferencia a la data del training"
   ]
  },
  {
   "cell_type": "code",
   "execution_count": 11,
   "id": "6da777a8-af37-4aaf-93bd-d497bd8c3408",
   "metadata": {
    "papermill": {
     "duration": 7.048497,
     "end_time": "2022-05-31T20:27:52.013568",
     "exception": false,
     "start_time": "2022-05-31T20:27:44.965071",
     "status": "completed"
    },
    "tags": []
   },
   "outputs": [],
   "source": [
    "import pandas as pd\n",
    "import rich\n",
    "import sys, os\n",
    "from deepchecks.tabular import Dataset\n",
    "from deepchecks.tabular.checks import WholeDatasetDrift\n",
    "\n",
    "sys.path.insert(1, os.path.join(sys.path[0], '..'))\n",
    "\n",
    "from cl.checker import drift, pass_drift_check\n",
    "\n",
    "X_inference = pd.read_csv(\"preprocessed_data.csv\")\n",
    "X_train = pd.read_csv(\"../training/X_train.csv\")  # Better from tracker\n",
    "X_train = X_train.loc[:, X_train.columns != 'specimen_number'].copy()"
   ]
  },
  {
   "cell_type": "code",
   "execution_count": 12,
   "id": "d7e50c66-c2e2-4466-8e08-c580794027c2",
   "metadata": {},
   "outputs": [
    {
     "data": {
      "text/html": [
       "<pre style=\"white-space:pre;overflow-x:auto;line-height:normal;font-family:Menlo,'DejaVu Sans Mono',consolas,'Courier New',monospace\"><span style=\"font-weight: bold\">{</span>\n",
       "    <span style=\"color: #008000; text-decoration-color: #008000\">'domain_classifier_auc'</span>: <span style=\"color: #008080; text-decoration-color: #008080; font-weight: bold\">0.5493827160493827</span>,\n",
       "    <span style=\"color: #008000; text-decoration-color: #008000\">'domain_classifier_drift_score'</span>: <span style=\"color: #008080; text-decoration-color: #008080; font-weight: bold\">0.09876543209876543</span>,\n",
       "    <span style=\"color: #008000; text-decoration-color: #008000\">'domain_classifier_feature_importance'</span>: <span style=\"font-weight: bold\">{</span>\n",
       "        <span style=\"color: #008000; text-decoration-color: #008000\">'entropy'</span>: <span style=\"color: #008080; text-decoration-color: #008080; font-weight: bold\">1.0</span>,\n",
       "        <span style=\"color: #008000; text-decoration-color: #008000\">'eccentricity'</span>: <span style=\"color: #008080; text-decoration-color: #008080; font-weight: bold\">0.0</span>,\n",
       "        <span style=\"color: #008000; text-decoration-color: #008000\">'aspect_ratio'</span>: <span style=\"color: #008080; text-decoration-color: #008080; font-weight: bold\">-0.0</span>,\n",
       "        <span style=\"color: #008000; text-decoration-color: #008000\">'elongation'</span>: <span style=\"color: #008080; text-decoration-color: #008080; font-weight: bold\">0.0</span>,\n",
       "        <span style=\"color: #008000; text-decoration-color: #008000\">'solidity'</span>: <span style=\"color: #008080; text-decoration-color: #008080; font-weight: bold\">0.0</span>,\n",
       "        <span style=\"color: #008000; text-decoration-color: #008000\">'stochastic_convexity'</span>: <span style=\"color: #008080; text-decoration-color: #008080; font-weight: bold\">-0.0</span>,\n",
       "        <span style=\"color: #008000; text-decoration-color: #008000\">'isoperimetric_factor'</span>: <span style=\"color: #008080; text-decoration-color: #008080; font-weight: bold\">0.0</span>,\n",
       "        <span style=\"color: #008000; text-decoration-color: #008000\">'maximal_indentation_depth'</span>: <span style=\"color: #008080; text-decoration-color: #008080; font-weight: bold\">0.0</span>,\n",
       "        <span style=\"color: #008000; text-decoration-color: #008000\">'lobedness'</span>: <span style=\"color: #008080; text-decoration-color: #008080; font-weight: bold\">0.0</span>,\n",
       "        <span style=\"color: #008000; text-decoration-color: #008000\">'average_intensity'</span>: <span style=\"color: #008080; text-decoration-color: #008080; font-weight: bold\">0.0</span>,\n",
       "        <span style=\"color: #008000; text-decoration-color: #008000\">'average_contrast'</span>: <span style=\"color: #008080; text-decoration-color: #008080; font-weight: bold\">0.0</span>,\n",
       "        <span style=\"color: #008000; text-decoration-color: #008000\">'smoothness'</span>: <span style=\"color: #008080; text-decoration-color: #008080; font-weight: bold\">0.0</span>,\n",
       "        <span style=\"color: #008000; text-decoration-color: #008000\">'third_moment'</span>: <span style=\"color: #008080; text-decoration-color: #008080; font-weight: bold\">0.0</span>,\n",
       "        <span style=\"color: #008000; text-decoration-color: #008000\">'uniformity'</span>: <span style=\"color: #008080; text-decoration-color: #008080; font-weight: bold\">0.0</span>\n",
       "    <span style=\"font-weight: bold\">}</span>\n",
       "<span style=\"font-weight: bold\">}</span>\n",
       "</pre>\n"
      ],
      "text/plain": [
       "\u001b[1m{\u001b[0m\n",
       "    \u001b[32m'domain_classifier_auc'\u001b[0m: \u001b[1;36m0.5493827160493827\u001b[0m,\n",
       "    \u001b[32m'domain_classifier_drift_score'\u001b[0m: \u001b[1;36m0.09876543209876543\u001b[0m,\n",
       "    \u001b[32m'domain_classifier_feature_importance'\u001b[0m: \u001b[1m{\u001b[0m\n",
       "        \u001b[32m'entropy'\u001b[0m: \u001b[1;36m1.0\u001b[0m,\n",
       "        \u001b[32m'eccentricity'\u001b[0m: \u001b[1;36m0.0\u001b[0m,\n",
       "        \u001b[32m'aspect_ratio'\u001b[0m: \u001b[1;36m-0.0\u001b[0m,\n",
       "        \u001b[32m'elongation'\u001b[0m: \u001b[1;36m0.0\u001b[0m,\n",
       "        \u001b[32m'solidity'\u001b[0m: \u001b[1;36m0.0\u001b[0m,\n",
       "        \u001b[32m'stochastic_convexity'\u001b[0m: \u001b[1;36m-0.0\u001b[0m,\n",
       "        \u001b[32m'isoperimetric_factor'\u001b[0m: \u001b[1;36m0.0\u001b[0m,\n",
       "        \u001b[32m'maximal_indentation_depth'\u001b[0m: \u001b[1;36m0.0\u001b[0m,\n",
       "        \u001b[32m'lobedness'\u001b[0m: \u001b[1;36m0.0\u001b[0m,\n",
       "        \u001b[32m'average_intensity'\u001b[0m: \u001b[1;36m0.0\u001b[0m,\n",
       "        \u001b[32m'average_contrast'\u001b[0m: \u001b[1;36m0.0\u001b[0m,\n",
       "        \u001b[32m'smoothness'\u001b[0m: \u001b[1;36m0.0\u001b[0m,\n",
       "        \u001b[32m'third_moment'\u001b[0m: \u001b[1;36m0.0\u001b[0m,\n",
       "        \u001b[32m'uniformity'\u001b[0m: \u001b[1;36m0.0\u001b[0m\n",
       "    \u001b[1m}\u001b[0m\n",
       "\u001b[1m}\u001b[0m\n"
      ]
     },
     "metadata": {},
     "output_type": "display_data"
    }
   ],
   "source": [
    "results = drift(X_inference, X_train)\n",
    "rich.print(results)"
   ]
  },
  {
   "cell_type": "code",
   "execution_count": 13,
   "id": "ba97291a-9fef-45f5-aec4-b62ac61005f4",
   "metadata": {
    "papermill": {
     "duration": 0.027796,
     "end_time": "2022-05-31T20:27:52.062435",
     "exception": false,
     "start_time": "2022-05-31T20:27:52.034639",
     "status": "completed"
    },
    "tags": []
   },
   "outputs": [
    {
     "data": {
      "text/plain": [
       "0.09876543209876543"
      ]
     },
     "execution_count": 13,
     "metadata": {},
     "output_type": "execute_result"
    }
   ],
   "source": [
    "results[\"domain_classifier_drift_score\"]"
   ]
  },
  {
   "cell_type": "markdown",
   "id": "6e01eab9-1540-438d-9542-8bae0062b624",
   "metadata": {
    "papermill": {
     "duration": 0.665081,
     "end_time": "2022-05-31T20:27:52.741492",
     "exception": false,
     "start_time": "2022-05-31T20:27:52.076411",
     "status": "completed"
    },
    "tags": []
   },
   "source": [
    "## Ver si pasa el check de Integridad"
   ]
  },
  {
   "cell_type": "code",
   "execution_count": 7,
   "id": "015f6aaf-864a-443d-97e5-b48d0fe33a40",
   "metadata": {},
   "outputs": [
    {
     "data": {
      "text/plain": [
       "True"
      ]
     },
     "execution_count": 7,
     "metadata": {},
     "output_type": "execute_result"
    }
   ],
   "source": [
    "pass_drift_check()"
   ]
  }
 ],
 "metadata": {
  "kernelspec": {
   "display_name": "Python 3 (ipykernel)",
   "language": "python",
   "name": "python3"
  },
  "language_info": {
   "codemirror_mode": {
    "name": "ipython",
    "version": 3
   },
   "file_extension": ".py",
   "mimetype": "text/x-python",
   "name": "python",
   "nbconvert_exporter": "python",
   "pygments_lexer": "ipython3",
   "version": "3.10.6"
  },
  "papermill": {
   "default_parameters": {},
   "duration": 11.337427,
   "end_time": "2022-05-31T20:27:55.381238",
   "environment_variables": {},
   "exception": null,
   "input_path": "/home/jovyan/deployment/checker_drift.ipynb",
   "output_path": "/home/jovyan/deployment/checker_drift.ipynb",
   "parameters": {},
   "start_time": "2022-05-31T20:27:44.043811",
   "version": "2.3.4"
  },
  "widgets": {
   "application/vnd.jupyter.widget-state+json": {
    "state": {
     "04936065af6b4cd8bf3dd018c03367af": {
      "model_module": "@jupyter-widgets/controls",
      "model_module_version": "1.5.0",
      "model_name": "VBoxModel",
      "state": {
       "_dom_classes": [],
       "_model_module": "@jupyter-widgets/controls",
       "_model_module_version": "1.5.0",
       "_model_name": "VBoxModel",
       "_view_count": null,
       "_view_module": "@jupyter-widgets/controls",
       "_view_module_version": "1.5.0",
       "_view_name": "VBoxView",
       "box_style": "",
       "children": [
        "IPY_MODEL_b35c27463c8c4de1af55a346ca4ac5bf",
        "IPY_MODEL_5b2e111ffa8e4da7ad51d7e0da71887c",
        "IPY_MODEL_d254b2fe533c41ffa89d3590ccbb39c3",
        "IPY_MODEL_26ca22ea02514a9dbfce086dfe39aff7",
        "IPY_MODEL_9aaa4aaebd6d4311b3e17e44a4f5216c",
        "IPY_MODEL_71b0518cf842450a904c181e55cac481",
        "IPY_MODEL_cf09228b146d415faecc693cefd7e0fb"
       ],
       "layout": "IPY_MODEL_6218919c4d1d4d83af374f2283d5cf3c"
      }
     },
     "0abd188732bd4e6aaf36702ad62bcba9": {
      "model_module": "@jupyter-widgets/base",
      "model_module_version": "1.2.0",
      "model_name": "LayoutModel",
      "state": {
       "_model_module": "@jupyter-widgets/base",
       "_model_module_version": "1.2.0",
       "_model_name": "LayoutModel",
       "_view_count": null,
       "_view_module": "@jupyter-widgets/base",
       "_view_module_version": "1.2.0",
       "_view_name": "LayoutView",
       "align_content": null,
       "align_items": null,
       "align_self": null,
       "border": null,
       "bottom": null,
       "display": null,
       "flex": null,
       "flex_flow": null,
       "grid_area": null,
       "grid_auto_columns": null,
       "grid_auto_flow": null,
       "grid_auto_rows": null,
       "grid_column": null,
       "grid_gap": null,
       "grid_row": null,
       "grid_template_areas": null,
       "grid_template_columns": null,
       "grid_template_rows": null,
       "height": null,
       "justify_content": null,
       "justify_items": null,
       "left": null,
       "margin": null,
       "max_height": null,
       "max_width": null,
       "min_height": null,
       "min_width": null,
       "object_fit": null,
       "object_position": null,
       "order": null,
       "overflow": null,
       "overflow_x": null,
       "overflow_y": null,
       "padding": null,
       "right": null,
       "top": null,
       "visibility": null,
       "width": null
      }
     },
     "1f88598884414e6ab10f8b5f31e37199": {
      "model_module": "@jupyter-widgets/controls",
      "model_module_version": "1.5.0",
      "model_name": "DescriptionStyleModel",
      "state": {
       "_model_module": "@jupyter-widgets/controls",
       "_model_module_version": "1.5.0",
       "_model_name": "DescriptionStyleModel",
       "_view_count": null,
       "_view_module": "@jupyter-widgets/base",
       "_view_module_version": "1.2.0",
       "_view_name": "StyleView",
       "description_width": ""
      }
     },
     "23968016c26d43fa94d45a249c19c1a8": {
      "model_module": "@jupyter-widgets/controls",
      "model_module_version": "1.5.0",
      "model_name": "DescriptionStyleModel",
      "state": {
       "_model_module": "@jupyter-widgets/controls",
       "_model_module_version": "1.5.0",
       "_model_name": "DescriptionStyleModel",
       "_view_count": null,
       "_view_module": "@jupyter-widgets/base",
       "_view_module_version": "1.2.0",
       "_view_name": "StyleView",
       "description_width": ""
      }
     },
     "26406f4882ed4972bb75dcd33f55af3d": {
      "model_module": "@jupyter-widgets/controls",
      "model_module_version": "1.5.0",
      "model_name": "DescriptionStyleModel",
      "state": {
       "_model_module": "@jupyter-widgets/controls",
       "_model_module_version": "1.5.0",
       "_model_name": "DescriptionStyleModel",
       "_view_count": null,
       "_view_module": "@jupyter-widgets/base",
       "_view_module_version": "1.2.0",
       "_view_name": "StyleView",
       "description_width": ""
      }
     },
     "26ca22ea02514a9dbfce086dfe39aff7": {
      "model_module": "jupyterlab-plotly",
      "model_module_version": "^5.5.0",
      "model_name": "FigureModel",
      "state": {
       "_config": {
        "plotlyServerURL": "https://plot.ly"
       },
       "_data": [
        {
         "base": 0,
         "marker": {
          "color": "#01B8AA"
         },
         "offsetgroup": "0",
         "orientation": "h",
         "showlegend": false,
         "type": "bar",
         "uid": "992e839c-306f-4528-b712-52b22d0d015b",
         "x": [
          0.09876543209876543
         ],
         "y": [
          "Drift Score"
         ]
        }
       ],
       "_dom_classes": [],
       "_js2py_layoutDelta": {},
       "_js2py_pointsCallback": {},
       "_js2py_relayout": {},
       "_js2py_restyle": {},
       "_js2py_traceDeltas": {},
       "_js2py_update": {},
       "_last_layout_edit_id": 0,
       "_last_trace_edit_id": 0,
       "_layout": {
        "height": 200,
        "template": {
         "data": {
          "bar": [
           {
            "error_x": {
             "color": "#2a3f5f"
            },
            "error_y": {
             "color": "#2a3f5f"
            },
            "marker": {
             "line": {
              "color": "#E5ECF6",
              "width": 0.5
             },
             "pattern": {
              "fillmode": "overlay",
              "size": 10,
              "solidity": 0.2
             }
            },
            "type": "bar"
           }
          ],
          "barpolar": [
           {
            "marker": {
             "line": {
              "color": "#E5ECF6",
              "width": 0.5
             },
             "pattern": {
              "fillmode": "overlay",
              "size": 10,
              "solidity": 0.2
             }
            },
            "type": "barpolar"
           }
          ],
          "carpet": [
           {
            "aaxis": {
             "endlinecolor": "#2a3f5f",
             "gridcolor": "white",
             "linecolor": "white",
             "minorgridcolor": "white",
             "startlinecolor": "#2a3f5f"
            },
            "baxis": {
             "endlinecolor": "#2a3f5f",
             "gridcolor": "white",
             "linecolor": "white",
             "minorgridcolor": "white",
             "startlinecolor": "#2a3f5f"
            },
            "type": "carpet"
           }
          ],
          "choropleth": [
           {
            "colorbar": {
             "outlinewidth": 0,
             "ticks": ""
            },
            "type": "choropleth"
           }
          ],
          "contour": [
           {
            "colorbar": {
             "outlinewidth": 0,
             "ticks": ""
            },
            "colorscale": [
             [
              0,
              "#0d0887"
             ],
             [
              0.1111111111111111,
              "#46039f"
             ],
             [
              0.2222222222222222,
              "#7201a8"
             ],
             [
              0.3333333333333333,
              "#9c179e"
             ],
             [
              0.4444444444444444,
              "#bd3786"
             ],
             [
              0.5555555555555556,
              "#d8576b"
             ],
             [
              0.6666666666666666,
              "#ed7953"
             ],
             [
              0.7777777777777778,
              "#fb9f3a"
             ],
             [
              0.8888888888888888,
              "#fdca26"
             ],
             [
              1,
              "#f0f921"
             ]
            ],
            "type": "contour"
           }
          ],
          "contourcarpet": [
           {
            "colorbar": {
             "outlinewidth": 0,
             "ticks": ""
            },
            "type": "contourcarpet"
           }
          ],
          "heatmap": [
           {
            "colorbar": {
             "outlinewidth": 0,
             "ticks": ""
            },
            "colorscale": [
             [
              0,
              "#0d0887"
             ],
             [
              0.1111111111111111,
              "#46039f"
             ],
             [
              0.2222222222222222,
              "#7201a8"
             ],
             [
              0.3333333333333333,
              "#9c179e"
             ],
             [
              0.4444444444444444,
              "#bd3786"
             ],
             [
              0.5555555555555556,
              "#d8576b"
             ],
             [
              0.6666666666666666,
              "#ed7953"
             ],
             [
              0.7777777777777778,
              "#fb9f3a"
             ],
             [
              0.8888888888888888,
              "#fdca26"
             ],
             [
              1,
              "#f0f921"
             ]
            ],
            "type": "heatmap"
           }
          ],
          "heatmapgl": [
           {
            "colorbar": {
             "outlinewidth": 0,
             "ticks": ""
            },
            "colorscale": [
             [
              0,
              "#0d0887"
             ],
             [
              0.1111111111111111,
              "#46039f"
             ],
             [
              0.2222222222222222,
              "#7201a8"
             ],
             [
              0.3333333333333333,
              "#9c179e"
             ],
             [
              0.4444444444444444,
              "#bd3786"
             ],
             [
              0.5555555555555556,
              "#d8576b"
             ],
             [
              0.6666666666666666,
              "#ed7953"
             ],
             [
              0.7777777777777778,
              "#fb9f3a"
             ],
             [
              0.8888888888888888,
              "#fdca26"
             ],
             [
              1,
              "#f0f921"
             ]
            ],
            "type": "heatmapgl"
           }
          ],
          "histogram": [
           {
            "marker": {
             "pattern": {
              "fillmode": "overlay",
              "size": 10,
              "solidity": 0.2
             }
            },
            "type": "histogram"
           }
          ],
          "histogram2d": [
           {
            "colorbar": {
             "outlinewidth": 0,
             "ticks": ""
            },
            "colorscale": [
             [
              0,
              "#0d0887"
             ],
             [
              0.1111111111111111,
              "#46039f"
             ],
             [
              0.2222222222222222,
              "#7201a8"
             ],
             [
              0.3333333333333333,
              "#9c179e"
             ],
             [
              0.4444444444444444,
              "#bd3786"
             ],
             [
              0.5555555555555556,
              "#d8576b"
             ],
             [
              0.6666666666666666,
              "#ed7953"
             ],
             [
              0.7777777777777778,
              "#fb9f3a"
             ],
             [
              0.8888888888888888,
              "#fdca26"
             ],
             [
              1,
              "#f0f921"
             ]
            ],
            "type": "histogram2d"
           }
          ],
          "histogram2dcontour": [
           {
            "colorbar": {
             "outlinewidth": 0,
             "ticks": ""
            },
            "colorscale": [
             [
              0,
              "#0d0887"
             ],
             [
              0.1111111111111111,
              "#46039f"
             ],
             [
              0.2222222222222222,
              "#7201a8"
             ],
             [
              0.3333333333333333,
              "#9c179e"
             ],
             [
              0.4444444444444444,
              "#bd3786"
             ],
             [
              0.5555555555555556,
              "#d8576b"
             ],
             [
              0.6666666666666666,
              "#ed7953"
             ],
             [
              0.7777777777777778,
              "#fb9f3a"
             ],
             [
              0.8888888888888888,
              "#fdca26"
             ],
             [
              1,
              "#f0f921"
             ]
            ],
            "type": "histogram2dcontour"
           }
          ],
          "mesh3d": [
           {
            "colorbar": {
             "outlinewidth": 0,
             "ticks": ""
            },
            "type": "mesh3d"
           }
          ],
          "parcoords": [
           {
            "line": {
             "colorbar": {
              "outlinewidth": 0,
              "ticks": ""
             }
            },
            "type": "parcoords"
           }
          ],
          "pie": [
           {
            "automargin": true,
            "type": "pie"
           }
          ],
          "scatter": [
           {
            "marker": {
             "colorbar": {
              "outlinewidth": 0,
              "ticks": ""
             }
            },
            "type": "scatter"
           }
          ],
          "scatter3d": [
           {
            "line": {
             "colorbar": {
              "outlinewidth": 0,
              "ticks": ""
             }
            },
            "marker": {
             "colorbar": {
              "outlinewidth": 0,
              "ticks": ""
             }
            },
            "type": "scatter3d"
           }
          ],
          "scattercarpet": [
           {
            "marker": {
             "colorbar": {
              "outlinewidth": 0,
              "ticks": ""
             }
            },
            "type": "scattercarpet"
           }
          ],
          "scattergeo": [
           {
            "marker": {
             "colorbar": {
              "outlinewidth": 0,
              "ticks": ""
             }
            },
            "type": "scattergeo"
           }
          ],
          "scattergl": [
           {
            "marker": {
             "colorbar": {
              "outlinewidth": 0,
              "ticks": ""
             }
            },
            "type": "scattergl"
           }
          ],
          "scattermapbox": [
           {
            "marker": {
             "colorbar": {
              "outlinewidth": 0,
              "ticks": ""
             }
            },
            "type": "scattermapbox"
           }
          ],
          "scatterpolar": [
           {
            "marker": {
             "colorbar": {
              "outlinewidth": 0,
              "ticks": ""
             }
            },
            "type": "scatterpolar"
           }
          ],
          "scatterpolargl": [
           {
            "marker": {
             "colorbar": {
              "outlinewidth": 0,
              "ticks": ""
             }
            },
            "type": "scatterpolargl"
           }
          ],
          "scatterternary": [
           {
            "marker": {
             "colorbar": {
              "outlinewidth": 0,
              "ticks": ""
             }
            },
            "type": "scatterternary"
           }
          ],
          "surface": [
           {
            "colorbar": {
             "outlinewidth": 0,
             "ticks": ""
            },
            "colorscale": [
             [
              0,
              "#0d0887"
             ],
             [
              0.1111111111111111,
              "#46039f"
             ],
             [
              0.2222222222222222,
              "#7201a8"
             ],
             [
              0.3333333333333333,
              "#9c179e"
             ],
             [
              0.4444444444444444,
              "#bd3786"
             ],
             [
              0.5555555555555556,
              "#d8576b"
             ],
             [
              0.6666666666666666,
              "#ed7953"
             ],
             [
              0.7777777777777778,
              "#fb9f3a"
             ],
             [
              0.8888888888888888,
              "#fdca26"
             ],
             [
              1,
              "#f0f921"
             ]
            ],
            "type": "surface"
           }
          ],
          "table": [
           {
            "cells": {
             "fill": {
              "color": "#EBF0F8"
             },
             "line": {
              "color": "white"
             }
            },
            "header": {
             "fill": {
              "color": "#C8D4E3"
             },
             "line": {
              "color": "white"
             }
            },
            "type": "table"
           }
          ]
         },
         "layout": {
          "annotationdefaults": {
           "arrowcolor": "#2a3f5f",
           "arrowhead": 0,
           "arrowwidth": 1
          },
          "autotypenumbers": "strict",
          "coloraxis": {
           "colorbar": {
            "outlinewidth": 0,
            "ticks": ""
           }
          },
          "colorscale": {
           "diverging": [
            [
             0,
             "#8e0152"
            ],
            [
             0.1,
             "#c51b7d"
            ],
            [
             0.2,
             "#de77ae"
            ],
            [
             0.3,
             "#f1b6da"
            ],
            [
             0.4,
             "#fde0ef"
            ],
            [
             0.5,
             "#f7f7f7"
            ],
            [
             0.6,
             "#e6f5d0"
            ],
            [
             0.7,
             "#b8e186"
            ],
            [
             0.8,
             "#7fbc41"
            ],
            [
             0.9,
             "#4d9221"
            ],
            [
             1,
             "#276419"
            ]
           ],
           "sequential": [
            [
             0,
             "#0d0887"
            ],
            [
             0.1111111111111111,
             "#46039f"
            ],
            [
             0.2222222222222222,
             "#7201a8"
            ],
            [
             0.3333333333333333,
             "#9c179e"
            ],
            [
             0.4444444444444444,
             "#bd3786"
            ],
            [
             0.5555555555555556,
             "#d8576b"
            ],
            [
             0.6666666666666666,
             "#ed7953"
            ],
            [
             0.7777777777777778,
             "#fb9f3a"
            ],
            [
             0.8888888888888888,
             "#fdca26"
            ],
            [
             1,
             "#f0f921"
            ]
           ],
           "sequentialminus": [
            [
             0,
             "#0d0887"
            ],
            [
             0.1111111111111111,
             "#46039f"
            ],
            [
             0.2222222222222222,
             "#7201a8"
            ],
            [
             0.3333333333333333,
             "#9c179e"
            ],
            [
             0.4444444444444444,
             "#bd3786"
            ],
            [
             0.5555555555555556,
             "#d8576b"
            ],
            [
             0.6666666666666666,
             "#ed7953"
            ],
            [
             0.7777777777777778,
             "#fb9f3a"
            ],
            [
             0.8888888888888888,
             "#fdca26"
            ],
            [
             1,
             "#f0f921"
            ]
           ]
          },
          "colorway": [
           "#636efa",
           "#EF553B",
           "#00cc96",
           "#ab63fa",
           "#FFA15A",
           "#19d3f3",
           "#FF6692",
           "#B6E880",
           "#FF97FF",
           "#FECB52"
          ],
          "font": {
           "color": "#2a3f5f"
          },
          "geo": {
           "bgcolor": "white",
           "lakecolor": "white",
           "landcolor": "#E5ECF6",
           "showlakes": true,
           "showland": true,
           "subunitcolor": "white"
          },
          "hoverlabel": {
           "align": "left"
          },
          "hovermode": "closest",
          "mapbox": {
           "style": "light"
          },
          "paper_bgcolor": "white",
          "plot_bgcolor": "#E5ECF6",
          "polar": {
           "angularaxis": {
            "gridcolor": "white",
            "linecolor": "white",
            "ticks": ""
           },
           "bgcolor": "#E5ECF6",
           "radialaxis": {
            "gridcolor": "white",
            "linecolor": "white",
            "ticks": ""
           }
          },
          "scene": {
           "xaxis": {
            "backgroundcolor": "#E5ECF6",
            "gridcolor": "white",
            "gridwidth": 2,
            "linecolor": "white",
            "showbackground": true,
            "ticks": "",
            "zerolinecolor": "white"
           },
           "yaxis": {
            "backgroundcolor": "#E5ECF6",
            "gridcolor": "white",
            "gridwidth": 2,
            "linecolor": "white",
            "showbackground": true,
            "ticks": "",
            "zerolinecolor": "white"
           },
           "zaxis": {
            "backgroundcolor": "#E5ECF6",
            "gridcolor": "white",
            "gridwidth": 2,
            "linecolor": "white",
            "showbackground": true,
            "ticks": "",
            "zerolinecolor": "white"
           }
          },
          "shapedefaults": {
           "line": {
            "color": "#2a3f5f"
           }
          },
          "ternary": {
           "aaxis": {
            "gridcolor": "white",
            "linecolor": "white",
            "ticks": ""
           },
           "baxis": {
            "gridcolor": "white",
            "linecolor": "white",
            "ticks": ""
           },
           "bgcolor": "#E5ECF6",
           "caxis": {
            "gridcolor": "white",
            "linecolor": "white",
            "ticks": ""
           }
          },
          "title": {
           "x": 0.05
          },
          "xaxis": {
           "automargin": true,
           "gridcolor": "white",
           "linecolor": "white",
           "ticks": "",
           "title": {
            "standoff": 15
           },
           "zerolinecolor": "white",
           "zerolinewidth": 2
          },
          "yaxis": {
           "automargin": true,
           "gridcolor": "white",
           "linecolor": "white",
           "ticks": "",
           "title": {
            "standoff": 15
           },
           "zerolinecolor": "white",
           "zerolinewidth": 2
          }
         }
        },
        "title": {
         "text": "Drift Score - Whole Dataset Total"
        },
        "xaxis": {
         "dtick": 0.05,
         "fixedrange": true,
         "gridcolor": "black",
         "linecolor": "black",
         "range": [
          0,
          0.4
         ],
         "showgrid": false,
         "title": {
          "text": "Drift score"
         }
        },
        "yaxis": {
         "autorange": true,
         "color": "black",
         "fixedrange": true,
         "rangemode": "normal",
         "showgrid": false,
         "showline": false,
         "showticklabels": false,
         "zeroline": false
        }
       },
       "_model_module": "jupyterlab-plotly",
       "_model_module_version": "^5.5.0",
       "_model_name": "FigureModel",
       "_py2js_addTraces": {},
       "_py2js_animate": {},
       "_py2js_deleteTraces": {},
       "_py2js_moveTraces": {},
       "_py2js_relayout": {},
       "_py2js_removeLayoutProps": {},
       "_py2js_removeTraceProps": {},
       "_py2js_restyle": {},
       "_py2js_update": {},
       "_view_count": 0,
       "_view_module": "jupyterlab-plotly",
       "_view_module_version": "^5.5.0",
       "_view_name": "FigureView"
      }
     },
     "277615e2cd5c49c68834e3dfb9a0ba6d": {
      "model_module": "@jupyter-widgets/base",
      "model_module_version": "1.2.0",
      "model_name": "LayoutModel",
      "state": {
       "_model_module": "@jupyter-widgets/base",
       "_model_module_version": "1.2.0",
       "_model_name": "LayoutModel",
       "_view_count": null,
       "_view_module": "@jupyter-widgets/base",
       "_view_module_version": "1.2.0",
       "_view_name": "LayoutView",
       "align_content": null,
       "align_items": null,
       "align_self": null,
       "border": null,
       "bottom": null,
       "display": null,
       "flex": null,
       "flex_flow": null,
       "grid_area": null,
       "grid_auto_columns": null,
       "grid_auto_flow": null,
       "grid_auto_rows": null,
       "grid_column": null,
       "grid_gap": null,
       "grid_row": null,
       "grid_template_areas": null,
       "grid_template_columns": null,
       "grid_template_rows": null,
       "height": null,
       "justify_content": null,
       "justify_items": null,
       "left": null,
       "margin": null,
       "max_height": null,
       "max_width": null,
       "min_height": null,
       "min_width": null,
       "object_fit": null,
       "object_position": null,
       "order": null,
       "overflow": null,
       "overflow_x": null,
       "overflow_y": null,
       "padding": null,
       "right": null,
       "top": null,
       "visibility": null,
       "width": null
      }
     },
     "343afaf3f2714ab1a5bcf13407c5ea77": {
      "model_module": "@jupyter-widgets/controls",
      "model_module_version": "1.5.0",
      "model_name": "HTMLModel",
      "state": {
       "_dom_classes": [],
       "_model_module": "@jupyter-widgets/controls",
       "_model_module_version": "1.5.0",
       "_model_name": "HTMLModel",
       "_view_count": null,
       "_view_module": "@jupyter-widgets/controls",
       "_view_module_version": "1.5.0",
       "_view_name": "HTMLView",
       "description": "",
       "description_tooltip": null,
       "layout": "IPY_MODEL_67a321ba545c4c11b6c07c3a7960779d",
       "placeholder": "​",
       "style": "IPY_MODEL_23968016c26d43fa94d45a249c19c1a8",
       "value": "<h4><b>Whole Dataset Drift</b></h4>"
      }
     },
     "34617fc5d01040559fca943df34ac593": {
      "model_module": "@jupyter-widgets/base",
      "model_module_version": "1.2.0",
      "model_name": "LayoutModel",
      "state": {
       "_model_module": "@jupyter-widgets/base",
       "_model_module_version": "1.2.0",
       "_model_name": "LayoutModel",
       "_view_count": null,
       "_view_module": "@jupyter-widgets/base",
       "_view_module_version": "1.2.0",
       "_view_name": "LayoutView",
       "align_content": null,
       "align_items": null,
       "align_self": null,
       "border": null,
       "bottom": null,
       "display": null,
       "flex": null,
       "flex_flow": null,
       "grid_area": null,
       "grid_auto_columns": null,
       "grid_auto_flow": null,
       "grid_auto_rows": null,
       "grid_column": null,
       "grid_gap": null,
       "grid_row": null,
       "grid_template_areas": null,
       "grid_template_columns": null,
       "grid_template_rows": null,
       "height": null,
       "justify_content": null,
       "justify_items": null,
       "left": null,
       "margin": null,
       "max_height": null,
       "max_width": null,
       "min_height": null,
       "min_width": null,
       "object_fit": null,
       "object_position": null,
       "order": null,
       "overflow": null,
       "overflow_x": null,
       "overflow_y": null,
       "padding": null,
       "right": null,
       "top": null,
       "visibility": null,
       "width": null
      }
     },
     "54b483605a5d418dbddf93daeadf5756": {
      "model_module": "@jupyter-widgets/controls",
      "model_module_version": "1.5.0",
      "model_name": "HTMLModel",
      "state": {
       "_dom_classes": [],
       "_model_module": "@jupyter-widgets/controls",
       "_model_module_version": "1.5.0",
       "_model_name": "HTMLModel",
       "_view_count": null,
       "_view_module": "@jupyter-widgets/controls",
       "_view_module_version": "1.5.0",
       "_view_name": "HTMLView",
       "description": "",
       "description_tooltip": null,
       "layout": "IPY_MODEL_34617fc5d01040559fca943df34ac593",
       "placeholder": "​",
       "style": "IPY_MODEL_6deb2a71e0244f02b3f1a579c205d487",
       "value": "<h5><b>Conditions Summary</b></h5><style type=\"text/css\">\n#T_12e14 table {\n  text-align: left;\n  white-space: pre-wrap;\n}\n#T_12e14 thead {\n  text-align: left;\n  white-space: pre-wrap;\n}\n#T_12e14 tbody {\n  text-align: left;\n  white-space: pre-wrap;\n}\n#T_12e14 th {\n  text-align: left;\n  white-space: pre-wrap;\n}\n#T_12e14 td {\n  text-align: left;\n  white-space: pre-wrap;\n}\n</style>\n<table id=\"T_12e14\">\n  <thead>\n    <tr>\n      <th id=\"T_12e14_level0_col0\" class=\"col_heading level0 col0\" >Status</th>\n      <th id=\"T_12e14_level0_col1\" class=\"col_heading level0 col1\" >Condition</th>\n      <th id=\"T_12e14_level0_col2\" class=\"col_heading level0 col2\" >More Info</th>\n    </tr>\n  </thead>\n  <tbody>\n    <tr>\n      <td id=\"T_12e14_row0_col0\" class=\"data row0 col0\" ><div style=\"color: green;text-align: center\">✓</div></td>\n      <td id=\"T_12e14_row0_col1\" class=\"data row0 col1\" >Drift value is not greater than 0.1</td>\n      <td id=\"T_12e14_row0_col2\" class=\"data row0 col2\" >Found drift value of: 0.1, corresponding to a domain classifier AUC of: 0.55</td>\n    </tr>\n  </tbody>\n</table>\n"
      }
     },
     "5b2e111ffa8e4da7ad51d7e0da71887c": {
      "model_module": "@jupyter-widgets/controls",
      "model_module_version": "1.5.0",
      "model_name": "HTMLModel",
      "state": {
       "_dom_classes": [],
       "_model_module": "@jupyter-widgets/controls",
       "_model_module_version": "1.5.0",
       "_model_name": "HTMLModel",
       "_view_count": null,
       "_view_module": "@jupyter-widgets/controls",
       "_view_module_version": "1.5.0",
       "_view_name": "HTMLView",
       "description": "",
       "description_tooltip": null,
       "layout": "IPY_MODEL_baaf944a16a8495bb876f862f62284fa",
       "placeholder": "​",
       "style": "IPY_MODEL_d9e74e22386348b3924973e0d7c3db22",
       "value": "<div>\n        <span>\n        The shown features are the features that are most important for the domain classifier - the\n        domain_classifier trained to distinguish between the train and test datasets.<br>\n        </span>\n        </div>"
      }
     },
     "6218919c4d1d4d83af374f2283d5cf3c": {
      "model_module": "@jupyter-widgets/base",
      "model_module_version": "1.2.0",
      "model_name": "LayoutModel",
      "state": {
       "_model_module": "@jupyter-widgets/base",
       "_model_module_version": "1.2.0",
       "_model_name": "LayoutModel",
       "_view_count": null,
       "_view_module": "@jupyter-widgets/base",
       "_view_module_version": "1.2.0",
       "_view_name": "LayoutView",
       "align_content": null,
       "align_items": null,
       "align_self": null,
       "border": null,
       "bottom": null,
       "display": null,
       "flex": null,
       "flex_flow": null,
       "grid_area": null,
       "grid_auto_columns": null,
       "grid_auto_flow": null,
       "grid_auto_rows": null,
       "grid_column": null,
       "grid_gap": null,
       "grid_row": null,
       "grid_template_areas": null,
       "grid_template_columns": null,
       "grid_template_rows": null,
       "height": null,
       "justify_content": null,
       "justify_items": null,
       "left": null,
       "margin": null,
       "max_height": null,
       "max_width": null,
       "min_height": null,
       "min_width": null,
       "object_fit": null,
       "object_position": null,
       "order": null,
       "overflow": null,
       "overflow_x": null,
       "overflow_y": null,
       "padding": null,
       "right": null,
       "top": null,
       "visibility": null,
       "width": null
      }
     },
     "67a321ba545c4c11b6c07c3a7960779d": {
      "model_module": "@jupyter-widgets/base",
      "model_module_version": "1.2.0",
      "model_name": "LayoutModel",
      "state": {
       "_model_module": "@jupyter-widgets/base",
       "_model_module_version": "1.2.0",
       "_model_name": "LayoutModel",
       "_view_count": null,
       "_view_module": "@jupyter-widgets/base",
       "_view_module_version": "1.2.0",
       "_view_name": "LayoutView",
       "align_content": null,
       "align_items": null,
       "align_self": null,
       "border": null,
       "bottom": null,
       "display": null,
       "flex": null,
       "flex_flow": null,
       "grid_area": null,
       "grid_auto_columns": null,
       "grid_auto_flow": null,
       "grid_auto_rows": null,
       "grid_column": null,
       "grid_gap": null,
       "grid_row": null,
       "grid_template_areas": null,
       "grid_template_columns": null,
       "grid_template_rows": null,
       "height": null,
       "justify_content": null,
       "justify_items": null,
       "left": null,
       "margin": null,
       "max_height": null,
       "max_width": null,
       "min_height": null,
       "min_width": null,
       "object_fit": null,
       "object_position": null,
       "order": null,
       "overflow": null,
       "overflow_x": null,
       "overflow_y": null,
       "padding": null,
       "right": null,
       "top": null,
       "visibility": null,
       "width": null
      }
     },
     "6deb2a71e0244f02b3f1a579c205d487": {
      "model_module": "@jupyter-widgets/controls",
      "model_module_version": "1.5.0",
      "model_name": "DescriptionStyleModel",
      "state": {
       "_model_module": "@jupyter-widgets/controls",
       "_model_module_version": "1.5.0",
       "_model_name": "DescriptionStyleModel",
       "_view_count": null,
       "_view_module": "@jupyter-widgets/base",
       "_view_module_version": "1.2.0",
       "_view_name": "StyleView",
       "description_width": ""
      }
     },
     "70f372606a6845719aa8bbf11d304b14": {
      "model_module": "@jupyter-widgets/base",
      "model_module_version": "1.2.0",
      "model_name": "LayoutModel",
      "state": {
       "_model_module": "@jupyter-widgets/base",
       "_model_module_version": "1.2.0",
       "_model_name": "LayoutModel",
       "_view_count": null,
       "_view_module": "@jupyter-widgets/base",
       "_view_module_version": "1.2.0",
       "_view_name": "LayoutView",
       "align_content": null,
       "align_items": null,
       "align_self": null,
       "border": null,
       "bottom": null,
       "display": null,
       "flex": null,
       "flex_flow": null,
       "grid_area": null,
       "grid_auto_columns": null,
       "grid_auto_flow": null,
       "grid_auto_rows": null,
       "grid_column": null,
       "grid_gap": null,
       "grid_row": null,
       "grid_template_areas": null,
       "grid_template_columns": null,
       "grid_template_rows": null,
       "height": null,
       "justify_content": null,
       "justify_items": null,
       "left": null,
       "margin": null,
       "max_height": null,
       "max_width": null,
       "min_height": null,
       "min_width": null,
       "object_fit": null,
       "object_position": null,
       "order": null,
       "overflow": null,
       "overflow_x": null,
       "overflow_y": null,
       "padding": null,
       "right": null,
       "top": null,
       "visibility": null,
       "width": null
      }
     },
     "71b0518cf842450a904c181e55cac481": {
      "model_module": "@jupyter-widgets/controls",
      "model_module_version": "1.5.0",
      "model_name": "HTMLModel",
      "state": {
       "_dom_classes": [],
       "_model_module": "@jupyter-widgets/controls",
       "_model_module_version": "1.5.0",
       "_model_name": "HTMLModel",
       "_view_count": null,
       "_view_module": "@jupyter-widgets/controls",
       "_view_module_version": "1.5.0",
       "_view_name": "HTMLView",
       "description": "",
       "description_tooltip": null,
       "layout": "IPY_MODEL_ff26098e7cbf47158d185155b4827f58",
       "placeholder": "​",
       "style": "IPY_MODEL_8c8d19fce2494b1ea4c13e87c2b92939",
       "value": "<div>* showing only the top 3 columns, you can change it using n_top_columns param</div>"
      }
     },
     "80575c63e90143e4b813a066602d6991": {
      "model_module": "@jupyter-widgets/controls",
      "model_module_version": "1.5.0",
      "model_name": "DescriptionStyleModel",
      "state": {
       "_model_module": "@jupyter-widgets/controls",
       "_model_module_version": "1.5.0",
       "_model_name": "DescriptionStyleModel",
       "_view_count": null,
       "_view_module": "@jupyter-widgets/base",
       "_view_module_version": "1.2.0",
       "_view_name": "StyleView",
       "description_width": ""
      }
     },
     "8c8d19fce2494b1ea4c13e87c2b92939": {
      "model_module": "@jupyter-widgets/controls",
      "model_module_version": "1.5.0",
      "model_name": "DescriptionStyleModel",
      "state": {
       "_model_module": "@jupyter-widgets/controls",
       "_model_module_version": "1.5.0",
       "_model_name": "DescriptionStyleModel",
       "_view_count": null,
       "_view_module": "@jupyter-widgets/base",
       "_view_module_version": "1.2.0",
       "_view_name": "StyleView",
       "description_width": ""
      }
     },
     "938226133a4343668de4dd9bdb1579d4": {
      "model_module": "@jupyter-widgets/base",
      "model_module_version": "1.2.0",
      "model_name": "LayoutModel",
      "state": {
       "_model_module": "@jupyter-widgets/base",
       "_model_module_version": "1.2.0",
       "_model_name": "LayoutModel",
       "_view_count": null,
       "_view_module": "@jupyter-widgets/base",
       "_view_module_version": "1.2.0",
       "_view_name": "LayoutView",
       "align_content": null,
       "align_items": null,
       "align_self": null,
       "border": null,
       "bottom": null,
       "display": null,
       "flex": null,
       "flex_flow": null,
       "grid_area": null,
       "grid_auto_columns": null,
       "grid_auto_flow": null,
       "grid_auto_rows": null,
       "grid_column": null,
       "grid_gap": null,
       "grid_row": null,
       "grid_template_areas": null,
       "grid_template_columns": null,
       "grid_template_rows": null,
       "height": null,
       "justify_content": null,
       "justify_items": null,
       "left": null,
       "margin": null,
       "max_height": null,
       "max_width": null,
       "min_height": null,
       "min_width": null,
       "object_fit": null,
       "object_position": null,
       "order": null,
       "overflow": null,
       "overflow_x": null,
       "overflow_y": null,
       "padding": null,
       "right": null,
       "top": null,
       "visibility": null,
       "width": null
      }
     },
     "9aaa4aaebd6d4311b3e17e44a4f5216c": {
      "model_module": "@jupyter-widgets/controls",
      "model_module_version": "1.5.0",
      "model_name": "HTMLModel",
      "state": {
       "_dom_classes": [],
       "_model_module": "@jupyter-widgets/controls",
       "_model_module_version": "1.5.0",
       "_model_name": "HTMLModel",
       "_view_count": null,
       "_view_module": "@jupyter-widgets/controls",
       "_view_module_version": "1.5.0",
       "_view_name": "HTMLView",
       "description": "",
       "description_tooltip": null,
       "layout": "IPY_MODEL_0abd188732bd4e6aaf36702ad62bcba9",
       "placeholder": "​",
       "style": "IPY_MODEL_26406f4882ed4972bb75dcd33f55af3d",
       "value": "<div><h3>Main features contributing to drift</h3></div>"
      }
     },
     "9aff75740a644d8db0c47a204906f678": {
      "model_module": "@jupyter-widgets/controls",
      "model_module_version": "1.5.0",
      "model_name": "VBoxModel",
      "state": {
       "_dom_classes": [
        "rendered_html",
        "jp-RenderedHTMLCommon",
        "jp-RenderedHTML",
        "jp-OutputArea-output"
       ],
       "_model_module": "@jupyter-widgets/controls",
       "_model_module_version": "1.5.0",
       "_model_name": "VBoxModel",
       "_view_count": null,
       "_view_module": "@jupyter-widgets/controls",
       "_view_module_version": "1.5.0",
       "_view_name": "VBoxView",
       "box_style": "",
       "children": [
        "IPY_MODEL_343afaf3f2714ab1a5bcf13407c5ea77",
        "IPY_MODEL_9b6ace607c814e5f93259c044ff93473",
        "IPY_MODEL_54b483605a5d418dbddf93daeadf5756",
        "IPY_MODEL_04936065af6b4cd8bf3dd018c03367af"
       ],
       "layout": "IPY_MODEL_277615e2cd5c49c68834e3dfb9a0ba6d"
      }
     },
     "9b6ace607c814e5f93259c044ff93473": {
      "model_module": "@jupyter-widgets/controls",
      "model_module_version": "1.5.0",
      "model_name": "HTMLModel",
      "state": {
       "_dom_classes": [],
       "_model_module": "@jupyter-widgets/controls",
       "_model_module_version": "1.5.0",
       "_model_name": "HTMLModel",
       "_view_count": null,
       "_view_module": "@jupyter-widgets/controls",
       "_view_module_version": "1.5.0",
       "_view_name": "HTMLView",
       "description": "",
       "description_tooltip": null,
       "layout": "IPY_MODEL_938226133a4343668de4dd9bdb1579d4",
       "placeholder": "​",
       "style": "IPY_MODEL_1f88598884414e6ab10f8b5f31e37199",
       "value": "<p>    Calculate drift between the entire train and test datasets using a model trained to distinguish between them.</p>"
      }
     },
     "b16508f0cca6458aa4608a2e4de5d14b": {
      "model_module": "@jupyter-widgets/base",
      "model_module_version": "1.2.0",
      "model_name": "LayoutModel",
      "state": {
       "_model_module": "@jupyter-widgets/base",
       "_model_module_version": "1.2.0",
       "_model_name": "LayoutModel",
       "_view_count": null,
       "_view_module": "@jupyter-widgets/base",
       "_view_module_version": "1.2.0",
       "_view_name": "LayoutView",
       "align_content": null,
       "align_items": null,
       "align_self": null,
       "border": null,
       "bottom": null,
       "display": null,
       "flex": null,
       "flex_flow": null,
       "grid_area": null,
       "grid_auto_columns": null,
       "grid_auto_flow": null,
       "grid_auto_rows": null,
       "grid_column": null,
       "grid_gap": null,
       "grid_row": null,
       "grid_template_areas": null,
       "grid_template_columns": null,
       "grid_template_rows": null,
       "height": null,
       "justify_content": null,
       "justify_items": null,
       "left": null,
       "margin": null,
       "max_height": null,
       "max_width": null,
       "min_height": null,
       "min_width": null,
       "object_fit": null,
       "object_position": null,
       "order": null,
       "overflow": null,
       "overflow_x": null,
       "overflow_y": null,
       "padding": null,
       "right": null,
       "top": null,
       "visibility": null,
       "width": null
      }
     },
     "b35c27463c8c4de1af55a346ca4ac5bf": {
      "model_module": "@jupyter-widgets/controls",
      "model_module_version": "1.5.0",
      "model_name": "HTMLModel",
      "state": {
       "_dom_classes": [],
       "_model_module": "@jupyter-widgets/controls",
       "_model_module_version": "1.5.0",
       "_model_name": "HTMLModel",
       "_view_count": null,
       "_view_module": "@jupyter-widgets/controls",
       "_view_module_version": "1.5.0",
       "_view_name": "HTMLView",
       "description": "",
       "description_tooltip": null,
       "layout": "IPY_MODEL_70f372606a6845719aa8bbf11d304b14",
       "placeholder": "​",
       "style": "IPY_MODEL_d0acf71b7fe145a8a0ae02c4029715e4",
       "value": "<h5><b>Additional Outputs</b></h5>"
      }
     },
     "baaf944a16a8495bb876f862f62284fa": {
      "model_module": "@jupyter-widgets/base",
      "model_module_version": "1.2.0",
      "model_name": "LayoutModel",
      "state": {
       "_model_module": "@jupyter-widgets/base",
       "_model_module_version": "1.2.0",
       "_model_name": "LayoutModel",
       "_view_count": null,
       "_view_module": "@jupyter-widgets/base",
       "_view_module_version": "1.2.0",
       "_view_name": "LayoutView",
       "align_content": null,
       "align_items": null,
       "align_self": null,
       "border": null,
       "bottom": null,
       "display": null,
       "flex": null,
       "flex_flow": null,
       "grid_area": null,
       "grid_auto_columns": null,
       "grid_auto_flow": null,
       "grid_auto_rows": null,
       "grid_column": null,
       "grid_gap": null,
       "grid_row": null,
       "grid_template_areas": null,
       "grid_template_columns": null,
       "grid_template_rows": null,
       "height": null,
       "justify_content": null,
       "justify_items": null,
       "left": null,
       "margin": null,
       "max_height": null,
       "max_width": null,
       "min_height": null,
       "min_width": null,
       "object_fit": null,
       "object_position": null,
       "order": null,
       "overflow": null,
       "overflow_x": null,
       "overflow_y": null,
       "padding": null,
       "right": null,
       "top": null,
       "visibility": null,
       "width": null
      }
     },
     "cf09228b146d415faecc693cefd7e0fb": {
      "buffers": [
       {
        "data": "8hjkJxR71D/dLKDaVPPUPwC0tY0oXNU/DYKyOI+d1T+lNIlUDuTYP4HPy+/gEdk/mexW5fdZ2j/7EWUd8YjaP+FrCnTtz9w/Pym0U2Aa3T+zza7BCwLgP9CfpjKNUOA/gv+4cHJr4D8fC3oMR+fgP6pAfTXXD+E/BzPhGAgw4T8q+WgHpaThPxZ0sev7xuE/UfF0kbXq4T8EPQLBE/rhP6odz8M3GeI/RPbFYzAg4j9/Kf7M5zHiP43Q7ss7M+I/0f7Fgcsz4j89boM2qjTiPwxfST87MuI/KDyh8bkX4j92bE+93QziPyqbQk1K/uE/rr4ZTT784T/0seOFmt/hP/QRfsaGuOE/of7Iiwyp4T/IXztS6X3hP8/eGIBIUeE/5Y9CtyJM4T8YzGmTG0zhP20kS2c/R+E/XXgZxJEW4T/H7Japs/zgP9y4coqP9uA/a/NoES/14D/Rvjlr9wjhP5/ocf6BM+E/eFnkMlmE4T+b4f0e6arhP7dTXGGoHeI/5dz5zQ1n4j9/HIyjCZjiP+sKgLgOiuM/4ZCszi/24z8CLNs9XgTkP0xW+CUFD+Q/hfMBmXUr5D8NXLp7PErkP4WoO6qYsOQ/h7FvrEiy5D8chur5kbjkPxyG6vmRuOQ/8wM/aCob5T9hBocFCh3lP8wdPNcIKOU/NYg3rHFV5T+0r2Ikz5flP93vnpGTpOU/Nu3YxuWn5T/MBfb+tN3lP9BBJ6pE7+U/vLqT4CYB5j+0pP0z/gHmP52f1xKUAuY/oP6SB+EE5j8OitRJ0wjmPw6E1kKrDuY/XTdH9LEO5j9n6DIemf7lPy65Gomz6OU/+b2rXaOq5T8wBysQCmvlPzAHKxAKa+U/rZzI+TRB5T9kLcwOBo7kP3q/c6SqdeQ/UbLFr89f5D9Zeb6LOj7kPxCLUfN5L+Q/v/7qrffw4z8GCI13h9jjPxv5UQFpHuM/NuUqZBYb4z/nADPtSqriPzPW/ESxM+I/FwptJcwd4j992WH0EBviP75/7paMUeE/KLLxhmW64D/1NwAeX5zgPyTFFIO0O+A/Hxl9QZI04D//Q4b0y9XfP4HiwLP2jN8/d9fDNsg+3z8vDHIFZj3fPzPm6UQn694/3dm0TBzk3j8uVJwkMdzdPygIWAHKaNw/Xu7NsjJK3D/jmSFEJSLbP0HdrXmFRto/ntkWuyM12j886jUF3ATaPxvy6nxSn9k/iv6E8b9i2T+gXZQ+IzTZPzYwc9moIdk/jep2TF4A2T8aDD58/ePYP06cU2fZu9g/PA1UQTRP2D8d8QFUwkDYPw5RZdmcEtg/QYztSr5D1z/5+dUWXzLXP2o3WRD7Fdc/IhMZEZEl1j+qhUdkdQPVP6fd5VDE8tQ/tbcRO7e71D+cRYqon5TTP/UURtoWRNI/LsSz6soh0j8kEjJmsxLSPw2a9xzSBNI/yPhrwKnP0D+AMnZkNU/QP6EI2prLjM8/r/1Nu62izj/1TIVtcJ/OPz+6mn9wNc0/COt+TxK4zD8o5B9CxTvKP628NIx/Csg/4yf5zzq5xj9GdhSMiJ/GPxgwVsrhEcY/bYpskLSoxT9AeRoEqD3FPzONQnOYBsU/boXcmzbQwz+9xePuw93BPw==",
        "encoding": "base64",
        "path": [
         "_data",
         0,
         "y",
         "buffer"
        ]
       },
       {
        "data": "ZY0QanOg3D8fwMrdPyPdP+yelWWklN0/3gbIhRvb3T/nT+VI36ngP4bCLuvgweA/xdu93Hlt4T8QOMzxCIbhP1bP9IZxuOI/zuH6lf/f4j/5C1Xbu3jkP7CXrn5t0+Q/QArUvw7z5D+ADD/WUonlP/iN31GXvOU/WwoUay/m5T9L7n5H/4XmP8+uq/0GueY/TvL1kFbx5j8zYF41CAvnP653+QTjQ+c/8Hev9SpS5z+JUOsm6X7nP+c3iVIPhOc/xew416KG5z/7Wyo58pTnP/Q/NcpKmuc/K89eqZ+S5z8lAXGXMYrnPxHA2mMofec/tUCBGTV75z8sqZlSrV3nP0oCwridMOc/gSWrCK4d5z8maYkWdObmPyrsTaVmquY/avZOj1Sj5j8uplS8SqPmP1RlXUKYnOY/7Q9UovtY5j8gsyrgszbmP7r+m5aIMOY/qCfM8usw5j/E5UB1vF7mP1IPvqrCsOY/b4gqMspE5z9TevjGOonnP5ZHPOWATeg/WWHfshDF6D8uwL37DxLpP0VIomLgZ+o/viLCKPnm6j/QgXKdL/bqP47tgWheAes/hg3jMige6z8k2GEtdTvrP5OHcDrRjOs/twzs2OuN6z99fk4Y9ZHrP31+Thj1kes/Qt428gW/6z9+qkjEfb/rP9HWLbXjwes/rVxnbbLE6z90Xjk9Ba3rP/xJcqMKo+s/PeDyFhCg6z8WLpZHZE/rP7mgMqgPHus/lyyKP+7M6j/iJPNRk8fqP07MfA+2w+o/hF4BiECz6j8Akn4PP5DqP78lR3A9Guo/hFVzkDYX6j8+URe24f3oP2stAwHPWOg/DN7O06cO5z+NZgF9MgPmP41mAX0yA+Y/3Zsq/pRl5T/nrLYmuBPjP6dDgmwkyeI/6irTTAeH4j+ktn5zuCLiP5nQAEEW9+E/YHmcb4pA4T9JEQM1/vngPxnP97nEzd0/NuELw8u63T8N51y/hzDbP4lXaX85bdg/LNqAj6Lm1z+w+ECKvdXXPxQzR/EiqNI/i4xLMmcAzT9oooFGyHbLP1tI4vmRVsc/9uy9MPgXxz+6rrtBfAzFP6xtjkI6VMQ/mtnKawq8wz/SXYDFurnDPzDXBYGlRcM/ExKWt4g9wz+dR35krrPCPxgOIepohsM/krABqSapwz+jXTHwBI7FP3rkZgYv8sc/JRdEYFIyyD9QkS3+nvbIP7hFW8z4BMs//Zwn2KSOzD/batSmr8jNP4Ps2ku5P84//InoGLkIzz+MYL7fXaXPP3OeenHmNtA//BY4qcAZ0T8BU5IKlTTRP537ZZbehtE/VIb7nH7U0j8SJQMAP+/SPxF1yg3LGtM/111hM7iH1D82+C6IOjHWPzbcFVt1SNY/PNMDj5ST1j/qPn4TbvLXP2fGjFmN9Ng/A3A/ZRIF2T++r1jDvQvZP3aLsrKMEdk/MCVGkq8/2T9MkP8MASLZP/mPYjCp4Ng/05+3zU+L2D/PU4gg7onYP3rtwyBGytc/TLGCfE111z/wYUxSFArVP5oyEFlzQtE/ZKrLd6kkyj9gpaVgyjTJP6P1ezLnOMI/Mf3zdlpUtz9688Lb0d6vP6j9CvrRY6s/8yIb5r50nT/mmE/y1P2MPw==",
        "encoding": "base64",
        "path": [
         "_data",
         3,
         "y",
         "buffer"
        ]
       }
      ],
      "model_module": "jupyterlab-plotly",
      "model_module_version": "^5.5.0",
      "model_name": "FigureModel",
      "state": {
       "_config": {
        "plotlyServerURL": "https://plot.ly"
       },
       "_data": [
        {
         "fill": "tozeroy",
         "line": {
          "color": "#00008b",
          "shape": "spline"
         },
         "name": "Train Dataset",
         "type": "scatter",
         "uid": "d7ca4a0e-3513-45e0-9c4c-c157247ecf79",
         "x": [
          0.27303,
          0.2775482,
          0.2815032,
          0.2839798,
          0.3167028571428571,
          0.3185628,
          0.33218759999999997,
          0.334188,
          0.36037571428571424,
          0.363942,
          0.4040485714285714,
          0.41397439999999996,
          0.41755200000000003,
          0.4355484,
          0.44214919999999996,
          0.44772142857142855,
          0.4716248,
          0.48048300000000005,
          0.4913942857142857,
          0.4969292,
          0.5111692,
          0.515408,
          0.5324129999999999,
          0.5350671428571429,
          0.5365019999999999,
          0.5468866,
          0.553835,
          0.57874,
          0.5852071999999999,
          0.59284,
          0.593844,
          0.6067596000000001,
          0.6224128571428571,
          0.6283072,
          0.644506,
          0.6619124,
          0.6640356000000001,
          0.6640472000000001,
          0.6660857142857142,
          0.6897548000000001,
          0.7097585714285713,
          0.7195962,
          0.7259985999999998,
          0.7534314285714285,
          0.7734836,
          0.7971042857142857,
          0.8059810000000001,
          0.8283280000000003,
          0.8407771428571428,
          0.848606,
          0.88445,
          0.9000214000000001,
          0.902082,
          0.9036348,
          0.9078058,
          0.9123704,
          0.928122857142857,
          0.9283924,
          0.9294,
          0.9294,
          0.946124,
          0.9464629999999999,
          0.948473,
          0.957206,
          0.9717957142857142,
          0.974983,
          0.97584,
          0.99218,
          0.999322,
          1.0091160000000001,
          1.009704,
          1.0101246666666666,
          1.011884,
          1.0154685714285714,
          1.0263540000000002,
          1.026614,
          1.048132,
          1.0591414285714285,
          1.0791920000000002,
          1.09425,
          1.09425,
          1.1028142857142855,
          1.13401,
          1.137872,
          1.141294,
          1.1464871428571426,
          1.148748,
          1.1582323333333333,
          1.161914,
          1.1901599999999999,
          1.190676,
          1.208702,
          1.2292639999999997,
          1.2333199999999997,
          1.2338328571428572,
          1.2775057142857142,
          1.3211785714285713,
          1.330934,
          1.36258,
          1.3648514285714284,
          1.3873060000000002,
          1.397688,
          1.4083400000000001,
          1.4085242857142855,
          1.419244,
          1.4201420000000002,
          1.4521971428571425,
          1.49587,
          1.499608,
          1.539542857142857,
          1.5792800000000005,
          1.5832157142857142,
          1.5951479999999998,
          1.6268885714285712,
          1.650944,
          1.6705614285714283,
          1.6781120000000003,
          1.691,
          1.7011500000000002,
          1.7142342857142854,
          1.7438800000000003,
          1.7473520000000002,
          1.757907142857143,
          1.7985080000000002,
          1.80158,
          1.8065200000000001,
          1.845252857142857,
          1.886688,
          1.888925714285714,
          1.8961999999999999,
          1.9325985714285712,
          1.9696900000000002,
          1.97327,
          1.974836,
          1.9762714285714282,
          2.007332,
          2.0199442857142853,
          2.033378,
          2.0449900000000003,
          2.045152,
          2.063617142857143,
          2.07024,
          2.10729,
          2.150962857142857,
          2.194635714285714,
          2.199560000000001,
          2.238308571428571,
          2.281981428571428,
          2.3139359999999995,
          2.3256542857142852,
          2.3693271428571427,
          2.413
         ],
         "y": {
          "buffer": {},
          "dtype": "float64",
          "shape": [
           152
          ]
         }
        },
        {
         "line": {
          "color": "#00008b",
          "dash": "dash"
         },
         "mode": "lines+markers",
         "name": "Train Mean",
         "type": "scatter",
         "uid": "58ecfe9e-605b-4ef0-8f3d-6cbbe5b37dcb",
         "x": [
          1.1582323333333333,
          1.1582323333333333
         ],
         "y": [
          0,
          0.3200121297417261
         ]
        },
        {
         "line": {
          "color": "#00008b"
         },
         "mode": "lines",
         "name": "Train Median",
         "type": "scatter",
         "uid": "71272dcc-5d36-4cad-9892-d66178299298",
         "x": [
          1.09425,
          1.09425
         ],
         "y": [
          0,
          0.6693163219244749
         ]
        },
        {
         "fill": "tozeroy",
         "line": {
          "color": "#69b3a2",
          "shape": "spline"
         },
         "name": "Test Dataset",
         "type": "scatter",
         "uid": "92bcfdf5-5498-4835-8060-c63585198869",
         "x": [
          0.27303,
          0.2775482,
          0.2815032,
          0.2839798,
          0.3167028571428571,
          0.3185628,
          0.33218759999999997,
          0.334188,
          0.36037571428571424,
          0.363942,
          0.4040485714285714,
          0.41397439999999996,
          0.41755200000000003,
          0.4355484,
          0.44214919999999996,
          0.44772142857142855,
          0.4716248,
          0.48048300000000005,
          0.4913942857142857,
          0.4969292,
          0.5111692,
          0.515408,
          0.5324129999999999,
          0.5350671428571429,
          0.5365019999999999,
          0.5468866,
          0.553835,
          0.57874,
          0.5852071999999999,
          0.59284,
          0.593844,
          0.6067596000000001,
          0.6224128571428571,
          0.6283072,
          0.644506,
          0.6619124,
          0.6640356000000001,
          0.6640472000000001,
          0.6660857142857142,
          0.6897548000000001,
          0.7097585714285713,
          0.7195962,
          0.7259985999999998,
          0.7534314285714285,
          0.7734836,
          0.7971042857142857,
          0.8059810000000001,
          0.8283280000000003,
          0.8407771428571428,
          0.848606,
          0.88445,
          0.9000214000000001,
          0.902082,
          0.9036348,
          0.9078058,
          0.9123704,
          0.928122857142857,
          0.9283924,
          0.9294,
          0.9294,
          0.946124,
          0.9464629999999999,
          0.948473,
          0.957206,
          0.9717957142857142,
          0.974983,
          0.97584,
          0.99218,
          0.999322,
          1.0091160000000001,
          1.009704,
          1.0101246666666666,
          1.011884,
          1.0154685714285714,
          1.0263540000000002,
          1.026614,
          1.048132,
          1.0591414285714285,
          1.0791920000000002,
          1.09425,
          1.09425,
          1.1028142857142855,
          1.13401,
          1.137872,
          1.141294,
          1.1464871428571426,
          1.148748,
          1.1582323333333333,
          1.161914,
          1.1901599999999999,
          1.190676,
          1.208702,
          1.2292639999999997,
          1.2333199999999997,
          1.2338328571428572,
          1.2775057142857142,
          1.3211785714285713,
          1.330934,
          1.36258,
          1.3648514285714284,
          1.3873060000000002,
          1.397688,
          1.4083400000000001,
          1.4085242857142855,
          1.419244,
          1.4201420000000002,
          1.4521971428571425,
          1.49587,
          1.499608,
          1.539542857142857,
          1.5792800000000005,
          1.5832157142857142,
          1.5951479999999998,
          1.6268885714285712,
          1.650944,
          1.6705614285714283,
          1.6781120000000003,
          1.691,
          1.7011500000000002,
          1.7142342857142854,
          1.7438800000000003,
          1.7473520000000002,
          1.757907142857143,
          1.7985080000000002,
          1.80158,
          1.8065200000000001,
          1.845252857142857,
          1.886688,
          1.888925714285714,
          1.8961999999999999,
          1.9325985714285712,
          1.9696900000000002,
          1.97327,
          1.974836,
          1.9762714285714282,
          2.007332,
          2.0199442857142853,
          2.033378,
          2.0449900000000003,
          2.045152,
          2.063617142857143,
          2.07024,
          2.10729,
          2.150962857142857,
          2.194635714285714,
          2.199560000000001,
          2.238308571428571,
          2.281981428571428,
          2.3139359999999995,
          2.3256542857142852,
          2.3693271428571427,
          2.413
         ],
         "y": {
          "buffer": {},
          "dtype": "float64",
          "shape": [
           152
          ]
         }
        },
        {
         "line": {
          "color": "#69b3a2",
          "dash": "dash"
         },
         "mode": "lines+markers",
         "name": "Test Mean",
         "type": "scatter",
         "uid": "c6c28048-45e6-4f78-9e92-0e8487b12183",
         "x": [
          1.0101246666666666,
          1.0101246666666666
         ],
         "y": [
          0,
          0.4472931419170066
         ]
        },
        {
         "line": {
          "color": "#69b3a2"
         },
         "mode": "lines",
         "name": "Test Median",
         "type": "scatter",
         "uid": "0a1be0f5-e388-4fdf-8340-7e609acea996",
         "x": [
          0.9294,
          0.9294
         ],
         "y": [
          0,
          0.861567065690863
         ]
        }
       ],
       "_dom_classes": [],
       "_js2py_layoutDelta": {},
       "_js2py_pointsCallback": {},
       "_js2py_relayout": {},
       "_js2py_restyle": {},
       "_js2py_traceDeltas": {},
       "_js2py_update": {},
       "_last_layout_edit_id": 0,
       "_last_trace_edit_id": 0,
       "_layout": {
        "height": 300,
        "legend": {
         "title": {
          "text": "Dataset"
         },
         "xanchor": "left",
         "y": 0.9,
         "yanchor": "top"
        },
        "template": {
         "data": {
          "bar": [
           {
            "error_x": {
             "color": "#2a3f5f"
            },
            "error_y": {
             "color": "#2a3f5f"
            },
            "marker": {
             "line": {
              "color": "#E5ECF6",
              "width": 0.5
             },
             "pattern": {
              "fillmode": "overlay",
              "size": 10,
              "solidity": 0.2
             }
            },
            "type": "bar"
           }
          ],
          "barpolar": [
           {
            "marker": {
             "line": {
              "color": "#E5ECF6",
              "width": 0.5
             },
             "pattern": {
              "fillmode": "overlay",
              "size": 10,
              "solidity": 0.2
             }
            },
            "type": "barpolar"
           }
          ],
          "carpet": [
           {
            "aaxis": {
             "endlinecolor": "#2a3f5f",
             "gridcolor": "white",
             "linecolor": "white",
             "minorgridcolor": "white",
             "startlinecolor": "#2a3f5f"
            },
            "baxis": {
             "endlinecolor": "#2a3f5f",
             "gridcolor": "white",
             "linecolor": "white",
             "minorgridcolor": "white",
             "startlinecolor": "#2a3f5f"
            },
            "type": "carpet"
           }
          ],
          "choropleth": [
           {
            "colorbar": {
             "outlinewidth": 0,
             "ticks": ""
            },
            "type": "choropleth"
           }
          ],
          "contour": [
           {
            "colorbar": {
             "outlinewidth": 0,
             "ticks": ""
            },
            "colorscale": [
             [
              0,
              "#0d0887"
             ],
             [
              0.1111111111111111,
              "#46039f"
             ],
             [
              0.2222222222222222,
              "#7201a8"
             ],
             [
              0.3333333333333333,
              "#9c179e"
             ],
             [
              0.4444444444444444,
              "#bd3786"
             ],
             [
              0.5555555555555556,
              "#d8576b"
             ],
             [
              0.6666666666666666,
              "#ed7953"
             ],
             [
              0.7777777777777778,
              "#fb9f3a"
             ],
             [
              0.8888888888888888,
              "#fdca26"
             ],
             [
              1,
              "#f0f921"
             ]
            ],
            "type": "contour"
           }
          ],
          "contourcarpet": [
           {
            "colorbar": {
             "outlinewidth": 0,
             "ticks": ""
            },
            "type": "contourcarpet"
           }
          ],
          "heatmap": [
           {
            "colorbar": {
             "outlinewidth": 0,
             "ticks": ""
            },
            "colorscale": [
             [
              0,
              "#0d0887"
             ],
             [
              0.1111111111111111,
              "#46039f"
             ],
             [
              0.2222222222222222,
              "#7201a8"
             ],
             [
              0.3333333333333333,
              "#9c179e"
             ],
             [
              0.4444444444444444,
              "#bd3786"
             ],
             [
              0.5555555555555556,
              "#d8576b"
             ],
             [
              0.6666666666666666,
              "#ed7953"
             ],
             [
              0.7777777777777778,
              "#fb9f3a"
             ],
             [
              0.8888888888888888,
              "#fdca26"
             ],
             [
              1,
              "#f0f921"
             ]
            ],
            "type": "heatmap"
           }
          ],
          "heatmapgl": [
           {
            "colorbar": {
             "outlinewidth": 0,
             "ticks": ""
            },
            "colorscale": [
             [
              0,
              "#0d0887"
             ],
             [
              0.1111111111111111,
              "#46039f"
             ],
             [
              0.2222222222222222,
              "#7201a8"
             ],
             [
              0.3333333333333333,
              "#9c179e"
             ],
             [
              0.4444444444444444,
              "#bd3786"
             ],
             [
              0.5555555555555556,
              "#d8576b"
             ],
             [
              0.6666666666666666,
              "#ed7953"
             ],
             [
              0.7777777777777778,
              "#fb9f3a"
             ],
             [
              0.8888888888888888,
              "#fdca26"
             ],
             [
              1,
              "#f0f921"
             ]
            ],
            "type": "heatmapgl"
           }
          ],
          "histogram": [
           {
            "marker": {
             "pattern": {
              "fillmode": "overlay",
              "size": 10,
              "solidity": 0.2
             }
            },
            "type": "histogram"
           }
          ],
          "histogram2d": [
           {
            "colorbar": {
             "outlinewidth": 0,
             "ticks": ""
            },
            "colorscale": [
             [
              0,
              "#0d0887"
             ],
             [
              0.1111111111111111,
              "#46039f"
             ],
             [
              0.2222222222222222,
              "#7201a8"
             ],
             [
              0.3333333333333333,
              "#9c179e"
             ],
             [
              0.4444444444444444,
              "#bd3786"
             ],
             [
              0.5555555555555556,
              "#d8576b"
             ],
             [
              0.6666666666666666,
              "#ed7953"
             ],
             [
              0.7777777777777778,
              "#fb9f3a"
             ],
             [
              0.8888888888888888,
              "#fdca26"
             ],
             [
              1,
              "#f0f921"
             ]
            ],
            "type": "histogram2d"
           }
          ],
          "histogram2dcontour": [
           {
            "colorbar": {
             "outlinewidth": 0,
             "ticks": ""
            },
            "colorscale": [
             [
              0,
              "#0d0887"
             ],
             [
              0.1111111111111111,
              "#46039f"
             ],
             [
              0.2222222222222222,
              "#7201a8"
             ],
             [
              0.3333333333333333,
              "#9c179e"
             ],
             [
              0.4444444444444444,
              "#bd3786"
             ],
             [
              0.5555555555555556,
              "#d8576b"
             ],
             [
              0.6666666666666666,
              "#ed7953"
             ],
             [
              0.7777777777777778,
              "#fb9f3a"
             ],
             [
              0.8888888888888888,
              "#fdca26"
             ],
             [
              1,
              "#f0f921"
             ]
            ],
            "type": "histogram2dcontour"
           }
          ],
          "mesh3d": [
           {
            "colorbar": {
             "outlinewidth": 0,
             "ticks": ""
            },
            "type": "mesh3d"
           }
          ],
          "parcoords": [
           {
            "line": {
             "colorbar": {
              "outlinewidth": 0,
              "ticks": ""
             }
            },
            "type": "parcoords"
           }
          ],
          "pie": [
           {
            "automargin": true,
            "type": "pie"
           }
          ],
          "scatter": [
           {
            "marker": {
             "colorbar": {
              "outlinewidth": 0,
              "ticks": ""
             }
            },
            "type": "scatter"
           }
          ],
          "scatter3d": [
           {
            "line": {
             "colorbar": {
              "outlinewidth": 0,
              "ticks": ""
             }
            },
            "marker": {
             "colorbar": {
              "outlinewidth": 0,
              "ticks": ""
             }
            },
            "type": "scatter3d"
           }
          ],
          "scattercarpet": [
           {
            "marker": {
             "colorbar": {
              "outlinewidth": 0,
              "ticks": ""
             }
            },
            "type": "scattercarpet"
           }
          ],
          "scattergeo": [
           {
            "marker": {
             "colorbar": {
              "outlinewidth": 0,
              "ticks": ""
             }
            },
            "type": "scattergeo"
           }
          ],
          "scattergl": [
           {
            "marker": {
             "colorbar": {
              "outlinewidth": 0,
              "ticks": ""
             }
            },
            "type": "scattergl"
           }
          ],
          "scattermapbox": [
           {
            "marker": {
             "colorbar": {
              "outlinewidth": 0,
              "ticks": ""
             }
            },
            "type": "scattermapbox"
           }
          ],
          "scatterpolar": [
           {
            "marker": {
             "colorbar": {
              "outlinewidth": 0,
              "ticks": ""
             }
            },
            "type": "scatterpolar"
           }
          ],
          "scatterpolargl": [
           {
            "marker": {
             "colorbar": {
              "outlinewidth": 0,
              "ticks": ""
             }
            },
            "type": "scatterpolargl"
           }
          ],
          "scatterternary": [
           {
            "marker": {
             "colorbar": {
              "outlinewidth": 0,
              "ticks": ""
             }
            },
            "type": "scatterternary"
           }
          ],
          "surface": [
           {
            "colorbar": {
             "outlinewidth": 0,
             "ticks": ""
            },
            "colorscale": [
             [
              0,
              "#0d0887"
             ],
             [
              0.1111111111111111,
              "#46039f"
             ],
             [
              0.2222222222222222,
              "#7201a8"
             ],
             [
              0.3333333333333333,
              "#9c179e"
             ],
             [
              0.4444444444444444,
              "#bd3786"
             ],
             [
              0.5555555555555556,
              "#d8576b"
             ],
             [
              0.6666666666666666,
              "#ed7953"
             ],
             [
              0.7777777777777778,
              "#fb9f3a"
             ],
             [
              0.8888888888888888,
              "#fdca26"
             ],
             [
              1,
              "#f0f921"
             ]
            ],
            "type": "surface"
           }
          ],
          "table": [
           {
            "cells": {
             "fill": {
              "color": "#EBF0F8"
             },
             "line": {
              "color": "white"
             }
            },
            "header": {
             "fill": {
              "color": "#C8D4E3"
             },
             "line": {
              "color": "white"
             }
            },
            "type": "table"
           }
          ]
         },
         "layout": {
          "annotationdefaults": {
           "arrowcolor": "#2a3f5f",
           "arrowhead": 0,
           "arrowwidth": 1
          },
          "autotypenumbers": "strict",
          "coloraxis": {
           "colorbar": {
            "outlinewidth": 0,
            "ticks": ""
           }
          },
          "colorscale": {
           "diverging": [
            [
             0,
             "#8e0152"
            ],
            [
             0.1,
             "#c51b7d"
            ],
            [
             0.2,
             "#de77ae"
            ],
            [
             0.3,
             "#f1b6da"
            ],
            [
             0.4,
             "#fde0ef"
            ],
            [
             0.5,
             "#f7f7f7"
            ],
            [
             0.6,
             "#e6f5d0"
            ],
            [
             0.7,
             "#b8e186"
            ],
            [
             0.8,
             "#7fbc41"
            ],
            [
             0.9,
             "#4d9221"
            ],
            [
             1,
             "#276419"
            ]
           ],
           "sequential": [
            [
             0,
             "#0d0887"
            ],
            [
             0.1111111111111111,
             "#46039f"
            ],
            [
             0.2222222222222222,
             "#7201a8"
            ],
            [
             0.3333333333333333,
             "#9c179e"
            ],
            [
             0.4444444444444444,
             "#bd3786"
            ],
            [
             0.5555555555555556,
             "#d8576b"
            ],
            [
             0.6666666666666666,
             "#ed7953"
            ],
            [
             0.7777777777777778,
             "#fb9f3a"
            ],
            [
             0.8888888888888888,
             "#fdca26"
            ],
            [
             1,
             "#f0f921"
            ]
           ],
           "sequentialminus": [
            [
             0,
             "#0d0887"
            ],
            [
             0.1111111111111111,
             "#46039f"
            ],
            [
             0.2222222222222222,
             "#7201a8"
            ],
            [
             0.3333333333333333,
             "#9c179e"
            ],
            [
             0.4444444444444444,
             "#bd3786"
            ],
            [
             0.5555555555555556,
             "#d8576b"
            ],
            [
             0.6666666666666666,
             "#ed7953"
            ],
            [
             0.7777777777777778,
             "#fb9f3a"
            ],
            [
             0.8888888888888888,
             "#fdca26"
            ],
            [
             1,
             "#f0f921"
            ]
           ]
          },
          "colorway": [
           "#636efa",
           "#EF553B",
           "#00cc96",
           "#ab63fa",
           "#FFA15A",
           "#19d3f3",
           "#FF6692",
           "#B6E880",
           "#FF97FF",
           "#FECB52"
          ],
          "font": {
           "color": "#2a3f5f"
          },
          "geo": {
           "bgcolor": "white",
           "lakecolor": "white",
           "landcolor": "#E5ECF6",
           "showlakes": true,
           "showland": true,
           "subunitcolor": "white"
          },
          "hoverlabel": {
           "align": "left"
          },
          "hovermode": "closest",
          "mapbox": {
           "style": "light"
          },
          "paper_bgcolor": "white",
          "plot_bgcolor": "#E5ECF6",
          "polar": {
           "angularaxis": {
            "gridcolor": "white",
            "linecolor": "white",
            "ticks": ""
           },
           "bgcolor": "#E5ECF6",
           "radialaxis": {
            "gridcolor": "white",
            "linecolor": "white",
            "ticks": ""
           }
          },
          "scene": {
           "xaxis": {
            "backgroundcolor": "#E5ECF6",
            "gridcolor": "white",
            "gridwidth": 2,
            "linecolor": "white",
            "showbackground": true,
            "ticks": "",
            "zerolinecolor": "white"
           },
           "yaxis": {
            "backgroundcolor": "#E5ECF6",
            "gridcolor": "white",
            "gridwidth": 2,
            "linecolor": "white",
            "showbackground": true,
            "ticks": "",
            "zerolinecolor": "white"
           },
           "zaxis": {
            "backgroundcolor": "#E5ECF6",
            "gridcolor": "white",
            "gridwidth": 2,
            "linecolor": "white",
            "showbackground": true,
            "ticks": "",
            "zerolinecolor": "white"
           }
          },
          "shapedefaults": {
           "line": {
            "color": "#2a3f5f"
           }
          },
          "ternary": {
           "aaxis": {
            "gridcolor": "white",
            "linecolor": "white",
            "ticks": ""
           },
           "baxis": {
            "gridcolor": "white",
            "linecolor": "white",
            "ticks": ""
           },
           "bgcolor": "#E5ECF6",
           "caxis": {
            "gridcolor": "white",
            "linecolor": "white",
            "ticks": ""
           }
          },
          "title": {
           "x": 0.05
          },
          "xaxis": {
           "automargin": true,
           "gridcolor": "white",
           "linecolor": "white",
           "ticks": "",
           "title": {
            "standoff": 15
           },
           "zerolinecolor": "white",
           "zerolinewidth": 2
          },
          "yaxis": {
           "automargin": true,
           "gridcolor": "white",
           "linecolor": "white",
           "ticks": "",
           "title": {
            "standoff": 15
           },
           "zerolinecolor": "white",
           "zerolinewidth": 2
          }
         }
        },
        "title": {
         "text": "Feature: entropy - Explains 100% of dataset difference"
        },
        "xaxis": {
         "fixedrange": false,
         "range": [
          0.2775482,
          2.3139359999999995
         ],
         "title": {
          "text": "entropy"
         }
        },
        "yaxis": {
         "fixedrange": true,
         "title": {
          "text": "Probability Density"
         }
        }
       },
       "_model_module": "jupyterlab-plotly",
       "_model_module_version": "^5.5.0",
       "_model_name": "FigureModel",
       "_py2js_addTraces": {},
       "_py2js_animate": {},
       "_py2js_deleteTraces": {},
       "_py2js_moveTraces": {},
       "_py2js_relayout": {},
       "_py2js_removeLayoutProps": {},
       "_py2js_removeTraceProps": {},
       "_py2js_restyle": {},
       "_py2js_update": {},
       "_view_count": 0,
       "_view_module": "jupyterlab-plotly",
       "_view_module_version": "^5.5.0",
       "_view_name": "FigureView"
      }
     },
     "d0acf71b7fe145a8a0ae02c4029715e4": {
      "model_module": "@jupyter-widgets/controls",
      "model_module_version": "1.5.0",
      "model_name": "DescriptionStyleModel",
      "state": {
       "_model_module": "@jupyter-widgets/controls",
       "_model_module_version": "1.5.0",
       "_model_name": "DescriptionStyleModel",
       "_view_count": null,
       "_view_module": "@jupyter-widgets/base",
       "_view_module_version": "1.2.0",
       "_view_name": "StyleView",
       "description_width": ""
      }
     },
     "d254b2fe533c41ffa89d3590ccbb39c3": {
      "model_module": "@jupyter-widgets/controls",
      "model_module_version": "1.5.0",
      "model_name": "HTMLModel",
      "state": {
       "_dom_classes": [],
       "_model_module": "@jupyter-widgets/controls",
       "_model_module_version": "1.5.0",
       "_model_name": "HTMLModel",
       "_view_count": null,
       "_view_module": "@jupyter-widgets/controls",
       "_view_module_version": "1.5.0",
       "_view_name": "HTMLView",
       "description": "",
       "description_tooltip": null,
       "layout": "IPY_MODEL_b16508f0cca6458aa4608a2e4de5d14b",
       "placeholder": "​",
       "style": "IPY_MODEL_80575c63e90143e4b813a066602d6991",
       "value": "<div>\n    <span>\n    The percents of explained dataset difference are the importance values for the feature calculated\n    using `permutation_importance`.\n    </span><br><br>\n    </div>"
      }
     },
     "d9e74e22386348b3924973e0d7c3db22": {
      "model_module": "@jupyter-widgets/controls",
      "model_module_version": "1.5.0",
      "model_name": "DescriptionStyleModel",
      "state": {
       "_model_module": "@jupyter-widgets/controls",
       "_model_module_version": "1.5.0",
       "_model_name": "DescriptionStyleModel",
       "_view_count": null,
       "_view_module": "@jupyter-widgets/base",
       "_view_module_version": "1.2.0",
       "_view_name": "StyleView",
       "description_width": ""
      }
     },
     "ff26098e7cbf47158d185155b4827f58": {
      "model_module": "@jupyter-widgets/base",
      "model_module_version": "1.2.0",
      "model_name": "LayoutModel",
      "state": {
       "_model_module": "@jupyter-widgets/base",
       "_model_module_version": "1.2.0",
       "_model_name": "LayoutModel",
       "_view_count": null,
       "_view_module": "@jupyter-widgets/base",
       "_view_module_version": "1.2.0",
       "_view_name": "LayoutView",
       "align_content": null,
       "align_items": null,
       "align_self": null,
       "border": null,
       "bottom": null,
       "display": null,
       "flex": null,
       "flex_flow": null,
       "grid_area": null,
       "grid_auto_columns": null,
       "grid_auto_flow": null,
       "grid_auto_rows": null,
       "grid_column": null,
       "grid_gap": null,
       "grid_row": null,
       "grid_template_areas": null,
       "grid_template_columns": null,
       "grid_template_rows": null,
       "height": null,
       "justify_content": null,
       "justify_items": null,
       "left": null,
       "margin": null,
       "max_height": null,
       "max_width": null,
       "min_height": null,
       "min_width": null,
       "object_fit": null,
       "object_position": null,
       "order": null,
       "overflow": null,
       "overflow_x": null,
       "overflow_y": null,
       "padding": null,
       "right": null,
       "top": null,
       "visibility": null,
       "width": null
      }
     }
    },
    "version_major": 2,
    "version_minor": 0
   }
  }
 },
 "nbformat": 4,
 "nbformat_minor": 5
}
