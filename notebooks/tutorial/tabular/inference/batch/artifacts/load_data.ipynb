{
 "cells": [
  {
   "cell_type": "code",
   "execution_count": 1,
   "id": "beebf6fe-e73c-4dc6-8128-7ebc2947ed54",
   "metadata": {
    "execution": {
     "iopub.execute_input": "2023-03-21T15:14:35.534946Z",
     "iopub.status.busy": "2023-03-21T15:14:35.534507Z",
     "iopub.status.idle": "2023-03-21T15:14:36.424221Z",
     "shell.execute_reply": "2023-03-21T15:14:36.423482Z"
    },
    "papermill": {
     "duration": 0.894172,
     "end_time": "2023-03-21T15:14:36.426040",
     "exception": false,
     "start_time": "2023-03-21T15:14:35.531868",
     "status": "completed"
    },
    "tags": []
   },
   "outputs": [],
   "source": [
    "import mlflow\n",
    "import pandas as pd\n",
    "\n",
    "\n",
    "def load_data(filename):\n",
    "    with mlflow.start_run(run_name='load_data') as mlrun:\n",
    "\n",
    "        # columns' names\n",
    "        # names = ['specimen_number', 'eccentricity', 'aspect_ratio',\n",
    "        #         'elongation', 'solidity', 'stochastic_convexity', 'isoperimetric_factor',\n",
    "        #         'maximal_indentation_depth', 'lobedness', 'average_intensity',\n",
    "        #         'average_contrast', 'smoothness', 'third_moment', 'uniformity', 'entropy']\n",
    "\n",
    "        df = pd.read_csv(filename)\n",
    "        # df = pd.read_csv(filename, names=names)\n",
    "\n",
    "        mlflow.log_param(key='n_rows_inference', value=len(df))\n",
    "        print(df.head())\n",
    "\n",
    "        df.to_csv('data.csv', index=False)\n",
    "        mlflow.log_artifact('data.csv')"
   ]
  },
  {
   "cell_type": "code",
   "execution_count": 2,
   "id": "3136fbaf-80ff-4852-86a4-7c5e7f182425",
   "metadata": {
    "execution": {
     "iopub.execute_input": "2023-03-21T15:14:36.429476Z",
     "iopub.status.busy": "2023-03-21T15:14:36.428783Z",
     "iopub.status.idle": "2023-03-21T15:14:37.888214Z",
     "shell.execute_reply": "2023-03-21T15:14:37.887458Z"
    },
    "papermill": {
     "duration": 1.462718,
     "end_time": "2023-03-21T15:14:37.889922",
     "exception": false,
     "start_time": "2023-03-21T15:14:36.427204",
     "status": "completed"
    },
    "tags": []
   },
   "outputs": [
    {
     "name": "stdout",
     "output_type": "stream",
     "text": [
      "   specimen_number  eccentricity  aspect_ratio  elongation  solidity  \\\n",
      "0                1       0.86224        2.0735     0.52269   0.98686   \n",
      "1               11       0.52382        1.1117     0.67175   0.54701   \n",
      "2                3       0.82866        1.9848     0.50917   0.94180   \n",
      "3                4       0.70668        1.2510     0.38111   0.94226   \n",
      "4                4       0.73935        1.5319     0.34987   0.98479   \n",
      "\n",
      "   stochastic_convexity  isoperimetric_factor  maximal_indentation_depth  \\\n",
      "0               0.99474               0.70529                   0.010097   \n",
      "1               0.62982               0.15157                   0.136740   \n",
      "2               0.99825               0.55942                   0.025524   \n",
      "3               0.99825               0.69250                   0.019432   \n",
      "4               1.00000               0.81067                   0.007808   \n",
      "\n",
      "   lobedness  average_intensity  average_contrast  smoothness  third_moment  \\\n",
      "0   0.018554           0.041404          0.121630    0.014579      0.004869   \n",
      "1   3.402800           0.026434          0.085792    0.007306      0.002137   \n",
      "2   0.118570           0.080103          0.166920    0.027107      0.008655   \n",
      "3   0.068724           0.031587          0.115020    0.013056      0.005311   \n",
      "4   0.011095           0.027888          0.114720    0.012990      0.006017   \n",
      "\n",
      "   uniformity  entropy  \n",
      "0    0.000276  0.94580  \n",
      "1    0.000166  0.90513  \n",
      "2    0.000427  1.80380  \n",
      "3    0.000086  0.72247  \n",
      "4    0.000050  0.59895  \n"
     ]
    }
   ],
   "source": [
    "filename = \"X_inference.csv\"\n",
    "load_data(filename)"
   ]
  },
  {
   "cell_type": "code",
   "execution_count": null,
   "id": "17c831fa-8f56-4582-addb-18e0627cc30e",
   "metadata": {
    "papermill": {
     "duration": 0.001174,
     "end_time": "2023-03-21T15:14:37.892417",
     "exception": false,
     "start_time": "2023-03-21T15:14:37.891243",
     "status": "completed"
    },
    "tags": []
   },
   "outputs": [],
   "source": []
  }
 ],
 "metadata": {
  "kernelspec": {
   "display_name": "Python 3 (ipykernel)",
   "language": "python",
   "name": "python3"
  },
  "language_info": {
   "codemirror_mode": {
    "name": "ipython",
    "version": 3
   },
   "file_extension": ".py",
   "mimetype": "text/x-python",
   "name": "python",
   "nbconvert_exporter": "python",
   "pygments_lexer": "ipython3",
   "version": "3.8.13"
  },
  "papermill": {
   "default_parameters": {},
   "duration": 3.850785,
   "end_time": "2023-03-21T15:14:38.311790",
   "environment_variables": {},
   "exception": null,
   "input_path": "/home/jovyan/tutorial/tabular/inference/batch/artifacts/load_data.ipynb",
   "output_path": "/home/jovyan/tutorial/tabular/inference/batch/artifacts/load_data.ipynb",
   "parameters": {},
   "start_time": "2023-03-21T15:14:34.461005",
   "version": "2.3.4"
  }
 },
 "nbformat": 4,
 "nbformat_minor": 5
}