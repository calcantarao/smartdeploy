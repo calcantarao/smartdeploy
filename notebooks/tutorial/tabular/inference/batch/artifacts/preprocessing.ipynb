{
 "cells": [
  {
   "cell_type": "markdown",
   "id": "0c68c54b-f12d-4910-9693-b0dd4b6c290f",
   "metadata": {
    "papermill": {
     "duration": 0.001323,
     "end_time": "2022-08-22T19:01:37.430832",
     "exception": false,
     "start_time": "2022-08-22T19:01:37.429509",
     "status": "completed"
    },
    "tags": []
   },
   "source": [
    "# Preprocesamiento"
   ]
  },
  {
   "cell_type": "code",
   "execution_count": 1,
   "id": "208e5fb6-25f1-496c-bf32-ea53bea4d426",
   "metadata": {
    "papermill": {
     "duration": 0.61258,
     "end_time": "2022-08-22T19:01:38.044354",
     "exception": false,
     "start_time": "2022-08-22T19:01:37.431774",
     "status": "completed"
    },
    "tags": []
   },
   "outputs": [],
   "source": [
    "import mlflow\n",
    "import pandas as pd\n",
    "import sys, os\n",
    "\n",
    "sys.path.insert(1, os.path.join(sys.path[0], '..'))\n",
    "\n",
    "# Here we dont have y, only X\n",
    "def preprocessing(filename):\n",
    "    with mlflow.start_run(run_name='preprocessing') as mlrun:\n",
    "        # Some preprocessing steps here\n",
    "        df = pd.read_csv(filename)\n",
    "        df_cleaned = df.loc[:, df.columns != 'specimen_number'].copy()\n",
    "        df_cleaned[df_cleaned.columns] = df_cleaned[df_cleaned.columns].astype(float)\n",
    "        df_cleaned.to_csv('preprocessed_data.csv', index=False)\n",
    "        mlflow.log_artifact('preprocessed_data.csv')\n",
    "\n",
    "        # logging\n",
    "        mlflow.log_param(key='n_samples', value=len(df_cleaned))\n",
    "        mlflow.log_param(key='n_features', value=len(df_cleaned.columns))"
   ]
  },
  {
   "cell_type": "code",
   "execution_count": 2,
   "id": "ac07185e-cdbf-433a-9ae0-5c66e6571a39",
   "metadata": {
    "papermill": {
     "duration": 0.282281,
     "end_time": "2022-08-22T19:01:38.327906",
     "exception": false,
     "start_time": "2022-08-22T19:01:38.045625",
     "status": "completed"
    },
    "tags": []
   },
   "outputs": [],
   "source": [
    "filename = \"data.csv\"\n",
    "preprocessing(filename)"
   ]
  },
  {
   "cell_type": "code",
   "execution_count": null,
   "id": "aa7c6676-29e5-4163-9515-4b0f42b32184",
   "metadata": {},
   "outputs": [],
   "source": []
  }
 ],
 "metadata": {
  "kernelspec": {
   "display_name": "Python 3 (ipykernel)",
   "language": "python",
   "name": "python3"
  },
  "language_info": {
   "codemirror_mode": {
    "name": "ipython",
    "version": 3
   },
   "file_extension": ".py",
   "mimetype": "text/x-python",
   "name": "python",
   "nbconvert_exporter": "python",
   "pygments_lexer": "ipython3",
   "version": "3.8.13"
  },
  "papermill": {
   "default_parameters": {},
   "duration": 2.267915,
   "end_time": "2022-08-22T19:01:38.798548",
   "environment_variables": {},
   "exception": null,
   "input_path": "/home/jovyan/inferencia/preprocessing.ipynb",
   "output_path": "/home/jovyan/inferencia/preprocessing.ipynb",
   "parameters": {},
   "start_time": "2022-08-22T19:01:36.530633",
   "version": "2.3.4"
  }
 },
 "nbformat": 4,
 "nbformat_minor": 5
}
