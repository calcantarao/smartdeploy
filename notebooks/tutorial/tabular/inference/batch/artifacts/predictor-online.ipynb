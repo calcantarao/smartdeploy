{
 "cells": [
  {
   "cell_type": "markdown",
   "id": "e2af0738-9acb-48e5-aa14-06c492c7ea0c",
   "metadata": {
    "papermill": {
     "duration": 0.002545,
     "end_time": "2022-05-31T20:27:56.391275",
     "exception": false,
     "start_time": "2022-05-31T20:27:56.388730",
     "status": "completed"
    },
    "tags": []
   },
   "source": [
    "## Prediccion: Online\n",
    "\n",
    "Exponer el modelo y obtener las predicciones"
   ]
  },
  {
   "cell_type": "markdown",
   "id": "090944ba-7791-49f7-ae43-491b0f243b9a",
   "metadata": {},
   "source": [
    "## Webservice en local"
   ]
  },
  {
   "cell_type": "code",
   "execution_count": null,
   "id": "bdd4664f-72db-4605-aeb8-17e95e8bebaa",
   "metadata": {},
   "outputs": [],
   "source": [
    "!mlflow models serve --model-uri models:/extratree/Production -p 8001"
   ]
  },
  {
   "cell_type": "markdown",
   "id": "3da04257-0311-49fe-a4b6-b7bac27e40e6",
   "metadata": {},
   "source": [
    "## Webservice en Docker"
   ]
  },
  {
   "cell_type": "code",
   "execution_count": null,
   "id": "206f1f1b-5976-46f5-a3a5-09f5d28e5aac",
   "metadata": {},
   "outputs": [],
   "source": [
    "cmd_build = f'mlflow models build-docker -m {model_path} -n {name}'\n",
    "logs_build_image = subprocess.check_output(cmd_build.split())"
   ]
  },
  {
   "cell_type": "code",
   "execution_count": 36,
   "id": "6da777a8-af37-4aaf-93bd-d497bd8c3408",
   "metadata": {
    "papermill": {
     "duration": 0.552801,
     "end_time": "2022-05-31T20:27:56.955984",
     "exception": false,
     "start_time": "2022-05-31T20:27:56.403183",
     "status": "completed"
    },
    "tags": []
   },
   "outputs": [],
   "source": [
    "import mlflow\n",
    "import pandas as pd\n",
    "import numpy as np\n",
    "import matplotlib.pyplot as plt\n",
    "import json\n",
    "\n",
    "import sys, os\n",
    "\n",
    "sys.path.insert(1, os.path.join(sys.path[0], '..'))\n",
    "from cl.checker import check_drift\n",
    "\n",
    "\n",
    "@check_drift\n",
    "def predicting(filename, host, port):\n",
    "    with mlflow.start_run(run_name='predicting') as mlrun:\n",
    "\n",
    "        X_inference = pd.read_csv(filename).head(10)\n",
    "        data = X_inference.to_json(orient='split')\n",
    "\n",
    "        response = requests.post(\n",
    "            url=\"{host}:{port}/invocations\".format(host=host, port=port),\n",
    "            data=data,\n",
    "            headers={\"Content-Type\": \"application/json\"},\n",
    "        )\n",
    "        print(response.text)\n",
    "\n",
    "        if response.status_code != 200:\n",
    "            raise Exception(\n",
    "                \"Status Code {status_code}. {text}\".format(\n",
    "                    status_code=response.status_code, text=response.text\n",
    "                )\n",
    "            )\n",
    "\n",
    "        predictions = response.text\n",
    "        # print(predictions[:5])\n",
    "        with open('predictions.npy', 'wb') as f:\n",
    "            np.save(f, predictions)\n",
    "        mlflow.log_artifact('predictions.npy')\n",
    "        \n",
    "        return predictions"
   ]
  },
  {
   "cell_type": "code",
   "execution_count": 37,
   "id": "27958a56-1a77-46ae-8f06-e6c41d261ade",
   "metadata": {
    "papermill": {
     "duration": 0.587859,
     "end_time": "2022-05-31T20:27:57.546348",
     "exception": false,
     "start_time": "2022-05-31T20:27:56.958489",
     "status": "completed"
    },
    "tags": []
   },
   "outputs": [
    {
     "data": {
      "text/html": [
       "<pre style=\"white-space:pre;overflow-x:auto;line-height:normal;font-family:Menlo,'DejaVu Sans Mono',consolas,'Courier New',monospace\"><span style=\"color: #7fbfbf; text-decoration-color: #7fbfbf\">[19:44:17] </span>Check drift passed successfully                                     <a href=\"file:///home/jovyan/cl/checker.py\" target=\"_blank\"><span style=\"color: #7f7f7f; text-decoration-color: #7f7f7f\">checker.py</span></a><span style=\"color: #7f7f7f; text-decoration-color: #7f7f7f\">:</span><a href=\"file:///home/jovyan/cl/checker.py#128\" target=\"_blank\"><span style=\"color: #7f7f7f; text-decoration-color: #7f7f7f\">128</span></a>\n",
       "</pre>\n"
      ],
      "text/plain": [
       "\u001b[2;36m[19:44:17]\u001b[0m\u001b[2;36m \u001b[0mCheck drift passed successfully                                     \u001b]8;id=590495;file:///home/jovyan/cl/checker.py\u001b\\\u001b[2mchecker.py\u001b[0m\u001b]8;;\u001b\\\u001b[2m:\u001b[0m\u001b]8;id=190949;file:///home/jovyan/cl/checker.py#128\u001b\\\u001b[2m128\u001b[0m\u001b]8;;\u001b\\\n"
      ]
     },
     "metadata": {},
     "output_type": "display_data"
    },
    {
     "data": {
      "text/html": [
       "<pre style=\"white-space:pre;overflow-x:auto;line-height:normal;font-family:Menlo,'DejaVu Sans Mono',consolas,'Courier New',monospace\"><span style=\"color: #7fbfbf; text-decoration-color: #7fbfbf\">           </span>Running <span style=\"color: #008000; text-decoration-color: #008000\">'predicting'</span>                                                <a href=\"file:///home/jovyan/cl/checker.py\" target=\"_blank\"><span style=\"color: #7f7f7f; text-decoration-color: #7f7f7f\">checker.py</span></a><span style=\"color: #7f7f7f; text-decoration-color: #7f7f7f\">:</span><a href=\"file:///home/jovyan/cl/checker.py#129\" target=\"_blank\"><span style=\"color: #7f7f7f; text-decoration-color: #7f7f7f\">129</span></a>\n",
       "</pre>\n"
      ],
      "text/plain": [
       "\u001b[2;36m          \u001b[0m\u001b[2;36m \u001b[0mRunning \u001b[32m'predicting'\u001b[0m                                                \u001b]8;id=694309;file:///home/jovyan/cl/checker.py\u001b\\\u001b[2mchecker.py\u001b[0m\u001b]8;;\u001b\\\u001b[2m:\u001b[0m\u001b]8;id=606154;file:///home/jovyan/cl/checker.py#129\u001b\\\u001b[2m129\u001b[0m\u001b]8;;\u001b\\\n"
      ]
     },
     "metadata": {},
     "output_type": "display_data"
    },
    {
     "name": "stdout",
     "output_type": "stream",
     "text": [
      "Loading model: extratree:4\n"
     ]
    },
    {
     "data": {
      "text/html": [
       "<pre style=\"white-space:pre;overflow-x:auto;line-height:normal;font-family:Menlo,'DejaVu Sans Mono',consolas,'Courier New',monospace\"><span style=\"color: #7fbfbf; text-decoration-color: #7fbfbf\">           </span>Finished <span style=\"color: #008000; text-decoration-color: #008000\">'predicting'</span> in <span style=\"color: #008080; text-decoration-color: #008080; font-weight: bold\">0.0991</span> secs                                <a href=\"file:///home/jovyan/cl/checker.py\" target=\"_blank\"><span style=\"color: #7f7f7f; text-decoration-color: #7f7f7f\">checker.py</span></a><span style=\"color: #7f7f7f; text-decoration-color: #7f7f7f\">:</span><a href=\"file:///home/jovyan/cl/checker.py#134\" target=\"_blank\"><span style=\"color: #7f7f7f; text-decoration-color: #7f7f7f\">134</span></a>\n",
       "</pre>\n"
      ],
      "text/plain": [
       "\u001b[2;36m          \u001b[0m\u001b[2;36m \u001b[0mFinished \u001b[32m'predicting'\u001b[0m in \u001b[1;36m0.0991\u001b[0m secs                                \u001b]8;id=299295;file:///home/jovyan/cl/checker.py\u001b\\\u001b[2mchecker.py\u001b[0m\u001b]8;;\u001b\\\u001b[2m:\u001b[0m\u001b]8;id=753922;file:///home/jovyan/cl/checker.py#134\u001b\\\u001b[2m134\u001b[0m\u001b]8;;\u001b\\\n"
      ]
     },
     "metadata": {},
     "output_type": "display_data"
    }
   ],
   "source": [
    "filename = \"preprocessed_data.csv\"\n",
    "predictions = predicting(filename, model_name=\"extratree\", model_version=4)"
   ]
  },
  {
   "cell_type": "code",
   "execution_count": 38,
   "id": "8f70deb3-83ba-443e-be5a-c048f4670ca4",
   "metadata": {},
   "outputs": [
    {
     "data": {
      "text/plain": [
       "array([32, 11, 12,  9,  1])"
      ]
     },
     "execution_count": 38,
     "metadata": {},
     "output_type": "execute_result"
    }
   ],
   "source": [
    "predictions[:5]"
   ]
  },
  {
   "cell_type": "code",
   "execution_count": 39,
   "id": "c50c8fd8-1b0e-4a24-a446-e92e9caa456d",
   "metadata": {},
   "outputs": [
    {
     "name": "stdout",
     "output_type": "stream",
     "text": [
      "[ 1  5  7  8  9 10 11 12 13 14 24 27 28 29 31 32 34 36]\n"
     ]
    },
    {
     "data": {
      "image/png": "[encoded data removed]",
      "text/plain": [
       "<Figure size 432x288 with 1 Axes>"
      ]
     },
     "metadata": {
      "needs_background": "light"
     },
     "output_type": "display_data"
    }
   ],
   "source": [
    "unique, counts = np.unique(predictions, return_counts=True)\n",
    "d = dict(zip(unique, counts))\n",
    "plt.bar(*zip(*d.items()))\n",
    "\n",
    "print(unique)\n",
    "plt.show()"
   ]
  },
  {
   "cell_type": "code",
   "execution_count": 1,
   "id": "082a5b6b-4777-4e3a-8cc0-00a348ff2ce7",
   "metadata": {},
   "outputs": [],
   "source": [
    "import pandas as pd\n",
    "filename = \"preprocessed_data.csv\"\n",
    "X_inference = pd.read_csv(filename)"
   ]
  },
  {
   "cell_type": "code",
   "execution_count": 2,
   "id": "d7cc58e6-2ad6-4045-8a0f-05c3d6bd76f7",
   "metadata": {},
   "outputs": [
    {
     "data": {
      "text/html": [
       "<div>\n",
       "<style scoped>\n",
       "    .dataframe tbody tr th:only-of-type {\n",
       "        vertical-align: middle;\n",
       "    }\n",
       "\n",
       "    .dataframe tbody tr th {\n",
       "        vertical-align: top;\n",
       "    }\n",
       "\n",
       "    .dataframe thead th {\n",
       "        text-align: right;\n",
       "    }\n",
       "</style>\n",
       "<table border=\"1\" class=\"dataframe\">\n",
       "  <thead>\n",
       "    <tr style=\"text-align: right;\">\n",
       "      <th></th>\n",
       "      <th>eccentricity</th>\n",
       "      <th>aspect_ratio</th>\n",
       "      <th>elongation</th>\n",
       "      <th>solidity</th>\n",
       "      <th>stochastic_convexity</th>\n",
       "      <th>isoperimetric_factor</th>\n",
       "      <th>maximal_indentation_depth</th>\n",
       "      <th>lobedness</th>\n",
       "      <th>average_intensity</th>\n",
       "      <th>average_contrast</th>\n",
       "      <th>smoothness</th>\n",
       "      <th>third_moment</th>\n",
       "      <th>uniformity</th>\n",
       "      <th>entropy</th>\n",
       "    </tr>\n",
       "  </thead>\n",
       "  <tbody>\n",
       "    <tr>\n",
       "      <th>0</th>\n",
       "      <td>0.86224</td>\n",
       "      <td>2.0735</td>\n",
       "      <td>0.52269</td>\n",
       "      <td>0.98686</td>\n",
       "      <td>0.99474</td>\n",
       "      <td>0.70529</td>\n",
       "      <td>0.010097</td>\n",
       "      <td>0.018554</td>\n",
       "      <td>0.041404</td>\n",
       "      <td>0.121630</td>\n",
       "      <td>0.014579</td>\n",
       "      <td>0.004869</td>\n",
       "      <td>0.000276</td>\n",
       "      <td>0.94580</td>\n",
       "    </tr>\n",
       "    <tr>\n",
       "      <th>1</th>\n",
       "      <td>0.52382</td>\n",
       "      <td>1.1117</td>\n",
       "      <td>0.67175</td>\n",
       "      <td>0.54701</td>\n",
       "      <td>0.62982</td>\n",
       "      <td>0.15157</td>\n",
       "      <td>0.136740</td>\n",
       "      <td>3.402800</td>\n",
       "      <td>0.026434</td>\n",
       "      <td>0.085792</td>\n",
       "      <td>0.007306</td>\n",
       "      <td>0.002137</td>\n",
       "      <td>0.000166</td>\n",
       "      <td>0.90513</td>\n",
       "    </tr>\n",
       "    <tr>\n",
       "      <th>2</th>\n",
       "      <td>0.82866</td>\n",
       "      <td>1.9848</td>\n",
       "      <td>0.50917</td>\n",
       "      <td>0.94180</td>\n",
       "      <td>0.99825</td>\n",
       "      <td>0.55942</td>\n",
       "      <td>0.025524</td>\n",
       "      <td>0.118570</td>\n",
       "      <td>0.080103</td>\n",
       "      <td>0.166920</td>\n",
       "      <td>0.027107</td>\n",
       "      <td>0.008655</td>\n",
       "      <td>0.000427</td>\n",
       "      <td>1.80380</td>\n",
       "    </tr>\n",
       "    <tr>\n",
       "      <th>3</th>\n",
       "      <td>0.70668</td>\n",
       "      <td>1.2510</td>\n",
       "      <td>0.38111</td>\n",
       "      <td>0.94226</td>\n",
       "      <td>0.99825</td>\n",
       "      <td>0.69250</td>\n",
       "      <td>0.019432</td>\n",
       "      <td>0.068724</td>\n",
       "      <td>0.031587</td>\n",
       "      <td>0.115020</td>\n",
       "      <td>0.013056</td>\n",
       "      <td>0.005311</td>\n",
       "      <td>0.000086</td>\n",
       "      <td>0.72247</td>\n",
       "    </tr>\n",
       "    <tr>\n",
       "      <th>4</th>\n",
       "      <td>0.73935</td>\n",
       "      <td>1.5319</td>\n",
       "      <td>0.34987</td>\n",
       "      <td>0.98479</td>\n",
       "      <td>1.00000</td>\n",
       "      <td>0.81067</td>\n",
       "      <td>0.007808</td>\n",
       "      <td>0.011095</td>\n",
       "      <td>0.027888</td>\n",
       "      <td>0.114720</td>\n",
       "      <td>0.012990</td>\n",
       "      <td>0.006017</td>\n",
       "      <td>0.000050</td>\n",
       "      <td>0.59895</td>\n",
       "    </tr>\n",
       "  </tbody>\n",
       "</table>\n",
       "</div>"
      ],
      "text/plain": [
       "   eccentricity  aspect_ratio  elongation  solidity  stochastic_convexity  \\\n",
       "0       0.86224        2.0735     0.52269   0.98686               0.99474   \n",
       "1       0.52382        1.1117     0.67175   0.54701               0.62982   \n",
       "2       0.82866        1.9848     0.50917   0.94180               0.99825   \n",
       "3       0.70668        1.2510     0.38111   0.94226               0.99825   \n",
       "4       0.73935        1.5319     0.34987   0.98479               1.00000   \n",
       "\n",
       "   isoperimetric_factor  maximal_indentation_depth  lobedness  \\\n",
       "0               0.70529                   0.010097   0.018554   \n",
       "1               0.15157                   0.136740   3.402800   \n",
       "2               0.55942                   0.025524   0.118570   \n",
       "3               0.69250                   0.019432   0.068724   \n",
       "4               0.81067                   0.007808   0.011095   \n",
       "\n",
       "   average_intensity  average_contrast  smoothness  third_moment  uniformity  \\\n",
       "0           0.041404          0.121630    0.014579      0.004869    0.000276   \n",
       "1           0.026434          0.085792    0.007306      0.002137    0.000166   \n",
       "2           0.080103          0.166920    0.027107      0.008655    0.000427   \n",
       "3           0.031587          0.115020    0.013056      0.005311    0.000086   \n",
       "4           0.027888          0.114720    0.012990      0.006017    0.000050   \n",
       "\n",
       "   entropy  \n",
       "0  0.94580  \n",
       "1  0.90513  \n",
       "2  1.80380  \n",
       "3  0.72247  \n",
       "4  0.59895  "
      ]
     },
     "execution_count": 2,
     "metadata": {},
     "output_type": "execute_result"
    }
   ],
   "source": [
    "X_inference.head()"
   ]
  },
  {
   "cell_type": "code",
   "execution_count": 5,
   "id": "08f3d1d4-0ae2-49e1-9989-0c0e2e56aedc",
   "metadata": {},
   "outputs": [
    {
     "data": {
      "text/plain": [
       "['eccentricity',\n",
       " 'aspect_ratio',\n",
       " 'elongation',\n",
       " 'solidity',\n",
       " 'stochastic_convexity',\n",
       " 'isoperimetric_factor',\n",
       " 'maximal_indentation_depth',\n",
       " 'lobedness',\n",
       " 'average_intensity',\n",
       " 'average_contrast',\n",
       " 'smoothness',\n",
       " 'third_moment',\n",
       " 'uniformity',\n",
       " 'entropy']"
      ]
     },
     "execution_count": 5,
     "metadata": {},
     "output_type": "execute_result"
    }
   ],
   "source": [
    "list(X_inference.columns)"
   ]
  },
  {
   "cell_type": "code",
   "execution_count": 14,
   "id": "c613d522-9726-4fc7-9ca6-ebe597a0c5b6",
   "metadata": {},
   "outputs": [
    {
     "data": {
      "text/plain": [
       "[[0.86224,\n",
       "  2.0735,\n",
       "  0.52269,\n",
       "  0.98686,\n",
       "  0.99474,\n",
       "  0.70529,\n",
       "  0.010097,\n",
       "  0.018554,\n",
       "  0.041404,\n",
       "  0.12163,\n",
       "  0.014579,\n",
       "  0.0048689,\n",
       "  0.00027608,\n",
       "  0.9458]]"
      ]
     },
     "execution_count": 14,
     "metadata": {},
     "output_type": "execute_result"
    }
   ],
   "source": [
    "X_inference.head(1).values.tolist()"
   ]
  },
  {
   "cell_type": "markdown",
   "id": "a28d31bb-cbbc-4688-bbc6-435c9f96374a",
   "metadata": {},
   "source": [
    "!curl http://127.0.0.1:8001/invocations -H 'Content-Type: application/json' -d '{ \"columns\": list(X_inference.columns), \"data\": X_inference.head(1).values.tolist() }'"
   ]
  },
  {
   "cell_type": "code",
   "execution_count": 23,
   "id": "1e526573-544d-4c3d-8854-bfb8158f51c7",
   "metadata": {},
   "outputs": [
    {
     "name": "stdout",
     "output_type": "stream",
     "text": [
      "Predictions: [32, 11, 12, 9, 1, 1, 36, 27, 13, 29]\n"
     ]
    }
   ],
   "source": [
    "import requests\n",
    "\n",
    "host = '0.0.0.0'\n",
    "port = '8001'\n",
    "\n",
    "url = f'http://{host}:{port}/invocations'\n",
    "\n",
    "headers = {\n",
    "    'Content-Type': 'application/json',\n",
    "}\n",
    "\n",
    "# test_data is a Pandas dataframe with data for testing the ML model\n",
    "test_data = X_inference.head(10)\n",
    "http_data = test_data.to_json(orient='split')\n",
    "\n",
    "r = requests.post(url=url, headers=headers, data=http_data)\n",
    "\n",
    "print(f'Predictions: {r.text}')"
   ]
  },
  {
   "cell_type": "code",
   "execution_count": null,
   "id": "51a1ca32-cac7-4033-9cf1-4bdead754108",
   "metadata": {},
   "outputs": [],
   "source": []
  }
 ],
 "metadata": {
  "kernelspec": {
   "display_name": "Python 3 (ipykernel)",
   "language": "python",
   "name": "python3"
  },
  "language_info": {
   "codemirror_mode": {
    "name": "ipython",
    "version": 3
   },
   "file_extension": ".py",
   "mimetype": "text/x-python",
   "name": "python",
   "nbconvert_exporter": "python",
   "pygments_lexer": "ipython3",
   "version": "3.10.6"
  },
  "papermill": {
   "default_parameters": {},
   "duration": 2.657492,
   "end_time": "2022-05-31T20:27:58.068224",
   "environment_variables": {},
   "exception": null,
   "input_path": "/home/jovyan/deployment/predicting.ipynb",
   "output_path": "/home/jovyan/deployment/predicting.ipynb",
   "parameters": {},
   "start_time": "2022-05-31T20:27:55.410732",
   "version": "2.3.4"
  },
  "widgets": {
   "application/vnd.jupyter.widget-state+json": {
    "state": {
     "7bed244c6d784e33ae379d63a991144b": {
      "model_module": "@jupyter-widgets/controls",
      "model_module_version": "1.5.0",
      "model_name": "DescriptionStyleModel",
      "state": {
       "_model_module": "@jupyter-widgets/controls",
       "_model_module_version": "1.5.0",
       "_model_name": "DescriptionStyleModel",
       "_view_count": null,
       "_view_module": "@jupyter-widgets/base",
       "_view_module_version": "1.2.0",
       "_view_name": "StyleView",
       "description_width": ""
      }
     },
     "8091593cf82546e6b62c0b04f1886ff7": {
      "model_module": "@jupyter-widgets/base",
      "model_module_version": "1.2.0",
      "model_name": "LayoutModel",
      "state": {
       "_model_module": "@jupyter-widgets/base",
       "_model_module_version": "1.2.0",
       "_model_name": "LayoutModel",
       "_view_count": null,
       "_view_module": "@jupyter-widgets/base",
       "_view_module_version": "1.2.0",
       "_view_name": "LayoutView",
       "align_content": null,
       "align_items": null,
       "align_self": null,
       "border": null,
       "bottom": null,
       "display": null,
       "flex": null,
       "flex_flow": null,
       "grid_area": null,
       "grid_auto_columns": null,
       "grid_auto_flow": null,
       "grid_auto_rows": null,
       "grid_column": null,
       "grid_gap": null,
       "grid_row": null,
       "grid_template_areas": null,
       "grid_template_columns": null,
       "grid_template_rows": null,
       "height": null,
       "justify_content": null,
       "justify_items": null,
       "left": null,
       "margin": null,
       "max_height": null,
       "max_width": null,
       "min_height": null,
       "min_width": null,
       "object_fit": null,
       "object_position": null,
       "order": null,
       "overflow": null,
       "overflow_x": null,
       "overflow_y": null,
       "padding": null,
       "right": null,
       "top": null,
       "visibility": null,
       "width": null
      }
     },
     "8967925e98ff4ab89c36d2582dfa1cca": {
      "model_module": "@jupyter-widgets/controls",
      "model_module_version": "1.5.0",
      "model_name": "HTMLModel",
      "state": {
       "_dom_classes": [],
       "_model_module": "@jupyter-widgets/controls",
       "_model_module_version": "1.5.0",
       "_model_name": "HTMLModel",
       "_view_count": null,
       "_view_module": "@jupyter-widgets/controls",
       "_view_module_version": "1.5.0",
       "_view_name": "HTMLView",
       "description": "",
       "description_tooltip": null,
       "layout": "IPY_MODEL_f71cc52650174f65aafeec41472ebfee",
       "placeholder": "​",
       "style": "IPY_MODEL_c835e09bfa1641f9b354f355d39da356",
       "value": "Single Dataset Integrity Suite: 100%"
      }
     },
     "c835e09bfa1641f9b354f355d39da356": {
      "model_module": "@jupyter-widgets/controls",
      "model_module_version": "1.5.0",
      "model_name": "DescriptionStyleModel",
      "state": {
       "_model_module": "@jupyter-widgets/controls",
       "_model_module_version": "1.5.0",
       "_model_name": "DescriptionStyleModel",
       "_view_count": null,
       "_view_module": "@jupyter-widgets/base",
       "_view_module_version": "1.2.0",
       "_view_name": "StyleView",
       "description_width": ""
      }
     },
     "c8720071d1864ac0b52776a6371d9162": {
      "model_module": "@jupyter-widgets/controls",
      "model_module_version": "1.5.0",
      "model_name": "HTMLModel",
      "state": {
       "_dom_classes": [],
       "_model_module": "@jupyter-widgets/controls",
       "_model_module_version": "1.5.0",
       "_model_name": "HTMLModel",
       "_view_count": null,
       "_view_module": "@jupyter-widgets/controls",
       "_view_module_version": "1.5.0",
       "_view_name": "HTMLView",
       "description": "",
       "description_tooltip": null,
       "layout": "IPY_MODEL_d295af09a4d74b22bb4e6afb4a7270d6",
       "placeholder": "​",
       "style": "IPY_MODEL_7bed244c6d784e33ae379d63a991144b",
       "value": " 9/9 [00:00&lt;00:00, 87.64 Check/s, Check=Outlier Sample Detection]"
      }
     },
     "cc7d83a8a06e46308afe3ee4a15189f7": {
      "model_module": "@jupyter-widgets/controls",
      "model_module_version": "1.5.0",
      "model_name": "HBoxModel",
      "state": {
       "_dom_classes": [],
       "_model_module": "@jupyter-widgets/controls",
       "_model_module_version": "1.5.0",
       "_model_name": "HBoxModel",
       "_view_count": null,
       "_view_module": "@jupyter-widgets/controls",
       "_view_module_version": "1.5.0",
       "_view_name": "HBoxView",
       "box_style": "",
       "children": [
        "IPY_MODEL_8967925e98ff4ab89c36d2582dfa1cca",
        "IPY_MODEL_da641388ab7e4a9dbddd10f1e80a6131",
        "IPY_MODEL_c8720071d1864ac0b52776a6371d9162"
       ],
       "layout": "IPY_MODEL_8091593cf82546e6b62c0b04f1886ff7"
      }
     },
     "d295af09a4d74b22bb4e6afb4a7270d6": {
      "model_module": "@jupyter-widgets/base",
      "model_module_version": "1.2.0",
      "model_name": "LayoutModel",
      "state": {
       "_model_module": "@jupyter-widgets/base",
       "_model_module_version": "1.2.0",
       "_model_name": "LayoutModel",
       "_view_count": null,
       "_view_module": "@jupyter-widgets/base",
       "_view_module_version": "1.2.0",
       "_view_name": "LayoutView",
       "align_content": null,
       "align_items": null,
       "align_self": null,
       "border": null,
       "bottom": null,
       "display": null,
       "flex": null,
       "flex_flow": null,
       "grid_area": null,
       "grid_auto_columns": null,
       "grid_auto_flow": null,
       "grid_auto_rows": null,
       "grid_column": null,
       "grid_gap": null,
       "grid_row": null,
       "grid_template_areas": null,
       "grid_template_columns": null,
       "grid_template_rows": null,
       "height": null,
       "justify_content": null,
       "justify_items": null,
       "left": null,
       "margin": null,
       "max_height": null,
       "max_width": null,
       "min_height": null,
       "min_width": null,
       "object_fit": null,
       "object_position": null,
       "order": null,
       "overflow": null,
       "overflow_x": null,
       "overflow_y": null,
       "padding": null,
       "right": null,
       "top": null,
       "visibility": null,
       "width": null
      }
     },
     "da641388ab7e4a9dbddd10f1e80a6131": {
      "model_module": "@jupyter-widgets/controls",
      "model_module_version": "1.5.0",
      "model_name": "FloatProgressModel",
      "state": {
       "_dom_classes": [],
       "_model_module": "@jupyter-widgets/controls",
       "_model_module_version": "1.5.0",
       "_model_name": "FloatProgressModel",
       "_view_count": null,
       "_view_module": "@jupyter-widgets/controls",
       "_view_module_version": "1.5.0",
       "_view_name": "ProgressView",
       "bar_style": "",
       "description": "",
       "description_tooltip": null,
       "layout": "IPY_MODEL_f0e909723a0c4a4ba58cef51c58336d3",
       "max": 9,
       "min": 0,
       "orientation": "horizontal",
       "style": "IPY_MODEL_f7485c5e87794d8c9a5621843769a037",
       "value": 9
      }
     },
     "f0e909723a0c4a4ba58cef51c58336d3": {
      "model_module": "@jupyter-widgets/base",
      "model_module_version": "1.2.0",
      "model_name": "LayoutModel",
      "state": {
       "_model_module": "@jupyter-widgets/base",
       "_model_module_version": "1.2.0",
       "_model_name": "LayoutModel",
       "_view_count": null,
       "_view_module": "@jupyter-widgets/base",
       "_view_module_version": "1.2.0",
       "_view_name": "LayoutView",
       "align_content": null,
       "align_items": null,
       "align_self": null,
       "border": null,
       "bottom": null,
       "display": null,
       "flex": null,
       "flex_flow": null,
       "grid_area": null,
       "grid_auto_columns": null,
       "grid_auto_flow": null,
       "grid_auto_rows": null,
       "grid_column": null,
       "grid_gap": null,
       "grid_row": null,
       "grid_template_areas": null,
       "grid_template_columns": null,
       "grid_template_rows": null,
       "height": null,
       "justify_content": null,
       "justify_items": null,
       "left": null,
       "margin": null,
       "max_height": null,
       "max_width": null,
       "min_height": null,
       "min_width": null,
       "object_fit": null,
       "object_position": null,
       "order": null,
       "overflow": null,
       "overflow_x": null,
       "overflow_y": null,
       "padding": null,
       "right": null,
       "top": null,
       "visibility": null,
       "width": null
      }
     },
     "f71cc52650174f65aafeec41472ebfee": {
      "model_module": "@jupyter-widgets/base",
      "model_module_version": "1.2.0",
      "model_name": "LayoutModel",
      "state": {
       "_model_module": "@jupyter-widgets/base",
       "_model_module_version": "1.2.0",
       "_model_name": "LayoutModel",
       "_view_count": null,
       "_view_module": "@jupyter-widgets/base",
       "_view_module_version": "1.2.0",
       "_view_name": "LayoutView",
       "align_content": null,
       "align_items": null,
       "align_self": null,
       "border": null,
       "bottom": null,
       "display": null,
       "flex": null,
       "flex_flow": null,
       "grid_area": null,
       "grid_auto_columns": null,
       "grid_auto_flow": null,
       "grid_auto_rows": null,
       "grid_column": null,
       "grid_gap": null,
       "grid_row": null,
       "grid_template_areas": null,
       "grid_template_columns": null,
       "grid_template_rows": null,
       "height": null,
       "justify_content": null,
       "justify_items": null,
       "left": null,
       "margin": null,
       "max_height": null,
       "max_width": null,
       "min_height": null,
       "min_width": null,
       "object_fit": null,
       "object_position": null,
       "order": null,
       "overflow": null,
       "overflow_x": null,
       "overflow_y": null,
       "padding": null,
       "right": null,
       "top": null,
       "visibility": null,
       "width": null
      }
     },
     "f7485c5e87794d8c9a5621843769a037": {
      "model_module": "@jupyter-widgets/controls",
      "model_module_version": "1.5.0",
      "model_name": "ProgressStyleModel",
      "state": {
       "_model_module": "@jupyter-widgets/controls",
       "_model_module_version": "1.5.0",
       "_model_name": "ProgressStyleModel",
       "_view_count": null,
       "_view_module": "@jupyter-widgets/base",
       "_view_module_version": "1.2.0",
       "_view_name": "StyleView",
       "bar_color": "#9d60fb",
       "description_width": ""
      }
     }
    },
    "version_major": 2,
    "version_minor": 0
   }
  }
 },
 "nbformat": 4,
 "nbformat_minor": 5
}
