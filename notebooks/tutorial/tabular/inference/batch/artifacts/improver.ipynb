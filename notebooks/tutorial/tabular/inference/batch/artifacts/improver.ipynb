{
 "cells": [
  {
   "cell_type": "markdown",
   "id": "78e30f63-6a07-4048-b77e-c53acac30bc8",
   "metadata": {},
   "source": [
    "# Improver: Feature attribution"
   ]
  },
  {
   "cell_type": "code",
   "execution_count": null,
   "id": "50b36c84-5406-4096-b7de-4e37e65de0fc",
   "metadata": {},
   "outputs": [],
   "source": []
  }
 ],
 "metadata": {
  "kernelspec": {
   "display_name": "Python 3 (ipykernel)",
   "language": "python",
   "name": "python3"
  },
  "language_info": {
   "codemirror_mode": {
    "name": "ipython",
    "version": 3
   },
   "file_extension": ".py",
   "mimetype": "text/x-python",
   "name": "python",
   "nbconvert_exporter": "python",
   "pygments_lexer": "ipython3",
   "version": "3.10.6"
  }
 },
 "nbformat": 4,
 "nbformat_minor": 5
}
