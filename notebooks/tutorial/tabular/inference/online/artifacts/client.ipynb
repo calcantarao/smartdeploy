{
 "cells": [
  {
   "cell_type": "markdown",
   "id": "7dc6024a-e570-4376-8e8f-efebd07510bf",
   "metadata": {
    "papermill": {
     "duration": 0.001594,
     "end_time": "2022-08-22T19:02:01.162298",
     "exception": false,
     "start_time": "2022-08-22T19:02:01.160704",
     "status": "completed"
    },
    "tags": []
   },
   "source": [
    "# Cliente"
   ]
  },
  {
   "cell_type": "code",
   "execution_count": 13,
   "id": "7709d1db-ad03-416d-b308-18dbb0a4bf81",
   "metadata": {
    "papermill": {
     "duration": 0.326117,
     "end_time": "2022-08-22T19:02:01.499703",
     "exception": false,
     "start_time": "2022-08-22T19:02:01.173586",
     "status": "completed"
    },
    "tags": []
   },
   "outputs": [
    {
     "data": {
      "text/plain": [
       "{'specimen_number': [1],\n",
       " 'eccentricity': [0.86224],\n",
       " 'aspect_ratio': [2.0735],\n",
       " 'elongation': [0.52269],\n",
       " 'solidity': [0.98686],\n",
       " 'stochastic_convexity': [0.99474],\n",
       " 'isoperimetric_factor': [0.70529],\n",
       " 'maximal_indentation_depth': [0.010097],\n",
       " 'lobedness': [0.018554],\n",
       " 'average_intensity': [0.041404],\n",
       " 'average_contrast': [0.12163],\n",
       " 'smoothness': [0.014579],\n",
       " 'third_moment': [0.0048689],\n",
       " 'uniformity': [0.00027608],\n",
       " 'entropy': [0.9458]}"
      ]
     },
     "execution_count": 13,
     "metadata": {},
     "output_type": "execute_result"
    }
   ],
   "source": [
    "import pandas as pd\n",
    "import requests\n",
    "\n",
    "filename = \"serving/X_inference.csv\"\n",
    "df = pd.read_csv(filename)\n",
    "request = df.head(1).to_dict('list')\n",
    "request"
   ]
  },
  {
   "cell_type": "code",
   "execution_count": 14,
   "id": "0eeda0a4-5372-494d-8582-51aa1c5972db",
   "metadata": {
    "papermill": {
     "duration": 0.146007,
     "end_time": "2022-08-22T19:02:01.646950",
     "exception": false,
     "start_time": "2022-08-22T19:02:01.500943",
     "status": "completed"
    },
    "tags": []
   },
   "outputs": [
    {
     "data": {
      "text/plain": [
       "32"
      ]
     },
     "execution_count": 14,
     "metadata": {},
     "output_type": "execute_result"
    }
   ],
   "source": [
    "response = requests.post(\"http://ray-head:5010/LeafDeployment\", json=request)\n",
    "result = response.json()[0]\n",
    "result"
   ]
  }
 ],
 "metadata": {
  "kernelspec": {
   "display_name": "Python 3 (ipykernel)",
   "language": "python",
   "name": "python3"
  },
  "language_info": {
   "codemirror_mode": {
    "name": "ipython",
    "version": 3
   },
   "file_extension": ".py",
   "mimetype": "text/x-python",
   "name": "python",
   "nbconvert_exporter": "python",
   "pygments_lexer": "ipython3",
   "version": "3.8.13"
  },
  "papermill": {
   "default_parameters": {},
   "duration": 1.964669,
   "end_time": "2022-08-22T19:02:01.866394",
   "environment_variables": {},
   "exception": null,
   "input_path": "client.ipynb",
   "output_path": "client.ipynb",
   "parameters": {},
   "start_time": "2022-08-22T19:01:59.901725",
   "version": "2.4.0"
  }
 },
 "nbformat": 4,
 "nbformat_minor": 5
}
