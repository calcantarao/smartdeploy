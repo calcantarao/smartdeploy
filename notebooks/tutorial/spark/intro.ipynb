{
 "cells": [
  {
   "cell_type": "code",
   "execution_count": 2,
   "id": "56f65067-0522-43a6-bcb3-836f77b6d6ba",
   "metadata": {
    "tags": []
   },
   "outputs": [],
   "source": [
    "import pyspark"
   ]
  },
  {
   "cell_type": "code",
   "execution_count": 1,
   "id": "70805260-984e-44fc-a42a-a8d2977a9202",
   "metadata": {},
   "outputs": [
    {
     "data": {
      "text/html": [
       "\n",
       "            <div>\n",
       "                <p><b>SparkSession - in-memory</b></p>\n",
       "                \n",
       "        <div>\n",
       "            <p><b>SparkContext</b></p>\n",
       "\n",
       "            <p><a href=\"http://8dede37389ec:4040\">Spark UI</a></p>\n",
       "\n",
       "            <dl>\n",
       "              <dt>Version</dt>\n",
       "                <dd><code>v3.3.0</code></dd>\n",
       "              <dt>Master</dt>\n",
       "                <dd><code>local[*]</code></dd>\n",
       "              <dt>AppName</dt>\n",
       "                <dd><code>My Local PySpark App</code></dd>\n",
       "            </dl>\n",
       "        </div>\n",
       "        \n",
       "            </div>\n",
       "        "
      ],
      "text/plain": [
       "<pyspark.sql.session.SparkSession at 0x7f544479b3a0>"
      ]
     },
     "execution_count": 1,
     "metadata": {},
     "output_type": "execute_result"
    }
   ],
   "source": [
    "from pyspark.sql import SparkSession\n",
    "\n",
    "spark = SparkSession.builder \\\n",
    "    .master(\"local[*]\") \\\n",
    "    .appName(\"My Local PySpark App\") \\\n",
    "    .getOrCreate()\n",
    "\n",
    "spark"
   ]
  },
  {
   "cell_type": "code",
   "execution_count": 4,
   "id": "f52e3ea4-72f9-4be1-8ed6-b16aa1f7e2ae",
   "metadata": {
    "tags": []
   },
   "outputs": [
    {
     "name": "stdout",
     "output_type": "stream",
     "text": [
      "+---------------+------------+------------+----------+--------+--------------------+--------------------+-------------------------+---------+-----------------+----------------+----------+------------+----------+-------+\n",
      "|specimen_number|eccentricity|aspect_ratio|elongation|solidity|stochastic_convexity|isoperimetric_factor|maximal_indentation_depth|lobedness|average_intensity|average_contrast|smoothness|third_moment|uniformity|entropy|\n",
      "+---------------+------------+------------+----------+--------+--------------------+--------------------+-------------------------+---------+-----------------+----------------+----------+------------+----------+-------+\n",
      "|              1|     0.86224|      2.0735|   0.52269| 0.98686|             0.99474|             0.70529|                 0.010097| 0.018554|         0.041404|         0.12163|  0.014579|   0.0048689| 2.7608E-4| 0.9458|\n",
      "|             11|     0.52382|      1.1117|   0.67175| 0.54701|             0.62982|             0.15157|                  0.13674|   3.4028|         0.026434|        0.085792| 0.0073064|   0.0021373| 1.6583E-4|0.90513|\n",
      "|              3|     0.82866|      1.9848|   0.50917|  0.9418|             0.99825|             0.55942|                 0.025524|  0.11857|         0.080103|         0.16692|  0.027107|   0.0086548|  4.265E-4| 1.8038|\n",
      "|              4|     0.70668|       1.251|   0.38111| 0.94226|             0.99825|              0.6925|                 0.019432| 0.068724|         0.031587|         0.11502|  0.013056|   0.0053112| 8.6352E-5|0.72247|\n",
      "|              4|     0.73935|      1.5319|   0.34987| 0.98479|                 1.0|             0.81067|                0.0078079| 0.011095|         0.027888|         0.11472|   0.01299|   0.0060166| 5.0098E-5|0.59895|\n",
      "|              4|     0.73797|      1.4597|   0.35376| 0.97566|                 1.0|             0.81697|                0.0068768|0.0086068|          0.01595|        0.065491| 0.0042707|   0.0011544| 6.6272E-5|0.58785|\n",
      "|              6|     0.37522|      1.1417|   0.81725| 0.68511|             0.58772|             0.12523|                  0.09186|   1.5358|          0.11488|         0.20861|  0.041703|    0.013344| 8.2033E-4| 2.0281|\n",
      "|              4|     0.72719|      1.4779|    0.3298| 0.99388|                 1.0|              0.8423|                0.0029668|0.0016019|          0.02634|        0.081903| 0.0066634|   0.0017846|  1.939E-4| 0.9805|\n",
      "|             10|     0.65119|      1.4026|   0.30387|  0.9799|                 1.0|             0.80081|                0.0082573| 0.012409|          0.10567|           0.185|  0.033093|   0.0087245| 0.0013911| 1.9632|\n",
      "|             11|     0.80393|      1.8829|    0.4698| 0.93066|             0.99298|             0.58011|                 0.043787|  0.34894|         0.010183|        0.061975| 0.0038262|   0.0014329| 1.8914E-5|0.28509|\n",
      "+---------------+------------+------------+----------+--------+--------------------+--------------------+-------------------------+---------+-----------------+----------------+----------+------------+----------+-------+\n",
      "only showing top 10 rows\n",
      "\n"
     ]
    }
   ],
   "source": [
    "file_path = \"data.csv\"\n",
    "df = spark.read.csv(file_path, header=True, inferSchema=True)\n",
    "\n",
    "df.show(10)"
   ]
  },
  {
   "cell_type": "markdown",
   "id": "90e87ee3-0616-442e-a5d8-040c93212890",
   "metadata": {},
   "source": [
    "## Remote server"
   ]
  },
  {
   "cell_type": "code",
   "execution_count": 5,
   "id": "99a8d53a-6bc4-4b20-bd6c-ce1696756293",
   "metadata": {
    "tags": []
   },
   "outputs": [],
   "source": [
    "# spark = SparkSession.builder \\\n",
    "#     .master(\"big_data_spark_master_url\") \\\n",
    "#     .appName(\"My Remote PySpark App\") \\\n",
    "#     .config(\"spark.executor.memory\", \"2g\") \\\n",
    "#     .config(\"spark.driver.memory\", \"2g\") \\\n",
    "#     .getOrCreate()"
   ]
  },
  {
   "cell_type": "code",
   "execution_count": 6,
   "id": "1c108dd1-956d-4d55-8f15-4cecbb963ece",
   "metadata": {
    "tags": []
   },
   "outputs": [],
   "source": [
    "from py4j.java_gateway import java_import"
   ]
  }
 ],
 "metadata": {
  "kernelspec": {
   "display_name": "Python 3 (ipykernel)",
   "language": "python",
   "name": "python3"
  },
  "language_info": {
   "codemirror_mode": {
    "name": "ipython",
    "version": 3
   },
   "file_extension": ".py",
   "mimetype": "text/x-python",
   "name": "python",
   "nbconvert_exporter": "python",
   "pygments_lexer": "ipython3",
   "version": "3.8.13"
  }
 },
 "nbformat": 4,
 "nbformat_minor": 5
}
