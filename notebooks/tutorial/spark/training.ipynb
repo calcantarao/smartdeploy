{
 "cells": [
  {
   "cell_type": "code",
   "execution_count": null,
   "id": "bb27a748-5882-4736-bcae-213f485d7513",
   "metadata": {
    "papermill": {
     "duration": 0.001155,
     "end_time": "2023-10-25T20:34:15.479411",
     "exception": false,
     "start_time": "2023-10-25T20:34:15.478256",
     "status": "completed"
    },
    "tags": []
   },
   "outputs": [],
   "source": []
  }
 ],
 "metadata": {
  "kernelspec": {
   "display_name": "Python 3 (ipykernel)",
   "language": "python",
   "name": "python3"
  },
  "language_info": {
   "codemirror_mode": {
    "name": "ipython",
    "version": 3
   },
   "file_extension": ".py",
   "mimetype": "text/x-python",
   "name": "python",
   "nbconvert_exporter": "python",
   "pygments_lexer": "ipython3",
   "version": "3.8.13"
  },
  "papermill": {
   "default_parameters": {},
   "duration": 0.966639,
   "end_time": "2023-10-25T20:34:15.696965",
   "environment_variables": {},
   "exception": null,
   "input_path": "/home/jovyan/tutorial/spark/training.ipynb",
   "output_path": "/home/jovyan/tutorial/spark/training.ipynb",
   "parameters": {},
   "start_time": "2023-10-25T20:34:14.730326",
   "version": "2.4.0"
  }
 },
 "nbformat": 4,
 "nbformat_minor": 5
}