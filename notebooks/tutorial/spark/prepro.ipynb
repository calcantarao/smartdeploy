{
 "cells": [
  {
   "cell_type": "code",
   "execution_count": null,
   "id": "a2a68eda-d538-4f28-a5ab-dc42f372f928",
   "metadata": {
    "papermill": {
     "duration": 0.001027,
     "end_time": "2023-10-25T20:34:14.510970",
     "exception": false,
     "start_time": "2023-10-25T20:34:14.509943",
     "status": "completed"
    },
    "tags": []
   },
   "outputs": [],
   "source": []
  }
 ],
 "metadata": {
  "kernelspec": {
   "display_name": "Python 3 (ipykernel)",
   "language": "python",
   "name": "python3"
  },
  "language_info": {
   "codemirror_mode": {
    "name": "ipython",
    "version": 3
   },
   "file_extension": ".py",
   "mimetype": "text/x-python",
   "name": "python",
   "nbconvert_exporter": "python",
   "pygments_lexer": "ipython3",
   "version": "3.8.13"
  },
  "papermill": {
   "default_parameters": {},
   "duration": 1.148609,
   "end_time": "2023-10-25T20:34:14.728204",
   "environment_variables": {},
   "exception": null,
   "input_path": "/home/jovyan/tutorial/spark/prepro.ipynb",
   "output_path": "/home/jovyan/tutorial/spark/prepro.ipynb",
   "parameters": {},
   "start_time": "2023-10-25T20:34:13.579595",
   "version": "2.4.0"
  }
 },
 "nbformat": 4,
 "nbformat_minor": 5
}