{
 "cells": [
  {
   "cell_type": "code",
   "execution_count": 1,
   "id": "beebf6fe-e73c-4dc6-8128-7ebc2947ed54",
   "metadata": {
    "execution": {
     "iopub.execute_input": "2024-01-08T16:11:28.785041Z",
     "iopub.status.busy": "2024-01-08T16:11:28.784441Z",
     "iopub.status.idle": "2024-01-08T16:11:29.419668Z",
     "shell.execute_reply": "2024-01-08T16:11:29.418938Z"
    },
    "papermill": {
     "duration": 0.639428,
     "end_time": "2024-01-08T16:11:29.421366",
     "exception": false,
     "start_time": "2024-01-08T16:11:28.781938",
     "status": "completed"
    },
    "tags": []
   },
   "outputs": [],
   "source": [
    "import mlflow\n",
    "import pandas as pd\n",
    "\n",
    "\n",
    "def load_data(filename):\n",
    "    with mlflow.start_run(run_name='load_data') as mlrun:\n",
    "        \n",
    "        # columns' names\n",
    "        names = ['species', 'specimen_number', 'eccentricity', 'aspect_ratio',\n",
    "                'elongation', 'solidity', 'stochastic_convexity', 'isoperimetric_factor',\n",
    "                'maximal_indentation_depth', 'lobedness', 'average_intensity',\n",
    "                'average_contrast', 'smoothness', 'third_moment', 'uniformity', 'entropy']\n",
    "\n",
    "        df = pd.read_csv(filename, names=names)\n",
    "\n",
    "        mlflow.log_param(key='n_rows_raw', value=len(df))\n",
    "        print(df.head())\n",
    "\n",
    "        df.to_csv('data.csv', index=False)\n",
    "        mlflow.log_artifact('data.csv')"
   ]
  },
  {
   "cell_type": "code",
   "execution_count": 2,
   "id": "14f6dec5-f5fe-4b33-89c4-24626a94fb44",
   "metadata": {
    "execution": {
     "iopub.execute_input": "2024-01-08T16:11:29.424972Z",
     "iopub.status.busy": "2024-01-08T16:11:29.424294Z",
     "iopub.status.idle": "2024-01-08T16:11:29.900647Z",
     "shell.execute_reply": "2024-01-08T16:11:29.899964Z"
    },
    "papermill": {
     "duration": 0.479742,
     "end_time": "2024-01-08T16:11:29.902306",
     "exception": false,
     "start_time": "2024-01-08T16:11:29.422564",
     "status": "completed"
    },
    "tags": []
   },
   "outputs": [
    {
     "name": "stdout",
     "output_type": "stream",
     "text": [
      "   species  specimen_number  eccentricity  aspect_ratio  elongation  solidity  \\\n",
      "0        1                1       0.72694        1.4742     0.32396   0.98535   \n",
      "1        1                2       0.74173        1.5257     0.36116   0.98152   \n",
      "2        1                3       0.76722        1.5725     0.38998   0.97755   \n",
      "3        1                4       0.73797        1.4597     0.35376   0.97566   \n",
      "4        1                5       0.82301        1.7707     0.44462   0.97698   \n",
      "\n",
      "   stochastic_convexity  isoperimetric_factor  maximal_indentation_depth  \\\n",
      "0               1.00000               0.83592                   0.004657   \n",
      "1               0.99825               0.79867                   0.005242   \n",
      "2               1.00000               0.80812                   0.007457   \n",
      "3               1.00000               0.81697                   0.006877   \n",
      "4               1.00000               0.75493                   0.007428   \n",
      "\n",
      "   lobedness  average_intensity  average_contrast  smoothness  third_moment  \\\n",
      "0   0.003947           0.047790          0.127950    0.016108      0.005232   \n",
      "1   0.005002           0.024160          0.090476    0.008119      0.002708   \n",
      "2   0.010121           0.011897          0.057445    0.003289      0.000921   \n",
      "3   0.008607           0.015950          0.065491    0.004271      0.001154   \n",
      "4   0.010042           0.007938          0.045339    0.002051      0.000560   \n",
      "\n",
      "   uniformity  entropy  \n",
      "0    0.000275  1.17560  \n",
      "1    0.000075  0.69659  \n",
      "2    0.000038  0.44348  \n",
      "3    0.000066  0.58785  \n",
      "4    0.000024  0.34214  \n"
     ]
    }
   ],
   "source": [
    "filename = \"leaf.csv\"\n",
    "load_data(filename)"
   ]
  },
  {
   "cell_type": "code",
   "execution_count": null,
   "id": "ee6c78d7-6672-4047-bf7c-3b94f52770bd",
   "metadata": {
    "papermill": {
     "duration": 0.000919,
     "end_time": "2024-01-08T16:11:29.904481",
     "exception": false,
     "start_time": "2024-01-08T16:11:29.903562",
     "status": "completed"
    },
    "tags": []
   },
   "outputs": [],
   "source": []
  }
 ],
 "metadata": {
  "kernelspec": {
   "display_name": "Python 3 (ipykernel)",
   "language": "python",
   "name": "python3"
  },
  "language_info": {
   "codemirror_mode": {
    "name": "ipython",
    "version": 3
   },
   "file_extension": ".py",
   "mimetype": "text/x-python",
   "name": "python",
   "nbconvert_exporter": "python",
   "pygments_lexer": "ipython3",
   "version": "3.8.13"
  },
  "papermill": {
   "default_parameters": {},
   "duration": 2.287564,
   "end_time": "2024-01-08T16:11:30.323189",
   "environment_variables": {},
   "exception": null,
   "input_path": "/home/jovyan/tutorial/tabular/training/artifacts/load_data.ipynb",
   "output_path": "/home/jovyan/tutorial/tabular/training/artifacts/load_data.ipynb",
   "parameters": {},
   "start_time": "2024-01-08T16:11:28.035625",
   "version": "2.3.4"
  }
 },
 "nbformat": 4,
 "nbformat_minor": 5
}