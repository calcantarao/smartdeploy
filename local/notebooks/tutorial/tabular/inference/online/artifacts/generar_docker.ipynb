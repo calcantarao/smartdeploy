{
 "cells": [
  {
   "cell_type": "code",
   "execution_count": 9,
   "id": "d43c37c9-cfc4-481c-981e-0b19757b5d5e",
   "metadata": {
    "tags": []
   },
   "outputs": [
    {
     "name": "stdout",
     "output_type": "stream",
     "text": [
      "[0.   0.16 0.   0.   0.   0.   0.12 0.   0.   0.   0.   0.   0.02 0.12\n",
      " 0.   0.06 0.   0.   0.   0.06 0.08 0.   0.   0.   0.   0.32 0.06 0.\n",
      " 0.   0.  ]\n",
      "30\n",
      "[32 11 12  9  1  1 36 27 13 29  9  8  1 31  7 24 13 34 14 24  1  1 34 34\n",
      "  8]\n"
     ]
    }
   ],
   "source": [
    "import subprocess\n",
    "import pandas as pd\n",
    "import json\n",
    "import shutil\n",
    "import mlflow\n",
    "\n",
    "def generate_dockerfile(model_name, model_version):\n",
    "    model_uri = f\"models:/{model_name}/{model_version}\"\n",
    "    subprocess.run([\"mlflow\", \"models\", \"generate-dockerfile\", \"-m\", model_uri])\n",
    "\n",
    "def generate_input_json(filename, n_samples=5):\n",
    "    \n",
    "    df = pd.read_csv(filename)\n",
    "    request = df.head(n_samples).to_dict('records')\n",
    "\n",
    "    data = {\"dataframe_records\": request}\n",
    "\n",
    "    with open('input.json', 'w') as f:\n",
    "        json.dump(data, f)\n",
    "        \n",
    "\n",
    "def generate_predictions(model_name, model_version, X_inference):\n",
    "    model = mlflow.sklearn.load_model(model_uri=f\"models:/{model_name}/{model_version}\")\n",
    "    predictions = model.predict_proba(X_inference).tolist()  # Converting numpy array to list\n",
    "    print(f\"{model.predict_proba(X_inference, )[0]}\")\n",
    "    print(f\"{len(model.predict_proba(X_inference)[0])}\")\n",
    "    print(f\"{model.predict(X_inference)}\")\n",
    "    output = json.dumps({\"predictions\": predictions})  # Converting list to JSON\n",
    "    with open('predictions.txt', 'w') as f:\n",
    "        f.write(f\"{output}\\n\")\n",
    "\n",
    "            \n",
    "def generate_instructions(model_name, model_version):\n",
    "    instructions = (\n",
    "        f\"# Para crear la imagen Docker ejecutar el siguiente comando:\\n\"\n",
    "        f\"docker build -t {model_name.lower()}_{model_version} .\\n\\n\"\n",
    "        f\"# Para iniciar la imagen Docker como API del modelo, ejecutar:\\n\"\n",
    "        f\"docker run -it -p 5002:8080 {model_name.lower()}_{model_version}\\n\\n\"\n",
    "        f\"# Para probar el API del modelo creado, ejecutar:\\n\"\n",
    "        \"curl -X POST -H \\\"Content-Type:application/json\\\" -d @input.json http://localhost:5002/invocations > api_predictions.txt && printf '\\\\n' >> api_predictions.txt\\n\\n\"\n",
    "        \"# Las predicciones en api_predictions.txt deben coincidir con el archivo predictions.txt\\n\"\n",
    "        \"# Opcionalmente puedes ejecutar el siguiente comando para ver si hay diferencias.\\n\"\n",
    "        \"diff -w api_predictions.txt predictions.txt\"\n",
    "    )\n",
    "    with open(\"instructions.txt\", \"w\") as f:\n",
    "        f.write(instructions)\n",
    "\n",
    "\n",
    "def create_zip():\n",
    "    shutil.copy('input.json', 'mlflow-dockerfile')\n",
    "    shutil.copy('predictions.txt', 'mlflow-dockerfile')\n",
    "    shutil.copy('instructions.txt', 'mlflow-dockerfile')\n",
    "    shutil.make_archive('model', 'zip', 'mlflow-dockerfile')\n",
    "\n",
    "model_name = \"extratree\"  \n",
    "model_version = \"20\"\n",
    "filename = \"X_inference.csv\"\n",
    "\n",
    "n_samples = 25\n",
    "generate_dockerfile(model_name, model_version)\n",
    "generate_input_json(filename, n_samples=n_samples)\n",
    "X_inference = pd.read_csv(filename).head(n_samples)\n",
    "generate_predictions(model_name, model_version, X_inference)\n",
    "generate_instructions(model_name, model_version)\n",
    "create_zip()\n"
   ]
  },
  {
   "cell_type": "code",
   "execution_count": null,
   "id": "c0213778-ab63-408a-94cf-a44f429f5b39",
   "metadata": {},
   "outputs": [],
   "source": []
  }
 ],
 "metadata": {
  "kernelspec": {
   "display_name": "Python 3 (ipykernel)",
   "language": "python",
   "name": "python3"
  },
  "language_info": {
   "codemirror_mode": {
    "name": "ipython",
    "version": 3
   },
   "file_extension": ".py",
   "mimetype": "text/x-python",
   "name": "python",
   "nbconvert_exporter": "python",
   "pygments_lexer": "ipython3",
   "version": "3.8.13"
  }
 },
 "nbformat": 4,
 "nbformat_minor": 5
}
