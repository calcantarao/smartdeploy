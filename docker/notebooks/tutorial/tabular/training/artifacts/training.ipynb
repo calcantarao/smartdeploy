{
 "cells": [
  {
   "cell_type": "markdown",
   "id": "e2af0738-9acb-48e5-aa14-06c492c7ea0c",
   "metadata": {
    "papermill": {
     "duration": 0.004204,
     "end_time": "2023-12-14T17:09:02.412204",
     "exception": false,
     "start_time": "2023-12-14T17:09:02.408000",
     "status": "completed"
    },
    "tags": []
   },
   "source": [
    "## Entrenamiento\n",
    "\n",
    "Entrenar el modelo usando la data preprocesada"
   ]
  },
  {
   "cell_type": "code",
   "execution_count": 1,
   "id": "6da777a8-af37-4aaf-93bd-d497bd8c3408",
   "metadata": {
    "execution": {
     "iopub.execute_input": "2023-12-14T17:09:02.429698Z",
     "iopub.status.busy": "2023-12-14T17:09:02.429293Z",
     "iopub.status.idle": "2023-12-14T17:09:03.808485Z",
     "shell.execute_reply": "2023-12-14T17:09:03.807092Z"
    },
    "papermill": {
     "duration": 1.387433,
     "end_time": "2023-12-14T17:09:03.811131",
     "exception": false,
     "start_time": "2023-12-14T17:09:02.423698",
     "status": "completed"
    },
    "tags": []
   },
   "outputs": [],
   "source": [
    "import mlflow\n",
    "import numpy as np\n",
    "import pandas as pd\n",
    "\n",
    "from sklearn.ensemble import ExtraTreesClassifier\n",
    "from mlflow.models.signature import infer_signature\n",
    "\n",
    "\n",
    "def training(n_estimators=10, random_state=42):\n",
    "    with mlflow.start_run(run_name='training') as mlrun:\n",
    "        np.random.seed(random_state)\n",
    "        X_train = pd.read_csv(\"X_train.csv\")\n",
    "        X_test = pd.read_csv(\"X_test.csv\")\n",
    "        y_train = pd.read_csv(\"y_train.csv\")\n",
    "        y_test = pd.read_csv(\"y_test.csv\")\n",
    "\n",
    "        model = ExtraTreesClassifier(n_estimators=n_estimators, n_jobs=-1)\n",
    "\n",
    "        mlflow.log_param(key='n_estimators_model', value=n_estimators)\n",
    "        mlflow.log_param(key='random_state_model', value=random_state)\n",
    "\n",
    "        # evaluate pipeline on test dataset\n",
    "        model.fit(X_train, y_train.values.ravel())\n",
    "        test_acc = model.score(X_test, y_test.values.ravel())\n",
    "        mlflow.log_metric(\"test_acc\", round(test_acc, 3))\n",
    "        \n",
    "        print(f'Accuracy: {round(test_acc, 3)}')\n",
    "\n",
    "        model_name = \"extratree\"\n",
    "        signature = infer_signature(X_train, model.predict(X_train))\n",
    "        mlflow.sklearn.log_model(model, artifact_path=model_name, \n",
    "                                 signature=signature, \n",
    "                                 registered_model_name=model_name)"
   ]
  },
  {
   "cell_type": "code",
   "execution_count": 2,
   "id": "85c03c36-6c81-4c77-8907-2d1c5b0365ca",
   "metadata": {
    "execution": {
     "iopub.execute_input": "2023-12-14T17:09:03.828189Z",
     "iopub.status.busy": "2023-12-14T17:09:03.827281Z",
     "iopub.status.idle": "2023-12-14T17:09:07.942479Z",
     "shell.execute_reply": "2023-12-14T17:09:07.941437Z"
    },
    "papermill": {
     "duration": 4.129381,
     "end_time": "2023-12-14T17:09:07.944253",
     "exception": false,
     "start_time": "2023-12-14T17:09:03.814872",
     "status": "completed"
    },
    "tags": []
   },
   "outputs": [
    {
     "name": "stdout",
     "output_type": "stream",
     "text": [
      "Accuracy: 0.75\n"
     ]
    },
    {
     "name": "stderr",
     "output_type": "stream",
     "text": [
      "/opt/conda/lib/python3.8/site-packages/_distutils_hack/__init__.py:33: UserWarning: Setuptools is replacing distutils.\n",
      "  warnings.warn(\"Setuptools is replacing distutils.\")\n"
     ]
    },
    {
     "name": "stderr",
     "output_type": "stream",
     "text": [
      "Registered model 'extratree' already exists. Creating a new version of this model...\n",
      "2023/12/14 17:09:07 INFO mlflow.tracking._model_registry.client: Waiting up to 300 seconds for model version to finish creation.                     Model name: extratree, version 24\n"
     ]
    },
    {
     "name": "stderr",
     "output_type": "stream",
     "text": [
      "Created version '24' of model 'extratree'.\n"
     ]
    }
   ],
   "source": [
    "training(n_estimators=50)"
   ]
  },
  {
   "cell_type": "code",
   "execution_count": null,
   "id": "c69059c4-a4bd-495c-b271-7a00a15e9e44",
   "metadata": {
    "papermill": {
     "duration": 0.003984,
     "end_time": "2023-12-14T17:09:07.951424",
     "exception": false,
     "start_time": "2023-12-14T17:09:07.947440",
     "status": "completed"
    },
    "tags": []
   },
   "outputs": [],
   "source": []
  }
 ],
 "metadata": {
  "kernelspec": {
   "display_name": "Python 3 (ipykernel)",
   "language": "python",
   "name": "python3"
  },
  "language_info": {
   "codemirror_mode": {
    "name": "ipython",
    "version": 3
   },
   "file_extension": ".py",
   "mimetype": "text/x-python",
   "name": "python",
   "nbconvert_exporter": "python",
   "pygments_lexer": "ipython3",
   "version": "3.8.13"
  },
  "papermill": {
   "default_parameters": {},
   "duration": 7.455867,
   "end_time": "2023-12-14T17:09:08.575805",
   "environment_variables": {},
   "exception": null,
   "input_path": "/home/jovyan/tutorial/tabular/training/artifacts/training.ipynb",
   "output_path": "/home/jovyan/tutorial/tabular/training/artifacts/training.ipynb",
   "parameters": {},
   "start_time": "2023-12-14T17:09:01.119938",
   "version": "2.3.4"
  },
  "widgets": {
   "application/vnd.jupyter.widget-state+json": {
    "state": {
     "7bed244c6d784e33ae379d63a991144b": {
      "model_module": "@jupyter-widgets/controls",
      "model_module_version": "1.5.0",
      "model_name": "DescriptionStyleModel",
      "state": {
       "_model_module": "@jupyter-widgets/controls",
       "_model_module_version": "1.5.0",
       "_model_name": "DescriptionStyleModel",
       "_view_count": null,
       "_view_module": "@jupyter-widgets/base",
       "_view_module_version": "1.2.0",
       "_view_name": "StyleView",
       "description_width": ""
      }
     },
     "8091593cf82546e6b62c0b04f1886ff7": {
      "model_module": "@jupyter-widgets/base",
      "model_module_version": "1.2.0",
      "model_name": "LayoutModel",
      "state": {
       "_model_module": "@jupyter-widgets/base",
       "_model_module_version": "1.2.0",
       "_model_name": "LayoutModel",
       "_view_count": null,
       "_view_module": "@jupyter-widgets/base",
       "_view_module_version": "1.2.0",
       "_view_name": "LayoutView",
       "align_content": null,
       "align_items": null,
       "align_self": null,
       "border": null,
       "bottom": null,
       "display": null,
       "flex": null,
       "flex_flow": null,
       "grid_area": null,
       "grid_auto_columns": null,
       "grid_auto_flow": null,
       "grid_auto_rows": null,
       "grid_column": null,
       "grid_gap": null,
       "grid_row": null,
       "grid_template_areas": null,
       "grid_template_columns": null,
       "grid_template_rows": null,
       "height": null,
       "justify_content": null,
       "justify_items": null,
       "left": null,
       "margin": null,
       "max_height": null,
       "max_width": null,
       "min_height": null,
       "min_width": null,
       "object_fit": null,
       "object_position": null,
       "order": null,
       "overflow": null,
       "overflow_x": null,
       "overflow_y": null,
       "padding": null,
       "right": null,
       "top": null,
       "visibility": null,
       "width": null
      }
     },
     "8967925e98ff4ab89c36d2582dfa1cca": {
      "model_module": "@jupyter-widgets/controls",
      "model_module_version": "1.5.0",
      "model_name": "HTMLModel",
      "state": {
       "_dom_classes": [],
       "_model_module": "@jupyter-widgets/controls",
       "_model_module_version": "1.5.0",
       "_model_name": "HTMLModel",
       "_view_count": null,
       "_view_module": "@jupyter-widgets/controls",
       "_view_module_version": "1.5.0",
       "_view_name": "HTMLView",
       "description": "",
       "description_tooltip": null,
       "layout": "IPY_MODEL_f71cc52650174f65aafeec41472ebfee",
       "placeholder": "​",
       "style": "IPY_MODEL_c835e09bfa1641f9b354f355d39da356",
       "value": "Single Dataset Integrity Suite: 100%"
      }
     },
     "c835e09bfa1641f9b354f355d39da356": {
      "model_module": "@jupyter-widgets/controls",
      "model_module_version": "1.5.0",
      "model_name": "DescriptionStyleModel",
      "state": {
       "_model_module": "@jupyter-widgets/controls",
       "_model_module_version": "1.5.0",
       "_model_name": "DescriptionStyleModel",
       "_view_count": null,
       "_view_module": "@jupyter-widgets/base",
       "_view_module_version": "1.2.0",
       "_view_name": "StyleView",
       "description_width": ""
      }
     },
     "c8720071d1864ac0b52776a6371d9162": {
      "model_module": "@jupyter-widgets/controls",
      "model_module_version": "1.5.0",
      "model_name": "HTMLModel",
      "state": {
       "_dom_classes": [],
       "_model_module": "@jupyter-widgets/controls",
       "_model_module_version": "1.5.0",
       "_model_name": "HTMLModel",
       "_view_count": null,
       "_view_module": "@jupyter-widgets/controls",
       "_view_module_version": "1.5.0",
       "_view_name": "HTMLView",
       "description": "",
       "description_tooltip": null,
       "layout": "IPY_MODEL_d295af09a4d74b22bb4e6afb4a7270d6",
       "placeholder": "​",
       "style": "IPY_MODEL_7bed244c6d784e33ae379d63a991144b",
       "value": " 9/9 [00:00&lt;00:00, 87.64 Check/s, Check=Outlier Sample Detection]"
      }
     },
     "cc7d83a8a06e46308afe3ee4a15189f7": {
      "model_module": "@jupyter-widgets/controls",
      "model_module_version": "1.5.0",
      "model_name": "HBoxModel",
      "state": {
       "_dom_classes": [],
       "_model_module": "@jupyter-widgets/controls",
       "_model_module_version": "1.5.0",
       "_model_name": "HBoxModel",
       "_view_count": null,
       "_view_module": "@jupyter-widgets/controls",
       "_view_module_version": "1.5.0",
       "_view_name": "HBoxView",
       "box_style": "",
       "children": [
        "IPY_MODEL_8967925e98ff4ab89c36d2582dfa1cca",
        "IPY_MODEL_da641388ab7e4a9dbddd10f1e80a6131",
        "IPY_MODEL_c8720071d1864ac0b52776a6371d9162"
       ],
       "layout": "IPY_MODEL_8091593cf82546e6b62c0b04f1886ff7"
      }
     },
     "d295af09a4d74b22bb4e6afb4a7270d6": {
      "model_module": "@jupyter-widgets/base",
      "model_module_version": "1.2.0",
      "model_name": "LayoutModel",
      "state": {
       "_model_module": "@jupyter-widgets/base",
       "_model_module_version": "1.2.0",
       "_model_name": "LayoutModel",
       "_view_count": null,
       "_view_module": "@jupyter-widgets/base",
       "_view_module_version": "1.2.0",
       "_view_name": "LayoutView",
       "align_content": null,
       "align_items": null,
       "align_self": null,
       "border": null,
       "bottom": null,
       "display": null,
       "flex": null,
       "flex_flow": null,
       "grid_area": null,
       "grid_auto_columns": null,
       "grid_auto_flow": null,
       "grid_auto_rows": null,
       "grid_column": null,
       "grid_gap": null,
       "grid_row": null,
       "grid_template_areas": null,
       "grid_template_columns": null,
       "grid_template_rows": null,
       "height": null,
       "justify_content": null,
       "justify_items": null,
       "left": null,
       "margin": null,
       "max_height": null,
       "max_width": null,
       "min_height": null,
       "min_width": null,
       "object_fit": null,
       "object_position": null,
       "order": null,
       "overflow": null,
       "overflow_x": null,
       "overflow_y": null,
       "padding": null,
       "right": null,
       "top": null,
       "visibility": null,
       "width": null
      }
     },
     "da641388ab7e4a9dbddd10f1e80a6131": {
      "model_module": "@jupyter-widgets/controls",
      "model_module_version": "1.5.0",
      "model_name": "FloatProgressModel",
      "state": {
       "_dom_classes": [],
       "_model_module": "@jupyter-widgets/controls",
       "_model_module_version": "1.5.0",
       "_model_name": "FloatProgressModel",
       "_view_count": null,
       "_view_module": "@jupyter-widgets/controls",
       "_view_module_version": "1.5.0",
       "_view_name": "ProgressView",
       "bar_style": "",
       "description": "",
       "description_tooltip": null,
       "layout": "IPY_MODEL_f0e909723a0c4a4ba58cef51c58336d3",
       "max": 9,
       "min": 0,
       "orientation": "horizontal",
       "style": "IPY_MODEL_f7485c5e87794d8c9a5621843769a037",
       "value": 9
      }
     },
     "f0e909723a0c4a4ba58cef51c58336d3": {
      "model_module": "@jupyter-widgets/base",
      "model_module_version": "1.2.0",
      "model_name": "LayoutModel",
      "state": {
       "_model_module": "@jupyter-widgets/base",
       "_model_module_version": "1.2.0",
       "_model_name": "LayoutModel",
       "_view_count": null,
       "_view_module": "@jupyter-widgets/base",
       "_view_module_version": "1.2.0",
       "_view_name": "LayoutView",
       "align_content": null,
       "align_items": null,
       "align_self": null,
       "border": null,
       "bottom": null,
       "display": null,
       "flex": null,
       "flex_flow": null,
       "grid_area": null,
       "grid_auto_columns": null,
       "grid_auto_flow": null,
       "grid_auto_rows": null,
       "grid_column": null,
       "grid_gap": null,
       "grid_row": null,
       "grid_template_areas": null,
       "grid_template_columns": null,
       "grid_template_rows": null,
       "height": null,
       "justify_content": null,
       "justify_items": null,
       "left": null,
       "margin": null,
       "max_height": null,
       "max_width": null,
       "min_height": null,
       "min_width": null,
       "object_fit": null,
       "object_position": null,
       "order": null,
       "overflow": null,
       "overflow_x": null,
       "overflow_y": null,
       "padding": null,
       "right": null,
       "top": null,
       "visibility": null,
       "width": null
      }
     },
     "f71cc52650174f65aafeec41472ebfee": {
      "model_module": "@jupyter-widgets/base",
      "model_module_version": "1.2.0",
      "model_name": "LayoutModel",
      "state": {
       "_model_module": "@jupyter-widgets/base",
       "_model_module_version": "1.2.0",
       "_model_name": "LayoutModel",
       "_view_count": null,
       "_view_module": "@jupyter-widgets/base",
       "_view_module_version": "1.2.0",
       "_view_name": "LayoutView",
       "align_content": null,
       "align_items": null,
       "align_self": null,
       "border": null,
       "bottom": null,
       "display": null,
       "flex": null,
       "flex_flow": null,
       "grid_area": null,
       "grid_auto_columns": null,
       "grid_auto_flow": null,
       "grid_auto_rows": null,
       "grid_column": null,
       "grid_gap": null,
       "grid_row": null,
       "grid_template_areas": null,
       "grid_template_columns": null,
       "grid_template_rows": null,
       "height": null,
       "justify_content": null,
       "justify_items": null,
       "left": null,
       "margin": null,
       "max_height": null,
       "max_width": null,
       "min_height": null,
       "min_width": null,
       "object_fit": null,
       "object_position": null,
       "order": null,
       "overflow": null,
       "overflow_x": null,
       "overflow_y": null,
       "padding": null,
       "right": null,
       "top": null,
       "visibility": null,
       "width": null
      }
     },
     "f7485c5e87794d8c9a5621843769a037": {
      "model_module": "@jupyter-widgets/controls",
      "model_module_version": "1.5.0",
      "model_name": "ProgressStyleModel",
      "state": {
       "_model_module": "@jupyter-widgets/controls",
       "_model_module_version": "1.5.0",
       "_model_name": "ProgressStyleModel",
       "_view_count": null,
       "_view_module": "@jupyter-widgets/base",
       "_view_module_version": "1.2.0",
       "_view_name": "StyleView",
       "bar_color": "#9d60fb",
       "description_width": ""
      }
     }
    },
    "version_major": 2,
    "version_minor": 0
   }
  }
 },
 "nbformat": 4,
 "nbformat_minor": 5
}