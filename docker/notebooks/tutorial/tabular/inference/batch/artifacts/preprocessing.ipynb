{
 "cells": [
  {
   "cell_type": "markdown",
   "id": "0c68c54b-f12d-4910-9693-b0dd4b6c290f",
   "metadata": {
    "papermill": {
     "duration": 0.00161,
     "end_time": "2023-03-21T15:14:39.193760",
     "exception": false,
     "start_time": "2023-03-21T15:14:39.192150",
     "status": "completed"
    },
    "tags": []
   },
   "source": [
    "# Preprocesamiento"
   ]
  },
  {
   "cell_type": "code",
   "execution_count": 1,
   "id": "208e5fb6-25f1-496c-bf32-ea53bea4d426",
   "metadata": {
    "execution": {
     "iopub.execute_input": "2023-03-21T15:14:39.197674Z",
     "iopub.status.busy": "2023-03-21T15:14:39.196923Z",
     "iopub.status.idle": "2023-03-21T15:14:39.995068Z",
     "shell.execute_reply": "2023-03-21T15:14:39.994286Z"
    },
    "papermill": {
     "duration": 0.802146,
     "end_time": "2023-03-21T15:14:39.997070",
     "exception": false,
     "start_time": "2023-03-21T15:14:39.194924",
     "status": "completed"
    },
    "tags": []
   },
   "outputs": [],
   "source": [
    "import mlflow\n",
    "import pandas as pd\n",
    "import sys, os\n",
    "\n",
    "sys.path.insert(1, os.path.join(sys.path[0], '..'))\n",
    "\n",
    "# Here we dont have y, only X\n",
    "def preprocessing(filename):\n",
    "    with mlflow.start_run(run_name='preprocessing') as mlrun:\n",
    "        # Some preprocessing steps here\n",
    "        df = pd.read_csv(filename)\n",
    "        df_cleaned = df.loc[:, df.columns != 'specimen_number'].copy()\n",
    "        df_cleaned[df_cleaned.columns] = df_cleaned[df_cleaned.columns].astype(float)\n",
    "        df_cleaned.to_csv('preprocessed_data.csv', index=False)\n",
    "        mlflow.log_artifact('preprocessed_data.csv')\n",
    "\n",
    "        # logging\n",
    "        mlflow.log_param(key='n_samples', value=len(df_cleaned))\n",
    "        mlflow.log_param(key='n_features', value=len(df_cleaned.columns))"
   ]
  },
  {
   "cell_type": "code",
   "execution_count": 2,
   "id": "ac07185e-cdbf-433a-9ae0-5c66e6571a39",
   "metadata": {
    "execution": {
     "iopub.execute_input": "2023-03-21T15:14:40.000658Z",
     "iopub.status.busy": "2023-03-21T15:14:40.000090Z",
     "iopub.status.idle": "2023-03-21T15:14:40.906976Z",
     "shell.execute_reply": "2023-03-21T15:14:40.906283Z"
    },
    "papermill": {
     "duration": 0.910545,
     "end_time": "2023-03-21T15:14:40.908799",
     "exception": false,
     "start_time": "2023-03-21T15:14:39.998254",
     "status": "completed"
    },
    "tags": []
   },
   "outputs": [],
   "source": [
    "filename = \"data.csv\"\n",
    "preprocessing(filename)"
   ]
  },
  {
   "cell_type": "code",
   "execution_count": null,
   "id": "aa7c6676-29e5-4163-9515-4b0f42b32184",
   "metadata": {
    "papermill": {
     "duration": 0.000941,
     "end_time": "2023-03-21T15:14:40.910914",
     "exception": false,
     "start_time": "2023-03-21T15:14:40.909973",
     "status": "completed"
    },
    "tags": []
   },
   "outputs": [],
   "source": []
  }
 ],
 "metadata": {
  "kernelspec": {
   "display_name": "Python 3 (ipykernel)",
   "language": "python",
   "name": "python3"
  },
  "language_info": {
   "codemirror_mode": {
    "name": "ipython",
    "version": 3
   },
   "file_extension": ".py",
   "mimetype": "text/x-python",
   "name": "python",
   "nbconvert_exporter": "python",
   "pygments_lexer": "ipython3",
   "version": "3.8.13"
  },
  "papermill": {
   "default_parameters": {},
   "duration": 3.013339,
   "end_time": "2023-03-21T15:14:41.328638",
   "environment_variables": {},
   "exception": null,
   "input_path": "/home/jovyan/tutorial/tabular/inference/batch/artifacts/preprocessing.ipynb",
   "output_path": "/home/jovyan/tutorial/tabular/inference/batch/artifacts/preprocessing.ipynb",
   "parameters": {},
   "start_time": "2023-03-21T15:14:38.315299",
   "version": "2.3.4"
  }
 },
 "nbformat": 4,
 "nbformat_minor": 5
}
